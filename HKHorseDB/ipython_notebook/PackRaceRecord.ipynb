{
 "cells": [
  {
   "cell_type": "code",
   "execution_count": 39,
   "metadata": {
    "collapsed": true
   },
   "outputs": [],
   "source": [
    "%matplotlib inline\n",
    "from bs4 import BeautifulSoup\n",
    "from html.parser import HTMLParser\n",
    "import pandas as pd\n",
    "import numpy\n",
    "from sklearn.model_selection import train_test_split\n",
    "\n",
    "from datetime import datetime\n",
    "import os\n",
    "import os.path\n",
    "import sys\n",
    "import pickle\n",
    "import pprint\n",
    "import time\n",
    "import urllib.request, urllib.parse, urllib.error\n",
    "from urllib import request as urlrequest\n",
    "\n",
    "import matplotlib\n",
    "import numpy as np\n",
    "import matplotlib.pyplot as plt\n",
    "\n",
    "import helper"
   ]
  },
  {
   "cell_type": "code",
   "execution_count": null,
   "metadata": {
    "collapsed": true
   },
   "outputs": [],
   "source": []
  },
  {
   "cell_type": "code",
   "execution_count": 40,
   "metadata": {
    "collapsed": true
   },
   "outputs": [],
   "source": [
    "def ldf_display(df, lines=500):\n",
    "    txt = (\"<iframe \" +\n",
    "           \"srcdoc='\" + df.head(lines).to_html() + \"' \" +\n",
    "           \"width=1000 height=500>\" +\n",
    "           \"</iframe>\")\n",
    "\n",
    "    return IPython.display.HTML(txt)"
   ]
  },
  {
   "cell_type": "code",
   "execution_count": 41,
   "metadata": {},
   "outputs": [
    {
     "name": "stdout",
     "output_type": "stream",
     "text": [
      "/Users/chris.chan/project/TradingProjects/HKHorseDB/data/cache\n"
     ]
    }
   ],
   "source": [
    "current_path = os.getcwd()\n",
    "project_path = os.path.dirname(current_path)\n",
    "print(project_path+\"/data/cache\")"
   ]
  },
  {
   "cell_type": "code",
   "execution_count": 42,
   "metadata": {
    "collapsed": true
   },
   "outputs": [],
   "source": [
    "html_cache = project_path+\"/data/cache\"\n",
    "save_path = project_path+\"/data/race_records\"\n",
    "summary_path = project_path+\"/data/race_summary\""
   ]
  },
  {
   "cell_type": "code",
   "execution_count": 43,
   "metadata": {},
   "outputs": [
    {
     "name": "stdout",
     "output_type": "stream",
     "text": [
      "/Users/chris.chan/project/TradingProjects/HKHorseDB/data/cache/http%3A__hk.racing.nextmedia.com_fullresult.php%3Fdate%3D20130206%26page%3D05\n"
     ]
    }
   ],
   "source": [
    "def get_cache_path(url):\n",
    "    url_path = urllib.parse.quote(url).replace('/', '_')\n",
    "    file_path = \"{}/{}\".format(html_cache, url_path)\n",
    "    return file_path\n",
    "\n",
    "demo_url = get_cache_path(\"http://hk.racing.nextmedia.com/fullresult.php?date=20130206&page=05\")\n",
    "print(demo_url)\n",
    "\n",
    "def is_cache_html(url):\n",
    "    filepath = get_cache_path(url)\n",
    "    if(os.path.isfile(filepath)):\n",
    "        return True\n",
    "    else:\n",
    "        return False"
   ]
  },
  {
   "cell_type": "code",
   "execution_count": 44,
   "metadata": {
    "collapsed": true
   },
   "outputs": [],
   "source": [
    "def get_cache_html(url):\n",
    "    filepath = get_cache_path(url)\n",
    "    if(os.path.isfile(filepath)):\n",
    "        print(\"url = {} exist in cache\".format(url))\n",
    "        with open(filepath, 'r') as io_file:\n",
    "            html = io_file.read()        \n",
    "        return html\n",
    "    else:\n",
    "        print(\"url = {} not exist in cache\".format(url))\n",
    "        return None"
   ]
  },
  {
   "cell_type": "code",
   "execution_count": 45,
   "metadata": {
    "collapsed": true
   },
   "outputs": [],
   "source": [
    "def acquire_total_race(date_str):\n",
    "    url = 'http://hk.racing.nextmedia.com/fullresult.php?date={}&page=01'.format(date_str)\n",
    "\n",
    "    if is_cache_html(url):\n",
    "        html = get_cache_html(url)\n",
    "    else:\n",
    "        html = get(url)\n",
    "        html = str(html, 'utf-8')\n",
    "        set_cache_html(url, html)\n",
    "        \n",
    "    soup = BeautifulSoup(html, \"html.parser\")\n",
    "    try:\n",
    "        return len(soup.findAll('table')[1].findAll('tr')[0].findAll('td')[0].findAll('a', href=True))\n",
    "    except Exception as err:\n",
    "        return -1\n",
    "\n",
    "def get_race_date_array():\n",
    "    url = 'http://www.hkhorsedb.com/cseh/passodds.php'\n",
    "    \n",
    "    if is_cache_html(url):\n",
    "        html = get_cache_html(url)\n",
    "    else:\n",
    "        html = get(url)\n",
    "        html = str(html, 'big5')\n",
    "        set_cache_html(url, html)\n",
    "        \n",
    "    soup = BeautifulSoup(html, \"html.parser\")\n",
    "    tr_list = soup.findAll('table')[15].findAll('tr')[1:]\n",
    "    \n",
    "    race_date_array = []\n",
    "    \n",
    "    for i in range(0, len(tr_list)-1):\n",
    "        tr = tr_list[i]\n",
    "        tds = tr.findAll('td')\n",
    "        \n",
    "        for j in range(0, len(tds)):\n",
    "            detail_date = tds[j].text\n",
    "            \n",
    "            if (detail_date != \"-\"):\n",
    "                normal_data = ''.join(reversed(detail_date.split('-')))\n",
    "                \n",
    "                if(normal_data != \"\"):\n",
    "                    race_date_array.append(normal_data)\n",
    "    \n",
    "    return race_date_array\n",
    "    \n"
   ]
  },
  {
   "cell_type": "code",
   "execution_count": 46,
   "metadata": {},
   "outputs": [
    {
     "name": "stdout",
     "output_type": "stream",
     "text": [
      "['20170625', '20170621', '20170618', '20170614', '20170611', '20170607', '20170604', '20170531', '20170528', '20170524']\n",
      "['20051120', '20051116', '20051113', '20051109', '20051105', '20051101', '20051030', '20051026', '20051022', '20051019']\n"
     ]
    }
   ],
   "source": [
    "use_cache_race_date_array = True\n",
    "\n",
    "if use_cache_race_date_array:\n",
    "    race_date_array = pickle.load( open( \"data/race_date_array.p\", \"rb\" ) )\n",
    "else:\n",
    "    race_date_array = get_race_date_array()\n",
    "    pickle.dump( race_date_array, open( \"data/race_date_array.p\", \"wb\" ) )\n",
    "\n",
    "print(race_date_array[0:10])\n",
    "print(race_date_array[-10:])"
   ]
  },
  {
   "cell_type": "code",
   "execution_count": 47,
   "metadata": {
    "collapsed": true
   },
   "outputs": [],
   "source": [
    "race_date = race_date_array[0]"
   ]
  },
  {
   "cell_type": "code",
   "execution_count": 48,
   "metadata": {},
   "outputs": [
    {
     "name": "stdout",
     "output_type": "stream",
     "text": [
      "url = http://hk.racing.nextmedia.com/fullresult.php?date=20170625&page=01 exist in cache\n"
     ]
    }
   ],
   "source": [
    "count = acquire_total_race(race_date)"
   ]
  },
  {
   "cell_type": "code",
   "execution_count": 49,
   "metadata": {
    "collapsed": true
   },
   "outputs": [],
   "source": [
    "def create_csv_array():\n",
    "    csv_array = []\n",
    "\n",
    "    for race_date in race_date_array:\n",
    "        for index in range(1, count+1):\n",
    "            race_index = str(index).zfill(2)\n",
    "            filename = '{}_{}'.format(race_date, race_index)\n",
    "#             print(filename)\n",
    "            csv_array.append(filename)\n",
    "\n",
    "    return csv_array"
   ]
  },
  {
   "cell_type": "code",
   "execution_count": 50,
   "metadata": {},
   "outputs": [
    {
     "name": "stdout",
     "output_type": "stream",
     "text": [
      "9530\n",
      "['20170625_01', '20170625_02', '20170625_03', '20170625_04', '20170625_05', '20170625_06', '20170625_07', '20170625_08', '20170625_09', '20170625_10', '20170621_01', '20170621_02', '20170621_03', '20170621_04', '20170621_05', '20170621_06', '20170621_07', '20170621_08', '20170621_09', '20170621_10']\n",
      "['20051019_01', '20051019_02', '20051019_03', '20051019_04', '20051019_05', '20051019_06', '20051019_07', '20051019_08', '20051019_09', '20051019_10']\n"
     ]
    }
   ],
   "source": [
    "use_cache_csv_array = True\n",
    "csv_array = []\n",
    "\n",
    "if use_cache_csv_array:\n",
    "    csv_array = pickle.load( open( \"data/race_csv_array.p\", \"rb\" ) )\n",
    "else:\n",
    "    csv_array = create_csv_array()\n",
    "    pickle.dump( csv_array, open( \"data/race_csv_array.p\", \"wb\" ) )\n",
    "    \n",
    "print(len(csv_array))\n",
    "print(csv_array[0:20])\n",
    "print(csv_array[-10:])"
   ]
  },
  {
   "cell_type": "code",
   "execution_count": 51,
   "metadata": {},
   "outputs": [
    {
     "data": {
      "text/html": [
       "<div>\n",
       "<style>\n",
       "    .dataframe thead tr:only-child th {\n",
       "        text-align: right;\n",
       "    }\n",
       "\n",
       "    .dataframe thead th {\n",
       "        text-align: left;\n",
       "    }\n",
       "\n",
       "    .dataframe tbody tr th {\n",
       "        vertical-align: top;\n",
       "    }\n",
       "</style>\n",
       "<table border=\"1\" class=\"dataframe\">\n",
       "  <thead>\n",
       "    <tr style=\"text-align: right;\">\n",
       "      <th></th>\n",
       "      <th>Date</th>\n",
       "      <th>RaceNumber</th>\n",
       "      <th>HorseNo</th>\n",
       "      <th>HorseName</th>\n",
       "      <th>Age</th>\n",
       "      <th>JockeyName</th>\n",
       "      <th>ActualWt</th>\n",
       "      <th>Draw</th>\n",
       "      <th>Rate</th>\n",
       "      <th>Owner</th>\n",
       "      <th>...</th>\n",
       "      <th>WinOddBeforeGate</th>\n",
       "      <th>WinOdd</th>\n",
       "      <th>WinInTenThousand</th>\n",
       "      <th>PInTenThousand</th>\n",
       "      <th>P_Odd</th>\n",
       "      <th>PlaceInMiddle</th>\n",
       "      <th>Place</th>\n",
       "      <th>TimeInMiddle</th>\n",
       "      <th>FinishTime</th>\n",
       "      <th>LBW</th>\n",
       "    </tr>\n",
       "  </thead>\n",
       "  <tbody>\n",
       "    <tr>\n",
       "      <th>0</th>\n",
       "      <td>20170625</td>\n",
       "      <td>1</td>\n",
       "      <td>3</td>\n",
       "      <td>盛勢</td>\n",
       "      <td>4</td>\n",
       "      <td>韋達</td>\n",
       "      <td>132</td>\n",
       "      <td>8</td>\n",
       "      <td>39</td>\n",
       "      <td>葉</td>\n",
       "      <td>...</td>\n",
       "      <td>7.3</td>\n",
       "      <td>6.5</td>\n",
       "      <td>275.0</td>\n",
       "      <td>190.0</td>\n",
       "      <td>2.7</td>\n",
       "      <td>12 10 11</td>\n",
       "      <td>1</td>\n",
       "      <td>14.15 21.63 23.38 23.32</td>\n",
       "      <td>(1.22.48)</td>\n",
       "      <td>頭馬</td>\n",
       "    </tr>\n",
       "    <tr>\n",
       "      <th>1</th>\n",
       "      <td>20170625</td>\n",
       "      <td>1</td>\n",
       "      <td>8</td>\n",
       "      <td>銘記心中</td>\n",
       "      <td>5</td>\n",
       "      <td>李寶利</td>\n",
       "      <td>121</td>\n",
       "      <td>2</td>\n",
       "      <td>28</td>\n",
       "      <td>吳</td>\n",
       "      <td>...</td>\n",
       "      <td>4.0</td>\n",
       "      <td>4.5</td>\n",
       "      <td>395.0</td>\n",
       "      <td>334.0</td>\n",
       "      <td>1.5</td>\n",
       "      <td>3 6 3</td>\n",
       "      <td>2</td>\n",
       "      <td>13.67 21.67 23.34 23.98</td>\n",
       "      <td>(1.22.66)</td>\n",
       "      <td>1-1/4</td>\n",
       "    </tr>\n",
       "    <tr>\n",
       "      <th>2</th>\n",
       "      <td>20170625</td>\n",
       "      <td>1</td>\n",
       "      <td>2</td>\n",
       "      <td>葵涌老友</td>\n",
       "      <td>4</td>\n",
       "      <td>潘明輝</td>\n",
       "      <td>123</td>\n",
       "      <td>6</td>\n",
       "      <td>40</td>\n",
       "      <td>高</td>\n",
       "      <td>...</td>\n",
       "      <td>6.6</td>\n",
       "      <td>8.0</td>\n",
       "      <td>222.0</td>\n",
       "      <td>211.0</td>\n",
       "      <td>2.5</td>\n",
       "      <td>9 7 8</td>\n",
       "      <td>3</td>\n",
       "      <td>13.99 21.59 23.42 23.75</td>\n",
       "      <td>(1.22.75)</td>\n",
       "      <td>1-3/4</td>\n",
       "    </tr>\n",
       "    <tr>\n",
       "      <th>3</th>\n",
       "      <td>20170625</td>\n",
       "      <td>1</td>\n",
       "      <td>11</td>\n",
       "      <td>電訊大炮</td>\n",
       "      <td>4</td>\n",
       "      <td>黃皓楠</td>\n",
       "      <td>108</td>\n",
       "      <td>1</td>\n",
       "      <td>19</td>\n",
       "      <td>徐</td>\n",
       "      <td>...</td>\n",
       "      <td>9.6</td>\n",
       "      <td>8.7</td>\n",
       "      <td>204.0</td>\n",
       "      <td>193.0</td>\n",
       "      <td>2.7</td>\n",
       "      <td>2 4 2</td>\n",
       "      <td>4</td>\n",
       "      <td>13.67 21.51 23.26 24.32</td>\n",
       "      <td>(1.22.76)</td>\n",
       "      <td>1-3/4</td>\n",
       "    </tr>\n",
       "    <tr>\n",
       "      <th>4</th>\n",
       "      <td>20170625</td>\n",
       "      <td>1</td>\n",
       "      <td>6</td>\n",
       "      <td>金武士</td>\n",
       "      <td>5</td>\n",
       "      <td>何澤堯</td>\n",
       "      <td>122</td>\n",
       "      <td>9</td>\n",
       "      <td>31</td>\n",
       "      <td>方</td>\n",
       "      <td>...</td>\n",
       "      <td>11.0</td>\n",
       "      <td>13.0</td>\n",
       "      <td>130.0</td>\n",
       "      <td>121.0</td>\n",
       "      <td>4.3</td>\n",
       "      <td>7 9 9</td>\n",
       "      <td>5</td>\n",
       "      <td>13.83 21.83 23.42 23.86</td>\n",
       "      <td>(1.22.94)</td>\n",
       "      <td>2-3/4</td>\n",
       "    </tr>\n",
       "    <tr>\n",
       "      <th>5</th>\n",
       "      <td>20170625</td>\n",
       "      <td>1</td>\n",
       "      <td>5</td>\n",
       "      <td>好準確</td>\n",
       "      <td>5</td>\n",
       "      <td>郭能</td>\n",
       "      <td>131</td>\n",
       "      <td>12</td>\n",
       "      <td>38</td>\n",
       "      <td>蘇</td>\n",
       "      <td>...</td>\n",
       "      <td>24.0</td>\n",
       "      <td>21.0</td>\n",
       "      <td>83.0</td>\n",
       "      <td>78.0</td>\n",
       "      <td>6.6</td>\n",
       "      <td>13 12 13</td>\n",
       "      <td>6</td>\n",
       "      <td>14.23 21.83 23.18 23.83</td>\n",
       "      <td>(1.23.07)</td>\n",
       "      <td>3-3/4</td>\n",
       "    </tr>\n",
       "    <tr>\n",
       "      <th>6</th>\n",
       "      <td>20170625</td>\n",
       "      <td>1</td>\n",
       "      <td>1</td>\n",
       "      <td>架勢堂</td>\n",
       "      <td>3</td>\n",
       "      <td>祈普敦</td>\n",
       "      <td>133</td>\n",
       "      <td>14</td>\n",
       "      <td>40</td>\n",
       "      <td>摩</td>\n",
       "      <td>...</td>\n",
       "      <td>33.0</td>\n",
       "      <td>20.0</td>\n",
       "      <td>86.0</td>\n",
       "      <td>76.0</td>\n",
       "      <td>6.8</td>\n",
       "      <td>10 11 10</td>\n",
       "      <td>7</td>\n",
       "      <td>14.03 21.83 23.3 24.13</td>\n",
       "      <td>(1.23.29)</td>\n",
       "      <td>5</td>\n",
       "    </tr>\n",
       "    <tr>\n",
       "      <th>7</th>\n",
       "      <td>20170625</td>\n",
       "      <td>1</td>\n",
       "      <td>12</td>\n",
       "      <td>飛壹般</td>\n",
       "      <td>4</td>\n",
       "      <td>楊明綸</td>\n",
       "      <td>111</td>\n",
       "      <td>10</td>\n",
       "      <td>18</td>\n",
       "      <td>李</td>\n",
       "      <td>...</td>\n",
       "      <td>29.0</td>\n",
       "      <td>19.0</td>\n",
       "      <td>92.0</td>\n",
       "      <td>105.0</td>\n",
       "      <td>4.9</td>\n",
       "      <td>11 13 12</td>\n",
       "      <td>8</td>\n",
       "      <td>14.07 21.99 23.18 24.34</td>\n",
       "      <td>(1.23.58)</td>\n",
       "      <td>6-3/4</td>\n",
       "    </tr>\n",
       "    <tr>\n",
       "      <th>8</th>\n",
       "      <td>20170625</td>\n",
       "      <td>1</td>\n",
       "      <td>13</td>\n",
       "      <td>牛魔王</td>\n",
       "      <td>6</td>\n",
       "      <td>賴維銘</td>\n",
       "      <td>113</td>\n",
       "      <td>5</td>\n",
       "      <td>13</td>\n",
       "      <td>告</td>\n",
       "      <td>...</td>\n",
       "      <td>66.0</td>\n",
       "      <td>111.0</td>\n",
       "      <td>16.0</td>\n",
       "      <td>22.0</td>\n",
       "      <td>23.0</td>\n",
       "      <td>14 14 14</td>\n",
       "      <td>9</td>\n",
       "      <td>14.35 21.95 23.06 24.48</td>\n",
       "      <td>(1.23.84)</td>\n",
       "      <td>8-1/2</td>\n",
       "    </tr>\n",
       "    <tr>\n",
       "      <th>9</th>\n",
       "      <td>20170625</td>\n",
       "      <td>1</td>\n",
       "      <td>7</td>\n",
       "      <td>勁伶利</td>\n",
       "      <td>4</td>\n",
       "      <td>潘頓</td>\n",
       "      <td>123</td>\n",
       "      <td>11</td>\n",
       "      <td>30</td>\n",
       "      <td>東</td>\n",
       "      <td>...</td>\n",
       "      <td>22.0</td>\n",
       "      <td>18.0</td>\n",
       "      <td>94.0</td>\n",
       "      <td>97.0</td>\n",
       "      <td>5.4</td>\n",
       "      <td>5 5 6</td>\n",
       "      <td>10</td>\n",
       "      <td>13.67 21.63 23.62 25.05</td>\n",
       "      <td>(1.23.97)</td>\n",
       "      <td>9-1/4</td>\n",
       "    </tr>\n",
       "    <tr>\n",
       "      <th>10</th>\n",
       "      <td>20170625</td>\n",
       "      <td>1</td>\n",
       "      <td>9</td>\n",
       "      <td>幸運坊</td>\n",
       "      <td>6</td>\n",
       "      <td>莫雷拉</td>\n",
       "      <td>118</td>\n",
       "      <td>7</td>\n",
       "      <td>25</td>\n",
       "      <td>鄭</td>\n",
       "      <td>...</td>\n",
       "      <td>4.4</td>\n",
       "      <td>4.4</td>\n",
       "      <td>404.0</td>\n",
       "      <td>288.0</td>\n",
       "      <td>1.8</td>\n",
       "      <td>8 8 7</td>\n",
       "      <td>11</td>\n",
       "      <td>13.91 21.67 23.42 25.04</td>\n",
       "      <td>(1.24.04)</td>\n",
       "      <td>9-3/4</td>\n",
       "    </tr>\n",
       "    <tr>\n",
       "      <th>11</th>\n",
       "      <td>20170625</td>\n",
       "      <td>1</td>\n",
       "      <td>10</td>\n",
       "      <td>好友心</td>\n",
       "      <td>5</td>\n",
       "      <td>麥偉利</td>\n",
       "      <td>117</td>\n",
       "      <td>3</td>\n",
       "      <td>22</td>\n",
       "      <td>文</td>\n",
       "      <td>...</td>\n",
       "      <td>26.0</td>\n",
       "      <td>24.0</td>\n",
       "      <td>72.0</td>\n",
       "      <td>85.0</td>\n",
       "      <td>6.1</td>\n",
       "      <td>4 1 1</td>\n",
       "      <td>12</td>\n",
       "      <td>13.67 21.23 23.42 26.08</td>\n",
       "      <td>(1.24.4)</td>\n",
       "      <td>12</td>\n",
       "    </tr>\n",
       "    <tr>\n",
       "      <th>12</th>\n",
       "      <td>20170625</td>\n",
       "      <td>1</td>\n",
       "      <td>14</td>\n",
       "      <td>大將風速</td>\n",
       "      <td>6</td>\n",
       "      <td>黎海榮</td>\n",
       "      <td>113</td>\n",
       "      <td>13</td>\n",
       "      <td>12</td>\n",
       "      <td>何</td>\n",
       "      <td>...</td>\n",
       "      <td>99.0</td>\n",
       "      <td>144.0</td>\n",
       "      <td>12.0</td>\n",
       "      <td>21.0</td>\n",
       "      <td>24.0</td>\n",
       "      <td>6 3 5</td>\n",
       "      <td>13</td>\n",
       "      <td>13.71 21.39 23.74 27.09</td>\n",
       "      <td>(1.25.93)</td>\n",
       "      <td>21-1/2</td>\n",
       "    </tr>\n",
       "    <tr>\n",
       "      <th>13</th>\n",
       "      <td>20170625</td>\n",
       "      <td>1</td>\n",
       "      <td>4</td>\n",
       "      <td>勝利公爵</td>\n",
       "      <td>5</td>\n",
       "      <td>梁家俊</td>\n",
       "      <td>130</td>\n",
       "      <td>4</td>\n",
       "      <td>39</td>\n",
       "      <td>容</td>\n",
       "      <td>...</td>\n",
       "      <td>21.0</td>\n",
       "      <td>24.0</td>\n",
       "      <td>71.0</td>\n",
       "      <td>82.0</td>\n",
       "      <td>6.4</td>\n",
       "      <td>1 2 4</td>\n",
       "      <td>14</td>\n",
       "      <td>13.59 21.51 23.66 31.27</td>\n",
       "      <td>(1.30.03)</td>\n",
       "      <td>47-1/4</td>\n",
       "    </tr>\n",
       "  </tbody>\n",
       "</table>\n",
       "<p>14 rows × 22 columns</p>\n",
       "</div>"
      ],
      "text/plain": [
       "        Date  RaceNumber  HorseNo HorseName  Age JockeyName  ActualWt  Draw  \\\n",
       "0   20170625           1        3        盛勢    4         韋達       132     8   \n",
       "1   20170625           1        8      銘記心中    5        李寶利       121     2   \n",
       "2   20170625           1        2      葵涌老友    4        潘明輝       123     6   \n",
       "3   20170625           1       11      電訊大炮    4        黃皓楠       108     1   \n",
       "4   20170625           1        6       金武士    5        何澤堯       122     9   \n",
       "5   20170625           1        5       好準確    5         郭能       131    12   \n",
       "6   20170625           1        1       架勢堂    3        祈普敦       133    14   \n",
       "7   20170625           1       12       飛壹般    4        楊明綸       111    10   \n",
       "8   20170625           1       13       牛魔王    6        賴維銘       113     5   \n",
       "9   20170625           1        7       勁伶利    4         潘頓       123    11   \n",
       "10  20170625           1        9       幸運坊    6        莫雷拉       118     7   \n",
       "11  20170625           1       10       好友心    5        麥偉利       117     3   \n",
       "12  20170625           1       14      大將風速    6        黎海榮       113    13   \n",
       "13  20170625           1        4      勝利公爵    5        梁家俊       130     4   \n",
       "\n",
       "    Rate Owner   ...    WinOddBeforeGate  WinOdd  WinInTenThousand  \\\n",
       "0     39     葉   ...                 7.3     6.5             275.0   \n",
       "1     28     吳   ...                 4.0     4.5             395.0   \n",
       "2     40     高   ...                 6.6     8.0             222.0   \n",
       "3     19     徐   ...                 9.6     8.7             204.0   \n",
       "4     31     方   ...                11.0    13.0             130.0   \n",
       "5     38     蘇   ...                24.0    21.0              83.0   \n",
       "6     40     摩   ...                33.0    20.0              86.0   \n",
       "7     18     李   ...                29.0    19.0              92.0   \n",
       "8     13     告   ...                66.0   111.0              16.0   \n",
       "9     30     東   ...                22.0    18.0              94.0   \n",
       "10    25     鄭   ...                 4.4     4.4             404.0   \n",
       "11    22     文   ...                26.0    24.0              72.0   \n",
       "12    12     何   ...                99.0   144.0              12.0   \n",
       "13    39     容   ...                21.0    24.0              71.0   \n",
       "\n",
       "    PInTenThousand  P_Odd  PlaceInMiddle  Place             TimeInMiddle  \\\n",
       "0            190.0    2.7       12 10 11      1  14.15 21.63 23.38 23.32   \n",
       "1            334.0    1.5          3 6 3      2  13.67 21.67 23.34 23.98   \n",
       "2            211.0    2.5          9 7 8      3  13.99 21.59 23.42 23.75   \n",
       "3            193.0    2.7          2 4 2      4  13.67 21.51 23.26 24.32   \n",
       "4            121.0    4.3          7 9 9      5  13.83 21.83 23.42 23.86   \n",
       "5             78.0    6.6       13 12 13      6  14.23 21.83 23.18 23.83   \n",
       "6             76.0    6.8       10 11 10      7   14.03 21.83 23.3 24.13   \n",
       "7            105.0    4.9       11 13 12      8  14.07 21.99 23.18 24.34   \n",
       "8             22.0   23.0       14 14 14      9  14.35 21.95 23.06 24.48   \n",
       "9             97.0    5.4          5 5 6     10  13.67 21.63 23.62 25.05   \n",
       "10           288.0    1.8          8 8 7     11  13.91 21.67 23.42 25.04   \n",
       "11            85.0    6.1          4 1 1     12  13.67 21.23 23.42 26.08   \n",
       "12            21.0   24.0          6 3 5     13  13.71 21.39 23.74 27.09   \n",
       "13            82.0    6.4          1 2 4     14  13.59 21.51 23.66 31.27   \n",
       "\n",
       "    FinishTime     LBW  \n",
       "0    (1.22.48)      頭馬  \n",
       "1    (1.22.66)   1-1/4  \n",
       "2    (1.22.75)   1-3/4  \n",
       "3    (1.22.76)   1-3/4  \n",
       "4    (1.22.94)   2-3/4  \n",
       "5    (1.23.07)   3-3/4  \n",
       "6    (1.23.29)       5  \n",
       "7    (1.23.58)   6-3/4  \n",
       "8    (1.23.84)   8-1/2  \n",
       "9    (1.23.97)   9-1/4  \n",
       "10   (1.24.04)   9-3/4  \n",
       "11    (1.24.4)      12  \n",
       "12   (1.25.93)  21-1/2  \n",
       "13   (1.30.03)  47-1/4  \n",
       "\n",
       "[14 rows x 22 columns]"
      ]
     },
     "execution_count": 51,
     "metadata": {},
     "output_type": "execute_result"
    }
   ],
   "source": [
    "def load_race_data_csv(race_date):\n",
    "    filename = '{}/{}.cvs'.format(save_path,race_date)\n",
    "    df=pd.read_csv(filename, sep=',',header=0)\n",
    "    return df\n",
    "#     print(df)\n",
    "    \n",
    "load_race_data_csv(csv_array[0])"
   ]
  },
  {
   "cell_type": "code",
   "execution_count": 52,
   "metadata": {
    "collapsed": true
   },
   "outputs": [],
   "source": [
    "def concat_pd_race_data():\n",
    "    csv_pd_array = []\n",
    "    for race_date in csv_array:\n",
    "        try:\n",
    "            csv_pd_array.append( load_race_data_csv(race_date))\n",
    "        except Exception as err:\n",
    "            print('missing data for race date {}', race_date)\n",
    "    \n",
    "    print(len(csv_pd_array))\n",
    "    race_date_concat = pd.concat(csv_pd_array, ignore_index=True)\n",
    "    return race_date_concat"
   ]
  },
  {
   "cell_type": "code",
   "execution_count": 53,
   "metadata": {
    "collapsed": true
   },
   "outputs": [],
   "source": [
    "# race_date_concat = pd.concat(csv_pd_array)"
   ]
  },
  {
   "cell_type": "code",
   "execution_count": 54,
   "metadata": {
    "collapsed": true
   },
   "outputs": [],
   "source": [
    "# print(race_date_concat[0:20])\n",
    "# print(race_date_concat[-10:])\n",
    "# print(race_date_concat)"
   ]
  },
  {
   "cell_type": "code",
   "execution_count": 55,
   "metadata": {},
   "outputs": [],
   "source": [
    "use_cache_pd_array = True\n",
    "pd_array = []\n",
    "\n",
    "if use_cache_pd_array:\n",
    "    pd_array = pickle.load( open( \"data/race_date_concat.p\", \"rb\" ) )\n",
    "else:\n",
    "    pd_array = concat_pd_race_data()\n",
    "    print(pd_array)\n",
    "    pickle.dump( pd_array, open( \"data/race_date_concat.p\", \"wb\" ) )"
   ]
  },
  {
   "cell_type": "code",
   "execution_count": 56,
   "metadata": {
    "scrolled": false
   },
   "outputs": [
    {
     "data": {
      "text/html": [
       "<div>\n",
       "<style>\n",
       "    .dataframe thead tr:only-child th {\n",
       "        text-align: right;\n",
       "    }\n",
       "\n",
       "    .dataframe thead th {\n",
       "        text-align: left;\n",
       "    }\n",
       "\n",
       "    .dataframe tbody tr th {\n",
       "        vertical-align: top;\n",
       "    }\n",
       "</style>\n",
       "<table border=\"1\" class=\"dataframe\">\n",
       "  <thead>\n",
       "    <tr style=\"text-align: right;\">\n",
       "      <th></th>\n",
       "      <th>Date</th>\n",
       "      <th>RaceNumber</th>\n",
       "      <th>HorseNo</th>\n",
       "      <th>HorseName</th>\n",
       "      <th>Age</th>\n",
       "      <th>JockeyName</th>\n",
       "      <th>ActualWt</th>\n",
       "      <th>Draw</th>\n",
       "      <th>Rate</th>\n",
       "      <th>Owner</th>\n",
       "      <th>...</th>\n",
       "      <th>WinOddBeforeGate</th>\n",
       "      <th>WinOdd</th>\n",
       "      <th>WinInTenThousand</th>\n",
       "      <th>PInTenThousand</th>\n",
       "      <th>P_Odd</th>\n",
       "      <th>PlaceInMiddle</th>\n",
       "      <th>Place</th>\n",
       "      <th>TimeInMiddle</th>\n",
       "      <th>FinishTime</th>\n",
       "      <th>LBW</th>\n",
       "    </tr>\n",
       "  </thead>\n",
       "  <tbody>\n",
       "    <tr>\n",
       "      <th>0</th>\n",
       "      <td>20170625</td>\n",
       "      <td>1</td>\n",
       "      <td>3</td>\n",
       "      <td>盛勢</td>\n",
       "      <td>4</td>\n",
       "      <td>韋達</td>\n",
       "      <td>132</td>\n",
       "      <td>8</td>\n",
       "      <td>39</td>\n",
       "      <td>葉</td>\n",
       "      <td>...</td>\n",
       "      <td>7.3</td>\n",
       "      <td>6.5</td>\n",
       "      <td>275</td>\n",
       "      <td>190</td>\n",
       "      <td>2.7</td>\n",
       "      <td>12 10 11</td>\n",
       "      <td>1</td>\n",
       "      <td>14.15 21.63 23.38 23.32</td>\n",
       "      <td>(1.22.48)</td>\n",
       "      <td>頭馬</td>\n",
       "    </tr>\n",
       "    <tr>\n",
       "      <th>1</th>\n",
       "      <td>20170625</td>\n",
       "      <td>1</td>\n",
       "      <td>8</td>\n",
       "      <td>銘記心中</td>\n",
       "      <td>5</td>\n",
       "      <td>李寶利</td>\n",
       "      <td>121</td>\n",
       "      <td>2</td>\n",
       "      <td>28</td>\n",
       "      <td>吳</td>\n",
       "      <td>...</td>\n",
       "      <td>4.0</td>\n",
       "      <td>4.5</td>\n",
       "      <td>395</td>\n",
       "      <td>334</td>\n",
       "      <td>1.5</td>\n",
       "      <td>3 6 3</td>\n",
       "      <td>2</td>\n",
       "      <td>13.67 21.67 23.34 23.98</td>\n",
       "      <td>(1.22.66)</td>\n",
       "      <td>1-1/4</td>\n",
       "    </tr>\n",
       "    <tr>\n",
       "      <th>2</th>\n",
       "      <td>20170625</td>\n",
       "      <td>1</td>\n",
       "      <td>2</td>\n",
       "      <td>葵涌老友</td>\n",
       "      <td>4</td>\n",
       "      <td>潘明輝</td>\n",
       "      <td>123</td>\n",
       "      <td>6</td>\n",
       "      <td>40</td>\n",
       "      <td>高</td>\n",
       "      <td>...</td>\n",
       "      <td>6.6</td>\n",
       "      <td>8.0</td>\n",
       "      <td>222</td>\n",
       "      <td>211</td>\n",
       "      <td>2.5</td>\n",
       "      <td>9 7 8</td>\n",
       "      <td>3</td>\n",
       "      <td>13.99 21.59 23.42 23.75</td>\n",
       "      <td>(1.22.75)</td>\n",
       "      <td>1-3/4</td>\n",
       "    </tr>\n",
       "    <tr>\n",
       "      <th>3</th>\n",
       "      <td>20170625</td>\n",
       "      <td>1</td>\n",
       "      <td>11</td>\n",
       "      <td>電訊大炮</td>\n",
       "      <td>4</td>\n",
       "      <td>黃皓楠</td>\n",
       "      <td>108</td>\n",
       "      <td>1</td>\n",
       "      <td>19</td>\n",
       "      <td>徐</td>\n",
       "      <td>...</td>\n",
       "      <td>9.6</td>\n",
       "      <td>8.7</td>\n",
       "      <td>204</td>\n",
       "      <td>193</td>\n",
       "      <td>2.7</td>\n",
       "      <td>2 4 2</td>\n",
       "      <td>4</td>\n",
       "      <td>13.67 21.51 23.26 24.32</td>\n",
       "      <td>(1.22.76)</td>\n",
       "      <td>1-3/4</td>\n",
       "    </tr>\n",
       "    <tr>\n",
       "      <th>4</th>\n",
       "      <td>20170625</td>\n",
       "      <td>1</td>\n",
       "      <td>6</td>\n",
       "      <td>金武士</td>\n",
       "      <td>5</td>\n",
       "      <td>何澤堯</td>\n",
       "      <td>122</td>\n",
       "      <td>9</td>\n",
       "      <td>31</td>\n",
       "      <td>方</td>\n",
       "      <td>...</td>\n",
       "      <td>11.0</td>\n",
       "      <td>13.0</td>\n",
       "      <td>130</td>\n",
       "      <td>121</td>\n",
       "      <td>4.3</td>\n",
       "      <td>7 9 9</td>\n",
       "      <td>5</td>\n",
       "      <td>13.83 21.83 23.42 23.86</td>\n",
       "      <td>(1.22.94)</td>\n",
       "      <td>2-3/4</td>\n",
       "    </tr>\n",
       "  </tbody>\n",
       "</table>\n",
       "<p>5 rows × 22 columns</p>\n",
       "</div>"
      ],
      "text/plain": [
       "       Date RaceNumber HorseNo HorseName Age JockeyName ActualWt Draw Rate  \\\n",
       "0  20170625          1       3        盛勢   4         韋達      132    8   39   \n",
       "1  20170625          1       8      銘記心中   5        李寶利      121    2   28   \n",
       "2  20170625          1       2      葵涌老友   4        潘明輝      123    6   40   \n",
       "3  20170625          1      11      電訊大炮   4        黃皓楠      108    1   19   \n",
       "4  20170625          1       6       金武士   5        何澤堯      122    9   31   \n",
       "\n",
       "  Owner  ...   WinOddBeforeGate  WinOdd  WinInTenThousand  PInTenThousand  \\\n",
       "0     葉  ...                7.3     6.5               275             190   \n",
       "1     吳  ...                4.0     4.5               395             334   \n",
       "2     高  ...                6.6     8.0               222             211   \n",
       "3     徐  ...                9.6     8.7               204             193   \n",
       "4     方  ...               11.0    13.0               130             121   \n",
       "\n",
       "  P_Odd PlaceInMiddle Place             TimeInMiddle FinishTime    LBW  \n",
       "0   2.7      12 10 11     1  14.15 21.63 23.38 23.32  (1.22.48)     頭馬  \n",
       "1   1.5         3 6 3     2  13.67 21.67 23.34 23.98  (1.22.66)  1-1/4  \n",
       "2   2.5         9 7 8     3  13.99 21.59 23.42 23.75  (1.22.75)  1-3/4  \n",
       "3   2.7         2 4 2     4  13.67 21.51 23.26 24.32  (1.22.76)  1-3/4  \n",
       "4   4.3         7 9 9     5  13.83 21.83 23.42 23.86  (1.22.94)  2-3/4  \n",
       "\n",
       "[5 rows x 22 columns]"
      ]
     },
     "execution_count": 56,
     "metadata": {},
     "output_type": "execute_result"
    }
   ],
   "source": [
    "# print(pd_array[0:20])\n",
    "# print(pd_array[-10:])\n",
    "pd_array.head()\n",
    "\n",
    "# pd_array.to_excel(os.path.join(summary_path, 'array.xlsx'), index=False)\n",
    "# pd_array.to_csv(os.path.join(summary_path, 'array.cvs'), index=False)\n",
    "\n",
    "# ldf_display(pd_array)"
   ]
  },
  {
   "cell_type": "markdown",
   "metadata": {},
   "source": [
    "### 1. Data Processing and Exploratory Data Analysis"
   ]
  },
  {
   "cell_type": "markdown",
   "metadata": {},
   "source": [
    "### Show original data"
   ]
  },
  {
   "cell_type": "code",
   "execution_count": 57,
   "metadata": {},
   "outputs": [
    {
     "data": {
      "text/html": [
       "<div>\n",
       "<style>\n",
       "    .dataframe thead tr:only-child th {\n",
       "        text-align: right;\n",
       "    }\n",
       "\n",
       "    .dataframe thead th {\n",
       "        text-align: left;\n",
       "    }\n",
       "\n",
       "    .dataframe tbody tr th {\n",
       "        vertical-align: top;\n",
       "    }\n",
       "</style>\n",
       "<table border=\"1\" class=\"dataframe\">\n",
       "  <thead>\n",
       "    <tr style=\"text-align: right;\">\n",
       "      <th></th>\n",
       "      <th>Date</th>\n",
       "      <th>RaceNumber</th>\n",
       "      <th>HorseNo</th>\n",
       "      <th>HorseName</th>\n",
       "      <th>Age</th>\n",
       "      <th>JockeyName</th>\n",
       "      <th>ActualWt</th>\n",
       "      <th>Draw</th>\n",
       "      <th>Rate</th>\n",
       "      <th>Owner</th>\n",
       "      <th>DeclarHorseWt</th>\n",
       "      <th>WinOddBeforeNight</th>\n",
       "      <th>WinOddBeforeGate</th>\n",
       "      <th>WinOdd</th>\n",
       "      <th>WinInTenThousand</th>\n",
       "      <th>PInTenThousand</th>\n",
       "      <th>P_Odd</th>\n",
       "      <th>PlaceInMiddle</th>\n",
       "      <th>Place</th>\n",
       "      <th>TimeInMiddle</th>\n",
       "      <th>FinishTime</th>\n",
       "      <th>LBW</th>\n",
       "    </tr>\n",
       "  </thead>\n",
       "  <tbody>\n",
       "    <tr>\n",
       "      <th>0</th>\n",
       "      <td>20170625</td>\n",
       "      <td>1</td>\n",
       "      <td>3</td>\n",
       "      <td>盛勢</td>\n",
       "      <td>4</td>\n",
       "      <td>韋達</td>\n",
       "      <td>132</td>\n",
       "      <td>8</td>\n",
       "      <td>39</td>\n",
       "      <td>葉</td>\n",
       "      <td>1045</td>\n",
       "      <td>9.2</td>\n",
       "      <td>7.3</td>\n",
       "      <td>6.5</td>\n",
       "      <td>275</td>\n",
       "      <td>190</td>\n",
       "      <td>2.7</td>\n",
       "      <td>12 10 11</td>\n",
       "      <td>1</td>\n",
       "      <td>14.15 21.63 23.38 23.32</td>\n",
       "      <td>(1.22.48)</td>\n",
       "      <td>頭馬</td>\n",
       "    </tr>\n",
       "    <tr>\n",
       "      <th>1</th>\n",
       "      <td>20170625</td>\n",
       "      <td>1</td>\n",
       "      <td>8</td>\n",
       "      <td>銘記心中</td>\n",
       "      <td>5</td>\n",
       "      <td>李寶利</td>\n",
       "      <td>121</td>\n",
       "      <td>2</td>\n",
       "      <td>28</td>\n",
       "      <td>吳</td>\n",
       "      <td>1136</td>\n",
       "      <td>3.4</td>\n",
       "      <td>4.0</td>\n",
       "      <td>4.5</td>\n",
       "      <td>395</td>\n",
       "      <td>334</td>\n",
       "      <td>1.5</td>\n",
       "      <td>3 6 3</td>\n",
       "      <td>2</td>\n",
       "      <td>13.67 21.67 23.34 23.98</td>\n",
       "      <td>(1.22.66)</td>\n",
       "      <td>1-1/4</td>\n",
       "    </tr>\n",
       "    <tr>\n",
       "      <th>2</th>\n",
       "      <td>20170625</td>\n",
       "      <td>1</td>\n",
       "      <td>2</td>\n",
       "      <td>葵涌老友</td>\n",
       "      <td>4</td>\n",
       "      <td>潘明輝</td>\n",
       "      <td>123</td>\n",
       "      <td>6</td>\n",
       "      <td>40</td>\n",
       "      <td>高</td>\n",
       "      <td>1146</td>\n",
       "      <td>7.2</td>\n",
       "      <td>6.6</td>\n",
       "      <td>8.0</td>\n",
       "      <td>222</td>\n",
       "      <td>211</td>\n",
       "      <td>2.5</td>\n",
       "      <td>9 7 8</td>\n",
       "      <td>3</td>\n",
       "      <td>13.99 21.59 23.42 23.75</td>\n",
       "      <td>(1.22.75)</td>\n",
       "      <td>1-3/4</td>\n",
       "    </tr>\n",
       "  </tbody>\n",
       "</table>\n",
       "</div>"
      ],
      "text/plain": [
       "       Date RaceNumber HorseNo HorseName Age JockeyName ActualWt Draw Rate  \\\n",
       "0  20170625          1       3        盛勢   4         韋達      132    8   39   \n",
       "1  20170625          1       8      銘記心中   5        李寶利      121    2   28   \n",
       "2  20170625          1       2      葵涌老友   4        潘明輝      123    6   40   \n",
       "\n",
       "  Owner DeclarHorseWt  WinOddBeforeNight  WinOddBeforeGate  WinOdd  \\\n",
       "0     葉          1045                9.2               7.3     6.5   \n",
       "1     吳          1136                3.4               4.0     4.5   \n",
       "2     高          1146                7.2               6.6     8.0   \n",
       "\n",
       "  WinInTenThousand PInTenThousand P_Odd PlaceInMiddle Place  \\\n",
       "0              275            190   2.7      12 10 11     1   \n",
       "1              395            334   1.5         3 6 3     2   \n",
       "2              222            211   2.5         9 7 8     3   \n",
       "\n",
       "              TimeInMiddle FinishTime    LBW  \n",
       "0  14.15 21.63 23.38 23.32  (1.22.48)     頭馬  \n",
       "1  13.67 21.67 23.34 23.98  (1.22.66)  1-1/4  \n",
       "2  13.99 21.59 23.42 23.75  (1.22.75)  1-3/4  "
      ]
     },
     "execution_count": 57,
     "metadata": {},
     "output_type": "execute_result"
    }
   ],
   "source": [
    "pd.set_option('display.max_columns', None)\n",
    "# with pd.option_context('display.max_rows', None, 'display.max_columns', 45):\n",
    "#     pd_array.head(3)\n",
    "    \n",
    "pd_array.head(3)"
   ]
  },
  {
   "cell_type": "markdown",
   "metadata": {},
   "source": [
    "### Numerical Data"
   ]
  },
  {
   "cell_type": "code",
   "execution_count": 58,
   "metadata": {},
   "outputs": [
    {
     "data": {
      "text/html": [
       "<div>\n",
       "<style>\n",
       "    .dataframe thead tr:only-child th {\n",
       "        text-align: right;\n",
       "    }\n",
       "\n",
       "    .dataframe thead th {\n",
       "        text-align: left;\n",
       "    }\n",
       "\n",
       "    .dataframe tbody tr th {\n",
       "        vertical-align: top;\n",
       "    }\n",
       "</style>\n",
       "<table border=\"1\" class=\"dataframe\">\n",
       "  <thead>\n",
       "    <tr style=\"text-align: right;\">\n",
       "      <th></th>\n",
       "      <th>WinOddBeforeNight</th>\n",
       "      <th>WinOddBeforeGate</th>\n",
       "      <th>WinOdd</th>\n",
       "    </tr>\n",
       "  </thead>\n",
       "  <tbody>\n",
       "    <tr>\n",
       "      <th>count</th>\n",
       "      <td>106274.000000</td>\n",
       "      <td>106274.000000</td>\n",
       "      <td>106274.000000</td>\n",
       "    </tr>\n",
       "    <tr>\n",
       "      <th>mean</th>\n",
       "      <td>19.269059</td>\n",
       "      <td>25.692656</td>\n",
       "      <td>30.488548</td>\n",
       "    </tr>\n",
       "    <tr>\n",
       "      <th>std</th>\n",
       "      <td>17.028461</td>\n",
       "      <td>26.723408</td>\n",
       "      <td>41.111967</td>\n",
       "    </tr>\n",
       "    <tr>\n",
       "      <th>min</th>\n",
       "      <td>0.000000</td>\n",
       "      <td>0.000000</td>\n",
       "      <td>0.000000</td>\n",
       "    </tr>\n",
       "    <tr>\n",
       "      <th>50%</th>\n",
       "      <td>14.000000</td>\n",
       "      <td>15.000000</td>\n",
       "      <td>15.000000</td>\n",
       "    </tr>\n",
       "    <tr>\n",
       "      <th>max</th>\n",
       "      <td>99.000000</td>\n",
       "      <td>837.000000</td>\n",
       "      <td>915.000000</td>\n",
       "    </tr>\n",
       "  </tbody>\n",
       "</table>\n",
       "</div>"
      ],
      "text/plain": [
       "       WinOddBeforeNight  WinOddBeforeGate         WinOdd\n",
       "count      106274.000000     106274.000000  106274.000000\n",
       "mean           19.269059         25.692656      30.488548\n",
       "std            17.028461         26.723408      41.111967\n",
       "min             0.000000          0.000000       0.000000\n",
       "50%            14.000000         15.000000      15.000000\n",
       "max            99.000000        837.000000     915.000000"
      ]
     },
     "execution_count": 58,
     "metadata": {},
     "output_type": "execute_result"
    }
   ],
   "source": [
    "pd_array.describe(percentiles=[0.5])"
   ]
  },
  {
   "cell_type": "markdown",
   "metadata": {},
   "source": [
    "### Non-numerical Data"
   ]
  },
  {
   "cell_type": "code",
   "execution_count": 59,
   "metadata": {},
   "outputs": [
    {
     "data": {
      "text/html": [
       "<div>\n",
       "<style>\n",
       "    .dataframe thead tr:only-child th {\n",
       "        text-align: right;\n",
       "    }\n",
       "\n",
       "    .dataframe thead th {\n",
       "        text-align: left;\n",
       "    }\n",
       "\n",
       "    .dataframe tbody tr th {\n",
       "        vertical-align: top;\n",
       "    }\n",
       "</style>\n",
       "<table border=\"1\" class=\"dataframe\">\n",
       "  <thead>\n",
       "    <tr style=\"text-align: right;\">\n",
       "      <th></th>\n",
       "      <th>Date</th>\n",
       "      <th>RaceNumber</th>\n",
       "      <th>HorseNo</th>\n",
       "      <th>HorseName</th>\n",
       "      <th>Age</th>\n",
       "      <th>JockeyName</th>\n",
       "      <th>ActualWt</th>\n",
       "      <th>Draw</th>\n",
       "      <th>Rate</th>\n",
       "      <th>Owner</th>\n",
       "      <th>DeclarHorseWt</th>\n",
       "      <th>WinInTenThousand</th>\n",
       "      <th>PInTenThousand</th>\n",
       "      <th>P_Odd</th>\n",
       "      <th>PlaceInMiddle</th>\n",
       "      <th>Place</th>\n",
       "      <th>TimeInMiddle</th>\n",
       "      <th>FinishTime</th>\n",
       "      <th>LBW</th>\n",
       "    </tr>\n",
       "  </thead>\n",
       "  <tbody>\n",
       "    <tr>\n",
       "      <th>count</th>\n",
       "      <td>106274</td>\n",
       "      <td>106274</td>\n",
       "      <td>106274</td>\n",
       "      <td>106274</td>\n",
       "      <td>106274</td>\n",
       "      <td>106274</td>\n",
       "      <td>106274</td>\n",
       "      <td>106274</td>\n",
       "      <td>106274</td>\n",
       "      <td>106274</td>\n",
       "      <td>106274</td>\n",
       "      <td>106274.0</td>\n",
       "      <td>106274.0</td>\n",
       "      <td>106274.0</td>\n",
       "      <td>106274</td>\n",
       "      <td>106274</td>\n",
       "      <td>87106</td>\n",
       "      <td>106274</td>\n",
       "      <td>106273</td>\n",
       "    </tr>\n",
       "    <tr>\n",
       "      <th>unique</th>\n",
       "      <td>924</td>\n",
       "      <td>10</td>\n",
       "      <td>14</td>\n",
       "      <td>5628</td>\n",
       "      <td>10</td>\n",
       "      <td>278</td>\n",
       "      <td>31</td>\n",
       "      <td>15</td>\n",
       "      <td>133</td>\n",
       "      <td>180</td>\n",
       "      <td>457</td>\n",
       "      <td>1570.0</td>\n",
       "      <td>811.0</td>\n",
       "      <td>3399.0</td>\n",
       "      <td>7218</td>\n",
       "      <td>33</td>\n",
       "      <td>86120</td>\n",
       "      <td>5727</td>\n",
       "      <td>317</td>\n",
       "    </tr>\n",
       "    <tr>\n",
       "      <th>top</th>\n",
       "      <td>20090701</td>\n",
       "      <td>6</td>\n",
       "      <td>1</td>\n",
       "      <td>奄尖大少</td>\n",
       "      <td>4</td>\n",
       "      <td>韋達</td>\n",
       "      <td>126</td>\n",
       "      <td>5</td>\n",
       "      <td>52</td>\n",
       "      <td>方</td>\n",
       "      <td>1084</td>\n",
       "      <td>9.0</td>\n",
       "      <td>16.0</td>\n",
       "      <td>1.7</td>\n",
       "      <td>1 1 1</td>\n",
       "      <td>1</td>\n",
       "      <td>0</td>\n",
       "      <td>(-)</td>\n",
       "      <td>頭馬</td>\n",
       "    </tr>\n",
       "    <tr>\n",
       "      <th>freq</th>\n",
       "      <td>140</td>\n",
       "      <td>11879</td>\n",
       "      <td>8418</td>\n",
       "      <td>91</td>\n",
       "      <td>30573</td>\n",
       "      <td>6273</td>\n",
       "      <td>7589</td>\n",
       "      <td>8462</td>\n",
       "      <td>5157</td>\n",
       "      <td>6212</td>\n",
       "      <td>743</td>\n",
       "      <td>884.0</td>\n",
       "      <td>809.0</td>\n",
       "      <td>1977.0</td>\n",
       "      <td>2317</td>\n",
       "      <td>7318</td>\n",
       "      <td>855</td>\n",
       "      <td>1185</td>\n",
       "      <td>8424</td>\n",
       "    </tr>\n",
       "  </tbody>\n",
       "</table>\n",
       "</div>"
      ],
      "text/plain": [
       "            Date  RaceNumber  HorseNo HorseName     Age JockeyName  ActualWt  \\\n",
       "count     106274      106274   106274    106274  106274     106274    106274   \n",
       "unique       924          10       14      5628      10        278        31   \n",
       "top     20090701           6        1      奄尖大少       4         韋達       126   \n",
       "freq         140       11879     8418        91   30573       6273      7589   \n",
       "\n",
       "          Draw    Rate   Owner  DeclarHorseWt  WinInTenThousand  \\\n",
       "count   106274  106274  106274         106274          106274.0   \n",
       "unique      15     133     180            457            1570.0   \n",
       "top          5      52       方           1084               9.0   \n",
       "freq      8462    5157    6212            743             884.0   \n",
       "\n",
       "        PInTenThousand     P_Odd PlaceInMiddle   Place TimeInMiddle  \\\n",
       "count         106274.0  106274.0        106274  106274        87106   \n",
       "unique           811.0    3399.0          7218      33        86120   \n",
       "top               16.0       1.7         1 1 1       1            0   \n",
       "freq             809.0    1977.0          2317    7318          855   \n",
       "\n",
       "       FinishTime     LBW  \n",
       "count      106274  106273  \n",
       "unique       5727     317  \n",
       "top           (-)      頭馬  \n",
       "freq         1185    8424  "
      ]
     },
     "execution_count": 59,
     "metadata": {},
     "output_type": "execute_result"
    }
   ],
   "source": [
    "pd_array.describe(include=['O'])"
   ]
  },
  {
   "cell_type": "markdown",
   "metadata": {},
   "source": [
    "### Missing values"
   ]
  },
  {
   "cell_type": "code",
   "execution_count": 60,
   "metadata": {},
   "outputs": [
    {
     "data": {
      "image/png": "[encoded data removed]",
      "text/plain": [
       "<matplotlib.figure.Figure at 0x10bc6e278>"
      ]
     },
     "metadata": {},
     "output_type": "display_data"
    }
   ],
   "source": [
    "helper.missing(pd_array)"
   ]
  },
  {
   "cell_type": "markdown",
   "metadata": {},
   "source": [
    "### Transform features"
   ]
  },
  {
   "cell_type": "markdown",
   "metadata": {},
   "source": [
    "#### Enhance and add new features"
   ]
  },
  {
   "cell_type": "code",
   "execution_count": 61,
   "metadata": {
    "collapsed": true
   },
   "outputs": [],
   "source": [
    "df = pd_array.copy()  # modified dataset\n",
    "\n",
    "\n",
    "def enhance_features(df, inplace=False):\n",
    "    \"\"\" Enhance dataframe df \"\"\"\n",
    "\n",
    "    if not inplace:\n",
    "        df = df.copy()\n",
    "        \n",
    "    # filter Cabin to first letter\n",
    "#     df[\"Cabin\"] = df[\"Cabin\"].str[0]\n",
    "\n",
    "    # get Title from Name\n",
    "#     df['Title'] = df[\"Name\"].str.extract('([A-Za-z]+)\\.', expand=False)\n",
    "\n",
    "    # remove low frequency values for the new feautres\n",
    "    fields = ['Owner', 'JockeyName', 'HorseName']\n",
    "    df.loc[:, fields] = helper.remove_lowfreq(df.loc[:, fields], show=False)\n",
    "\n",
    "    df['isWin'] = (df['Place'] == 1)\n",
    "    \n",
    "    # Alone passenger\n",
    "#     df['Alone'] = ((df[\"SibSp\"] + df[\"Parch\"]) == 0)\n",
    "    \n",
    "    if not inplace:\n",
    "        return df\n",
    "\n",
    "\n",
    "enhance_features(df, inplace=True)"
   ]
  },
  {
   "cell_type": "markdown",
   "metadata": {},
   "source": [
    "### Delete irrelevant features"
   ]
  },
  {
   "cell_type": "code",
   "execution_count": null,
   "metadata": {
    "collapsed": true
   },
   "outputs": [],
   "source": []
  },
  {
   "cell_type": "markdown",
   "metadata": {},
   "source": [
    "https://github.com/angelmtenor/data-science-keras/blob/master/titanic.ipynb"
   ]
  },
  {
   "cell_type": "markdown",
   "metadata": {
    "collapsed": true
   },
   "source": [
    "### Dummy variables\n",
    "Here we have some categorical variables like season, weather, month. To include these in our model, we'll need to make binary dummy variables. This is simple to do with Pandas thanks to `get_dummies()`."
   ]
  },
  {
   "cell_type": "code",
   "execution_count": 62,
   "metadata": {},
   "outputs": [
    {
     "data": {
      "text/html": [
       "<div>\n",
       "<style>\n",
       "    .dataframe thead tr:only-child th {\n",
       "        text-align: right;\n",
       "    }\n",
       "\n",
       "    .dataframe thead th {\n",
       "        text-align: left;\n",
       "    }\n",
       "\n",
       "    .dataframe tbody tr th {\n",
       "        vertical-align: top;\n",
       "    }\n",
       "</style>\n",
       "<table border=\"1\" class=\"dataframe\">\n",
       "  <thead>\n",
       "    <tr style=\"text-align: right;\">\n",
       "      <th></th>\n",
       "      <th>WinOdd</th>\n",
       "      <th>Place</th>\n",
       "      <th>Draw_0</th>\n",
       "      <th>Draw_1</th>\n",
       "      <th>Draw_2</th>\n",
       "      <th>Draw_3</th>\n",
       "      <th>Draw_4</th>\n",
       "      <th>Draw_5</th>\n",
       "      <th>Draw_6</th>\n",
       "      <th>Draw_7</th>\n",
       "      <th>Draw_8</th>\n",
       "      <th>Draw_9</th>\n",
       "      <th>Draw_10</th>\n",
       "      <th>Draw_11</th>\n",
       "      <th>Draw_12</th>\n",
       "      <th>Draw_13</th>\n",
       "      <th>Draw_14</th>\n",
       "    </tr>\n",
       "  </thead>\n",
       "  <tbody>\n",
       "    <tr>\n",
       "      <th>0</th>\n",
       "      <td>6.5</td>\n",
       "      <td>1</td>\n",
       "      <td>0</td>\n",
       "      <td>0</td>\n",
       "      <td>0</td>\n",
       "      <td>0</td>\n",
       "      <td>0</td>\n",
       "      <td>0</td>\n",
       "      <td>0</td>\n",
       "      <td>0</td>\n",
       "      <td>1</td>\n",
       "      <td>0</td>\n",
       "      <td>0</td>\n",
       "      <td>0</td>\n",
       "      <td>0</td>\n",
       "      <td>0</td>\n",
       "      <td>0</td>\n",
       "    </tr>\n",
       "    <tr>\n",
       "      <th>1</th>\n",
       "      <td>4.5</td>\n",
       "      <td>2</td>\n",
       "      <td>0</td>\n",
       "      <td>0</td>\n",
       "      <td>1</td>\n",
       "      <td>0</td>\n",
       "      <td>0</td>\n",
       "      <td>0</td>\n",
       "      <td>0</td>\n",
       "      <td>0</td>\n",
       "      <td>0</td>\n",
       "      <td>0</td>\n",
       "      <td>0</td>\n",
       "      <td>0</td>\n",
       "      <td>0</td>\n",
       "      <td>0</td>\n",
       "      <td>0</td>\n",
       "    </tr>\n",
       "    <tr>\n",
       "      <th>2</th>\n",
       "      <td>8.0</td>\n",
       "      <td>3</td>\n",
       "      <td>0</td>\n",
       "      <td>0</td>\n",
       "      <td>0</td>\n",
       "      <td>0</td>\n",
       "      <td>0</td>\n",
       "      <td>0</td>\n",
       "      <td>1</td>\n",
       "      <td>0</td>\n",
       "      <td>0</td>\n",
       "      <td>0</td>\n",
       "      <td>0</td>\n",
       "      <td>0</td>\n",
       "      <td>0</td>\n",
       "      <td>0</td>\n",
       "      <td>0</td>\n",
       "    </tr>\n",
       "    <tr>\n",
       "      <th>3</th>\n",
       "      <td>8.7</td>\n",
       "      <td>4</td>\n",
       "      <td>0</td>\n",
       "      <td>1</td>\n",
       "      <td>0</td>\n",
       "      <td>0</td>\n",
       "      <td>0</td>\n",
       "      <td>0</td>\n",
       "      <td>0</td>\n",
       "      <td>0</td>\n",
       "      <td>0</td>\n",
       "      <td>0</td>\n",
       "      <td>0</td>\n",
       "      <td>0</td>\n",
       "      <td>0</td>\n",
       "      <td>0</td>\n",
       "      <td>0</td>\n",
       "    </tr>\n",
       "    <tr>\n",
       "      <th>4</th>\n",
       "      <td>13.0</td>\n",
       "      <td>5</td>\n",
       "      <td>0</td>\n",
       "      <td>0</td>\n",
       "      <td>0</td>\n",
       "      <td>0</td>\n",
       "      <td>0</td>\n",
       "      <td>0</td>\n",
       "      <td>0</td>\n",
       "      <td>0</td>\n",
       "      <td>0</td>\n",
       "      <td>1</td>\n",
       "      <td>0</td>\n",
       "      <td>0</td>\n",
       "      <td>0</td>\n",
       "      <td>0</td>\n",
       "      <td>0</td>\n",
       "    </tr>\n",
       "  </tbody>\n",
       "</table>\n",
       "</div>"
      ],
      "text/plain": [
       "   WinOdd Place  Draw_0  Draw_1  Draw_2  Draw_3  Draw_4  Draw_5  Draw_6  \\\n",
       "0     6.5     1       0       0       0       0       0       0       0   \n",
       "1     4.5     2       0       0       1       0       0       0       0   \n",
       "2     8.0     3       0       0       0       0       0       0       1   \n",
       "3     8.7     4       0       1       0       0       0       0       0   \n",
       "4    13.0     5       0       0       0       0       0       0       0   \n",
       "\n",
       "   Draw_7  Draw_8  Draw_9  Draw_10  Draw_11  Draw_12  Draw_13  Draw_14  \n",
       "0       0       1       0        0        0        0        0        0  \n",
       "1       0       0       0        0        0        0        0        0  \n",
       "2       0       0       0        0        0        0        0        0  \n",
       "3       0       0       0        0        0        0        0        0  \n",
       "4       0       0       1        0        0        0        0        0  "
      ]
     },
     "execution_count": 62,
     "metadata": {},
     "output_type": "execute_result"
    }
   ],
   "source": [
    "after_process = pd_array.copy()\n",
    "\n",
    "dummy_fields = ['Draw']\n",
    "for each in dummy_fields:\n",
    "    dummies = pd.get_dummies(after_process[each], prefix=each, drop_first=False)\n",
    "    after_process = pd.concat([after_process, dummies], axis=1)\n",
    "\n",
    "fields_to_drop = [\n",
    "    'ActualWt', \n",
    "                  'Rate',\n",
    "                  'DeclarHorseWt', \n",
    "                  'Date', \n",
    "                  'HorseNo', \n",
    "                  'RaceNumber', \n",
    "                  'Age', \n",
    "                  'Draw',  \n",
    "                  'HorseName', \n",
    "                  'JockeyName', \n",
    "                  'Owner', \n",
    "                  'WinOddBeforeNight', \n",
    "                  'WinOddBeforeGate', \n",
    "                  'WinInTenThousand', \n",
    "                  'PInTenThousand', \n",
    "                  'PlaceInMiddle', \n",
    "                  'TimeInMiddle', \n",
    "                  'FinishTime', \n",
    "                  'LBW', \n",
    "                  'P_Odd']\n",
    "data = after_process.drop(fields_to_drop, axis=1)\n",
    "data.head()\n",
    "\n",
    "# len(data)\n",
    "\n",
    "# data_new = data.drop(data[data.Place.dtype.kind == 'str'].index)"
   ]
  },
  {
   "cell_type": "code",
   "execution_count": 63,
   "metadata": {},
   "outputs": [
    {
     "name": "stdout",
     "output_type": "stream",
     "text": [
      "   WinOdd Place  Draw_0  Draw_1  Draw_2  Draw_3  Draw_4  Draw_5  Draw_6  \\\n",
      "0     6.5     1       0       0       0       0       0       0       0   \n",
      "\n",
      "   Draw_7  Draw_8  Draw_9  Draw_10  Draw_11  Draw_12  Draw_13  Draw_14  \n",
      "0       0       1       0        0        0        0        0        0  \n",
      "   WinOdd Place  Draw_0  Draw_1  Draw_2  Draw_3  Draw_4  Draw_5  Draw_6  \\\n",
      "1     4.5     2       0       0       1       0       0       0       0   \n",
      "\n",
      "   Draw_7  Draw_8  Draw_9  Draw_10  Draw_11  Draw_12  Draw_13  Draw_14  \n",
      "1       0       0       0        0        0        0        0        0  \n",
      "     WinOdd Place  Draw_0  Draw_1  Draw_2  Draw_3  Draw_4  Draw_5  Draw_6  \\\n",
      "100    36.0     7       0       0       0       0       0       1       0   \n",
      "\n",
      "     Draw_7  Draw_8  Draw_9  Draw_10  Draw_11  Draw_12  Draw_13  Draw_14  \n",
      "100       0       0       0        0        0        0        0        0  \n"
     ]
    }
   ],
   "source": [
    "with pd.option_context('display.max_rows', None, 'display.max_columns', 45):\n",
    "    print(data[0:1])\n",
    "    print(data[1:2])\n",
    "    print(data[100:101])"
   ]
  },
  {
   "cell_type": "code",
   "execution_count": 64,
   "metadata": {
    "collapsed": true
   },
   "outputs": [],
   "source": [
    "# pd_array.loc[pd_array['WinOdd'] < 2].loc[pd_array['WinOdd'] >1]"
   ]
  },
  {
   "cell_type": "code",
   "execution_count": 65,
   "metadata": {
    "collapsed": true
   },
   "outputs": [],
   "source": [
    "# print(data['WinOdd'].max())"
   ]
  },
  {
   "cell_type": "markdown",
   "metadata": {},
   "source": [
    "### Clean up data\n",
    "\n",
    "Before do the scaling, remove rows that contain invalid data. \n",
    "\n",
    "For Place, it is possible to contain \"-\" if it haven't finish the race. So we need to remove that.\n"
   ]
  },
  {
   "cell_type": "code",
   "execution_count": 66,
   "metadata": {
    "collapsed": true
   },
   "outputs": [],
   "source": [
    "# drop_target_array = []\n",
    "# for index, row in data.iterrows():\n",
    "#     print(\"index = {} , value = {}\", index, row.Place)\n",
    "#     if row.Place == '-':\n",
    "#         drop_target_array.append(index)\n",
    "        \n",
    "# print(drop_target_array)\n",
    "\n",
    "invalid_keyword = ['被貶', '5平頭馬', '4 併頭馬', '6併頭馬', '-']\n",
    "for each in invalid_keyword:\n",
    "    row_contain_invalid_data = data[data.Place==each].index.values\n",
    "    data = data.drop(row_contain_invalid_data)\n",
    "    \n",
    "# Convert Number in String to integer\n",
    "data.Place = pd.to_numeric(data.Place, errors='coerce')\n",
    "\n",
    "# another way is use mapping to replace, but need to do it one by one\n",
    "# df.replace({'set': mapping, 'tesst': mapping})\n",
    "\n",
    "# print(len(data))\n",
    "\n",
    "# s = pd.Series(data.Place.values)\n",
    "# print(s.unique())\n",
    "\n",
    "# data['Place'].mean()\n",
    "\n",
    "# data[data.loc[data['Place'] == 1].index]['isWin'] = True"
   ]
  },
  {
   "cell_type": "markdown",
   "metadata": {},
   "source": [
    "### Add a New field isWin based on Place to set isWin to True, else to False"
   ]
  },
  {
   "cell_type": "code",
   "execution_count": 67,
   "metadata": {
    "collapsed": true
   },
   "outputs": [],
   "source": [
    "data['isWin'] = False\n",
    "data.loc[data['Place'] == 1,'isWin'] = True"
   ]
  },
  {
   "cell_type": "markdown",
   "metadata": {},
   "source": [
    "### Filter out the improper case such as Win Odd that bigger than 20"
   ]
  },
  {
   "cell_type": "code",
   "execution_count": 68,
   "metadata": {
    "collapsed": true
   },
   "outputs": [],
   "source": [
    "# row_contain_invalid_data = data[data.WinOdd > 20].index.values\n",
    "# data = data.drop(row_contain_invalid_data)"
   ]
  },
  {
   "cell_type": "code",
   "execution_count": 69,
   "metadata": {
    "collapsed": true
   },
   "outputs": [],
   "source": [
    "# data.plot.scatter(y='Place', x='WinOdd')"
   ]
  },
  {
   "cell_type": "code",
   "execution_count": 70,
   "metadata": {
    "collapsed": true
   },
   "outputs": [],
   "source": [
    "# data.loc[data['WinOdd'] < 2].loc[data['Place'] < 1]"
   ]
  },
  {
   "cell_type": "code",
   "execution_count": 71,
   "metadata": {
    "collapsed": true
   },
   "outputs": [],
   "source": [
    "# len(data)"
   ]
  },
  {
   "cell_type": "code",
   "execution_count": 72,
   "metadata": {
    "collapsed": true
   },
   "outputs": [],
   "source": [
    "# len(data.loc[data['WinOdd'] < 2])"
   ]
  },
  {
   "cell_type": "code",
   "execution_count": 73,
   "metadata": {
    "collapsed": true
   },
   "outputs": [],
   "source": [
    "# data.loc[data['WinOdd'] < 2,\"Place\"].plot.hist()"
   ]
  },
  {
   "cell_type": "code",
   "execution_count": 74,
   "metadata": {
    "collapsed": true
   },
   "outputs": [],
   "source": [
    "# data.loc[data['WinOdd'] > 2].loc[data['WinOdd'] < 5,['Place']].plot.hist()"
   ]
  },
  {
   "cell_type": "code",
   "execution_count": 75,
   "metadata": {
    "collapsed": true
   },
   "outputs": [],
   "source": [
    "# data.loc[data['WinOdd'] >= 5].loc[data['Place'] == 1]"
   ]
  },
  {
   "cell_type": "code",
   "execution_count": 76,
   "metadata": {
    "collapsed": true
   },
   "outputs": [],
   "source": [
    "# data.loc[data['WinOdd'] > 5].loc[data['WinOdd'] < 10,['Place']].plot.hist()"
   ]
  },
  {
   "cell_type": "code",
   "execution_count": 77,
   "metadata": {
    "collapsed": true
   },
   "outputs": [],
   "source": [
    "# data.loc[data['WinOdd'] > 10]"
   ]
  },
  {
   "cell_type": "code",
   "execution_count": null,
   "metadata": {
    "collapsed": true
   },
   "outputs": [],
   "source": []
  },
  {
   "cell_type": "code",
   "execution_count": 78,
   "metadata": {
    "collapsed": true
   },
   "outputs": [],
   "source": [
    "# data.loc[data['WinOdd'] > 10,['Place']].plot.hist()"
   ]
  },
  {
   "cell_type": "code",
   "execution_count": 79,
   "metadata": {
    "collapsed": true
   },
   "outputs": [],
   "source": [
    "# data.loc[data['WinOdd'] > 100,['Place']].plot.hist()"
   ]
  },
  {
   "cell_type": "markdown",
   "metadata": {},
   "source": [
    "### Scaling target variables\n",
    "To make training the network easier, we'll standardize each of the continuous variables. That is, we'll shift and scale the variables such that they have zero mean and a standard deviation of 1.\n",
    "\n",
    "The scaling factors are saved so we can go backwards when we use the network for predictions."
   ]
  },
  {
   "cell_type": "code",
   "execution_count": 80,
   "metadata": {
    "collapsed": true,
    "scrolled": true
   },
   "outputs": [],
   "source": [
    "# data_mean = data['WinOdd'].mean()"
   ]
  },
  {
   "cell_type": "code",
   "execution_count": 81,
   "metadata": {
    "collapsed": true
   },
   "outputs": [],
   "source": [
    "# data_std = data['WinOdd'].std()"
   ]
  },
  {
   "cell_type": "code",
   "execution_count": 82,
   "metadata": {
    "collapsed": true
   },
   "outputs": [],
   "source": [
    "# data_min = data['WinOdd'].min()"
   ]
  },
  {
   "cell_type": "code",
   "execution_count": 83,
   "metadata": {
    "collapsed": true
   },
   "outputs": [],
   "source": [
    "# data_max = data['WinOdd'].max()"
   ]
  },
  {
   "cell_type": "code",
   "execution_count": 84,
   "metadata": {
    "collapsed": true
   },
   "outputs": [],
   "source": [
    "# data['Place'].mean()"
   ]
  },
  {
   "cell_type": "code",
   "execution_count": 85,
   "metadata": {
    "collapsed": true
   },
   "outputs": [],
   "source": [
    "# (20- (data_max-data_min)/2) /data_max"
   ]
  },
  {
   "cell_type": "code",
   "execution_count": 86,
   "metadata": {
    "collapsed": true
   },
   "outputs": [],
   "source": [
    "# from sklearn import preprocessing\n",
    "# from keras.utils import np_utils\n",
    "\n",
    "# # encode class values as integers\n",
    "# encoder = preprocessing.LabelEncoder()\n",
    "# encoder.fit(data['Place'])\n",
    "# encoded_Y = encoder.transform(data['Place'])\n",
    "# # convert integers to dummy variables (i.e. one hot encoded)\n",
    "# final_categorical = np_utils.to_categorical(encoded_Y)"
   ]
  },
  {
   "cell_type": "code",
   "execution_count": 87,
   "metadata": {
    "collapsed": true
   },
   "outputs": [],
   "source": [
    "# final_categorical[1]"
   ]
  },
  {
   "cell_type": "code",
   "execution_count": 88,
   "metadata": {},
   "outputs": [
    {
     "name": "stdout",
     "output_type": "stream",
     "text": [
      "WinOdd\n",
      "Place\n"
     ]
    }
   ],
   "source": [
    "# a = 0/0\n",
    "\n",
    "quant_features = [\n",
    "#     'ActualWt', \n",
    "#     'Rate', \n",
    "#     'DeclarHorseWt', \n",
    "    'WinOdd', \n",
    "    'Place'\n",
    "    ]\n",
    "# Store scalings in a dictionary so we can convert back later\n",
    "scaled_features = {}\n",
    "for each in quant_features:\n",
    "    print(each)\n",
    "    mean, std = data[each].mean(), data[each].std()\n",
    "    scaled_features[each] = [mean, std]\n",
    "    data.loc[:, each] = (data[each] - mean)/std"
   ]
  },
  {
   "cell_type": "code",
   "execution_count": 89,
   "metadata": {
    "collapsed": true
   },
   "outputs": [],
   "source": [
    "fields_to_drop = [\n",
    "#     'ActualWt', \n",
    "#                   'Rate',\n",
    "#                   'DeclarHorseWt'\n",
    "]\n",
    "data = data.drop(fields_to_drop, axis=1)\n",
    "# data.head()"
   ]
  },
  {
   "cell_type": "code",
   "execution_count": 90,
   "metadata": {
    "collapsed": true
   },
   "outputs": [],
   "source": [
    "# 0/0\n",
    "# Old version \n",
    "\n",
    "# quant_features = [\n",
    "# #     'ActualWt', \n",
    "# #     'Rate', \n",
    "# #     'DeclarHorseWt', \n",
    "#     'WinOdd'#, \n",
    "# #     'Place'\n",
    "#     ]\n",
    "# # Store scalings in a dictionary so we can convert back later\n",
    "# scaled_features = {}\n",
    "# for each in quant_features:\n",
    "#     print(each)\n",
    "#     mean, std = data[each].mean(), data[each].std()\n",
    "#     scaled_features[each] = [mean, std]\n",
    "#     data.loc[:, each] = (data[each] - mean)/std"
   ]
  },
  {
   "cell_type": "code",
   "execution_count": 91,
   "metadata": {
    "collapsed": true
   },
   "outputs": [],
   "source": [
    "# with pd.option_context('display.max_rows', None, 'display.max_columns', 45):\n",
    "#     print(data[0:1])\n",
    "#     print(data[1:2])"
   ]
  },
  {
   "cell_type": "markdown",
   "metadata": {},
   "source": [
    "### Separate the Data to Feature set and Label set\n",
    "\n",
    "Place is the final result that we want"
   ]
  },
  {
   "cell_type": "code",
   "execution_count": 92,
   "metadata": {
    "collapsed": true
   },
   "outputs": [],
   "source": [
    "# label_field = ['Place']\n",
    "# drop_field = ['Place','WinOdd']\n",
    "\n",
    "# # fix random seed for reproducibility\n",
    "# seed = 7\n",
    "# numpy.random.seed(seed)\n",
    "\n",
    "# features, labels = data.drop(drop_field, axis=1), data[label_field]\n",
    "\n",
    "\n",
    "# Save the last 21 days \n",
    "test_data = data[-2000:]\n",
    "data = data[:-2000]\n",
    "\n",
    "# Separate the data into features and targets\n",
    "target_fields = ['isWin']\n",
    "features, targets = data.drop(target_fields, axis=1), data[target_fields]\n",
    "test_features, test_targets = test_data.drop(target_fields, axis=1), test_data[target_fields]\n",
    " \n",
    "train_features, train_targets = features[:-20000], targets[:-20000]\n",
    "val_features, val_targets = features[-20000:], targets[-20000:]\n",
    "\n",
    "# labels /= 20\n",
    "\n",
    "# x_train, x_test, y_train, y_test = train_test_split(features.as_matrix(), labels.as_matrix(), test_size=0.33, shuffle=False) #, random_state=seed)\n",
    "\n",
    "# x_train /= 255\n",
    "# test_data = data[-10000:]\n",
    "# train_data = data[:-10000]\n",
    "\n",
    "# test_features, test_labels = test_data.drop(label_field, axis=1), test_data[label_field]\n",
    "# train_features, train_labels = train_data.drop(label_field, axis=1), train_data[label_field]\n"
   ]
  },
  {
   "cell_type": "code",
   "execution_count": 93,
   "metadata": {
    "collapsed": true
   },
   "outputs": [],
   "source": [
    "# print(features.as_matrix()[0])\n",
    "# print(labels.as_matrix()[0])\n",
    "\n",
    "# print(x_train[0])\n",
    "# print(y_train[0])"
   ]
  },
  {
   "cell_type": "markdown",
   "metadata": {},
   "source": [
    "### Encode the output"
   ]
  },
  {
   "cell_type": "code",
   "execution_count": 94,
   "metadata": {},
   "outputs": [
    {
     "name": "stderr",
     "output_type": "stream",
     "text": [
      "Using TensorFlow backend.\n"
     ]
    },
    {
     "name": "stdout",
     "output_type": "stream",
     "text": [
      "Training set: \t x-shape = (82981, 17) \t y-shape = (82981, 2)\n",
      "Validation set: \t x-shape = (20000, 17) \t y-shape = (20000, 2)\n",
      "Test set: \t x-shape = (2000, 17) \t y-shape = (2000, 2)\n"
     ]
    }
   ],
   "source": [
    "import keras\n",
    "\n",
    "# One-hot encoding the output \n",
    "num_classes = 2\n",
    "y_train = keras.utils.to_categorical(train_targets, num_classes)\n",
    "y_test = keras.utils.to_categorical(test_targets, num_classes)\n",
    "y_val = keras.utils.to_categorical(val_targets, num_classes)\n",
    "print(\"Training set: \\t x-shape = {} \\t y-shape = {}\".format(train_features.shape ,y_train.shape))\n",
    "print(\"Validation set: \\t x-shape = {} \\t y-shape = {}\".format(val_features.shape ,y_val.shape))\n",
    "print(\"Test set: \\t x-shape = {} \\t y-shape = {}\".format(test_features.shape ,y_test.shape))\n",
    "\n"
   ]
  },
  {
   "cell_type": "code",
   "execution_count": 95,
   "metadata": {
    "collapsed": true
   },
   "outputs": [],
   "source": [
    "# class TestCallback(Callback):\n",
    "#     def __init__(self, test_data):\n",
    "#         self.test_data = test_data\n",
    "\n",
    "#     def on_epoch_end(self, epoch, logs={}):\n",
    "#         x, y = self.test_data\n",
    "#         loss, acc = self.model.evaluate(x, y, verbose=0)\n",
    "#         print('\\nTesting loss: {}, acc: {}\\n'.format(loss, acc))"
   ]
  },
  {
   "cell_type": "code",
   "execution_count": 96,
   "metadata": {
    "collapsed": true
   },
   "outputs": [],
   "source": [
    "from keras import backend as K\n",
    "\n",
    "def f1_score(y_true, y_pred):\n",
    "\n",
    "    # Count positive samples.\n",
    "    c1 = K.sum(K.round(K.clip(y_true * y_pred, 0, 1)))\n",
    "    c2 = K.sum(K.round(K.clip(y_pred, 0, 1)))\n",
    "    c3 = K.sum(K.round(K.clip(y_true, 0, 1)))\n",
    "\n",
    "    # If there are no true samples, fix the F1 score at 0.\n",
    "    if c3 == 0:\n",
    "        return 0\n",
    "\n",
    "    # How many selected items are relevant?\n",
    "    precision = c1 / c2\n",
    "\n",
    "    # How many relevant items are selected?\n",
    "    recall = c1 / c3\n",
    "\n",
    "    # Calculate f1_score\n",
    "    f1_score = 2 * (precision * recall) / (precision + recall)\n",
    "    return f1_score\n",
    "\n",
    "\n",
    "def precision(y_true, y_pred):\n",
    "\n",
    "    # Count positive samples.\n",
    "    c1 = K.sum(K.round(K.clip(y_true * y_pred, 0, 1)))\n",
    "    c2 = K.sum(K.round(K.clip(y_pred, 0, 1)))\n",
    "    c3 = K.sum(K.round(K.clip(y_true, 0, 1)))\n",
    "\n",
    "    # If there are no true samples, fix the F1 score at 0.\n",
    "    if c3 == 0:\n",
    "        return 0\n",
    "\n",
    "    # How many selected items are relevant?\n",
    "    precision = c1 / c2\n",
    "\n",
    "    return precision\n",
    "\n",
    "\n",
    "def recall(y_true, y_pred):\n",
    "\n",
    "    # Count positive samples.\n",
    "    c1 = K.sum(K.round(K.clip(y_true * y_pred, 0, 1)))\n",
    "    c3 = K.sum(K.round(K.clip(y_true, 0, 1)))\n",
    "\n",
    "    # If there are no true samples, fix the F1 score at 0.\n",
    "    if c3 == 0:\n",
    "        return 0\n",
    "\n",
    "    recall = c1 / c3\n",
    "\n",
    "    return recall"
   ]
  },
  {
   "cell_type": "code",
   "execution_count": 97,
   "metadata": {},
   "outputs": [
    {
     "name": "stdout",
     "output_type": "stream",
     "text": [
      "_________________________________________________________________\n",
      "Layer (type)                 Output Shape              Param #   \n",
      "=================================================================\n",
      "dense_1 (Dense)              (None, 17)                306       \n",
      "_________________________________________________________________\n",
      "dropout_1 (Dropout)          (None, 17)                0         \n",
      "_________________________________________________________________\n",
      "dense_2 (Dense)              (None, 2)                 36        \n",
      "=================================================================\n",
      "Total params: 342\n",
      "Trainable params: 342\n",
      "Non-trainable params: 0\n",
      "_________________________________________________________________\n",
      "Training ...\n",
      "CPU times: user 57.6 s, sys: 37.6 s, total: 1min 35s\n",
      "Wall time: 52.6 s\n"
     ]
    },
    {
     "data": {
      "image/png": "[encoded data removed]",
      "text/plain": [
       "<matplotlib.figure.Figure at 0x11901eef0>"
      ]
     },
     "metadata": {},
     "output_type": "display_data"
    },
    {
     "name": "stdout",
     "output_type": "stream",
     "text": [
      "\n",
      "Training loss:  \t0.6165\n",
      "Validation loss: \t0.6182\n",
      "\n",
      "Training accuracy: \t0.920\n",
      "Validation accuracy:\t0.919\n",
      "\n",
      "Training f1 score: \t0.920\n",
      "Validation f1 score:\t0.919\n"
     ]
    }
   ],
   "source": [
    "from keras.models import Sequential\n",
    "from keras.layers.core import Dense, Dropout\n",
    "from keras.callbacks import Callback\n",
    "import keras\n",
    "import helper\n",
    "\n",
    "train_features = np.array(train_features)\n",
    "train_targets = np.array(train_targets)\n",
    "val_features = np.array(val_features)\n",
    "val_targets = np.array(val_targets)\n",
    "test_features = np.array(test_features)\n",
    "\n",
    "n_nodes = train_features.shape[1]\n",
    "\n",
    "model = Sequential()\n",
    "model.add(Dense(n_nodes, activation='relu', input_dim = train_features.shape[1]))\n",
    "model.add(Dropout(.1))\n",
    "# model.add(Dense(n_nodes//2, activation='relu'))\n",
    "# model.add(Dropout(.1))\n",
    "\n",
    "# If use normal value as Place\n",
    "# model.add(Dense(1))\n",
    "\n",
    "weights = keras.initializers.RandomNormal(stddev=0.00001)\n",
    "# If use isWin\n",
    "model.add(Dense(2,activation='softmax',\n",
    "               kernel_initializer = weights,\n",
    "               bias_initializer = 'zero'))\n",
    "\n",
    "model.summary()\n",
    "\n",
    "# If use normal value as Place\n",
    "# model.compile(loss='mean_squared_error', optimizer='rmsprop')\n",
    "\n",
    "# If use isWin\n",
    "opt = keras.optimizers.adam(lr=0.000001)\n",
    "model.compile(loss = 'categorical_crossentropy', optimizer=opt, metrics=['accuracy', f1_score, precision, recall])\n",
    "\n",
    "print(\"Training ...\")\n",
    "callbacks = [keras.callbacks.EarlyStopping(monitor='val_loss', patience=20, verbose=0)]\n",
    "# %time history = model.fit(train_features, train_targets, epochs=400, batch_size=1024, verbose=0, validation_data=(val_features, val_targets), callbacks=callbacks)\n",
    "\n",
    "# %time history = model.fit(train_features, y_train, epochs=100, batch_size=32, verbose=0, validation_data=(val_features, y_val), callbacks=callbacks)\n",
    "%time history = model.fit(train_features, y_train, epochs=10, batch_size=32, verbose=0, validation_data=(val_features, y_val), callbacks=callbacks)\n",
    "helper.show_training(history)\n",
    "\n",
    "# model = Sequential([\n",
    "#     Dense(32, input_shape=(29,)),\n",
    "#     Activation('relu'),\n",
    "#     Dense(1),\n",
    "#     Activation('sigmoid'),\n",
    "# ])\n"
   ]
  },
  {
   "cell_type": "code",
   "execution_count": 98,
   "metadata": {},
   "outputs": [
    {
     "name": "stdout",
     "output_type": "stream",
     "text": [
      "f1_score exist\n"
     ]
    },
    {
     "data": {
      "image/png": "[encoded data removed]",
      "text/plain": [
       "<matplotlib.figure.Figure at 0x118adb748>"
      ]
     },
     "metadata": {},
     "output_type": "display_data"
    },
    {
     "name": "stdout",
     "output_type": "stream",
     "text": [
      "\n",
      "Training loss:  \t0.6165\n",
      "Validation loss: \t0.6182\n",
      "\n",
      "Training accuracy: \t0.920\n",
      "Validation accuracy:\t0.919\n",
      "\n",
      "Training f1 score: \t0.920\n",
      "Validation f1 score:\t0.919\n"
     ]
    }
   ],
   "source": [
    "import importlib\n",
    "importlib.reload(helper)\n",
    "\n",
    "hist = history.history\n",
    "if 'f1_score' in hist:\n",
    "    print('f1_score exist')\n",
    "else:\n",
    "    print('f1_score not exist')\n",
    "    \n",
    "helper.show_training(history)"
   ]
  },
  {
   "cell_type": "code",
   "execution_count": 99,
   "metadata": {},
   "outputs": [
    {
     "name": "stdout",
     "output_type": "stream",
     "text": [
      "Accuracy: 0.9170\n"
     ]
    }
   ],
   "source": [
    "score = model.evaluate(test_features, y_test, verbose=0)\n",
    "print(\"Accuracy: {:.4f}\".format(score[1]))"
   ]
  },
  {
   "cell_type": "code",
   "execution_count": 100,
   "metadata": {},
   "outputs": [
    {
     "data": {
      "text/plain": [
       "array([[ 0.54712892,  0.45287114],\n",
       "       [ 0.54713583,  0.45286414],\n",
       "       [ 0.52909267,  0.47090736],\n",
       "       [ 0.54790068,  0.45209926],\n",
       "       [ 0.53455591,  0.46544409],\n",
       "       [ 0.53303373,  0.46696624],\n",
       "       [ 0.54356205,  0.456438  ],\n",
       "       [ 0.54803568,  0.45196426],\n",
       "       [ 0.58012569,  0.41987434],\n",
       "       [ 0.55300242,  0.44699752]], dtype=float32)"
      ]
     },
     "execution_count": 100,
     "metadata": {},
     "output_type": "execute_result"
    }
   ],
   "source": [
    "model.predict(test_features[0:10], batch_size=32)"
   ]
  },
  {
   "cell_type": "code",
   "execution_count": 101,
   "metadata": {},
   "outputs": [
    {
     "data": {
      "text/plain": [
       "array([[ 1.,  0.],\n",
       "       [ 1.,  0.],\n",
       "       [ 1.,  0.],\n",
       "       [ 1.,  0.],\n",
       "       [ 1.,  0.],\n",
       "       [ 1.,  0.],\n",
       "       [ 1.,  0.],\n",
       "       [ 1.,  0.],\n",
       "       [ 1.,  0.],\n",
       "       [ 0.,  1.],\n",
       "       [ 1.,  0.]])"
      ]
     },
     "execution_count": 101,
     "metadata": {},
     "output_type": "execute_result"
    }
   ],
   "source": [
    "y_test[0:11]"
   ]
  },
  {
   "cell_type": "code",
   "execution_count": 117,
   "metadata": {},
   "outputs": [
    {
     "name": "stdout",
     "output_type": "stream",
     "text": [
      "{0: 0.1, 1: 100}\n",
      "Training ...\n",
      "CPU times: user 59.5 s, sys: 38.7 s, total: 1min 38s\n",
      "Wall time: 54.2 s\n"
     ]
    },
    {
     "data": {
      "image/png": "[encoded data removed]",
      "text/plain": [
       "<matplotlib.figure.Figure at 0x1278f39e8>"
      ]
     },
     "metadata": {},
     "output_type": "display_data"
    },
    {
     "name": "stdout",
     "output_type": "stream",
     "text": [
      "\n",
      "Training loss:  \t5.7241\n",
      "Validation loss: \t0.5372\n",
      "\n",
      "Training accuracy: \t0.925\n",
      "Validation accuracy:\t0.921\n",
      "\n",
      "Training f1 score: \t0.925\n",
      "Validation f1 score:\t0.921\n"
     ]
    }
   ],
   "source": [
    "# from sklearn.utils import class_weight\n",
    "\n",
    "# class_weight = class_weight.compute_class_weight('balanced', np.unique(y_train), y_train)\n",
    "standard_weight = 1\n",
    "high_weight = 10\n",
    "weighted_class = 1\n",
    "\n",
    "# class_weight = dict([(i, standard_weight) for i in range(num_classes)])\n",
    "# class_weight[weighted_class] = high_weight\n",
    "\n",
    "# class_weight = [1,10]\n",
    "# class_weight[0] = 1\n",
    "# class_weight[1] = 10\n",
    "\n",
    "\n",
    "weights = dict({0:0.1, 1:100})\n",
    "\n",
    "print(weights)\n",
    "\n",
    "print(\"Training ...\")\n",
    "%time history = model.fit(train_features, y_train, epochs=10, batch_size=32, verbose=0, validation_data=(val_features, y_val), class_weight=weights, callbacks=callbacks)\n",
    "helper.show_training(history)"
   ]
  },
  {
   "cell_type": "code",
   "execution_count": 115,
   "metadata": {},
   "outputs": [
    {
     "data": {
      "text/plain": [
       "array([[ 0.66104048,  0.33895952],\n",
       "       [ 0.58746535,  0.41253465],\n",
       "       [ 0.54884958,  0.45115039],\n",
       "       [ 0.55596614,  0.44403389],\n",
       "       [ 0.56016594,  0.43983403],\n",
       "       [ 0.57299441,  0.42700556],\n",
       "       [ 0.59124511,  0.40875491],\n",
       "       [ 0.56961966,  0.43038034],\n",
       "       [ 0.71215397,  0.28784606],\n",
       "       [ 0.59919268,  0.40080729]], dtype=float32)"
      ]
     },
     "execution_count": 115,
     "metadata": {},
     "output_type": "execute_result"
    }
   ],
   "source": [
    "model.predict(test_features[20:30], batch_size=32)"
   ]
  },
  {
   "cell_type": "code",
   "execution_count": null,
   "metadata": {
    "collapsed": true
   },
   "outputs": [],
   "source": []
  },
  {
   "cell_type": "code",
   "execution_count": 116,
   "metadata": {},
   "outputs": [
    {
     "data": {
      "text/plain": [
       "array([[ 1.,  0.],\n",
       "       [ 0.,  1.],\n",
       "       [ 1.,  0.],\n",
       "       [ 1.,  0.],\n",
       "       [ 1.,  0.],\n",
       "       [ 1.,  0.],\n",
       "       [ 1.,  0.],\n",
       "       [ 1.,  0.],\n",
       "       [ 1.,  0.],\n",
       "       [ 1.,  0.]])"
      ]
     },
     "execution_count": 116,
     "metadata": {},
     "output_type": "execute_result"
    }
   ],
   "source": [
    "y_test[20:30]"
   ]
  },
  {
   "cell_type": "code",
   "execution_count": null,
   "metadata": {
    "collapsed": true
   },
   "outputs": [],
   "source": []
  },
  {
   "cell_type": "code",
   "execution_count": null,
   "metadata": {
    "collapsed": true
   },
   "outputs": [],
   "source": []
  }
 ],
 "metadata": {
  "kernelspec": {
   "display_name": "Python 3",
   "language": "python",
   "name": "python3"
  },
  "language_info": {
   "codemirror_mode": {
    "name": "ipython",
    "version": 3
   },
   "file_extension": ".py",
   "mimetype": "text/x-python",
   "name": "python",
   "nbconvert_exporter": "python",
   "pygments_lexer": "ipython3",
   "version": "3.6.1"
  }
 },
 "nbformat": 4,
 "nbformat_minor": 2
}
