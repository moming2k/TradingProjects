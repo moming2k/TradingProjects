{
 "cells": [
  {
   "cell_type": "markdown",
   "metadata": {},
   "source": [
    "### Import require library first"
   ]
  },
  {
   "cell_type": "code",
   "execution_count": 1,
   "metadata": {
    "collapsed": true
   },
   "outputs": [],
   "source": [
    "from bs4 import BeautifulSoup\n",
    "from html.parser import HTMLParser\n",
    "import pandas as pd\n",
    "from datetime import datetime\n",
    "import os\n",
    "import os.path\n",
    "import sys\n",
    "import pickle\n",
    "import pprint\n",
    "import time\n",
    "\n",
    "import urllib.request, urllib.parse, urllib.error\n",
    "from urllib import request as urlrequest\n",
    "\n",
    "# proxies = {\"http\": \"http://127.0.0.1:8080\",\n",
    "#            \"https\": \"http://127.0.0.1:8080\"}\n",
    "\n",
    "max_try = 3\n",
    "\n",
    "html_cache = '/Users/moming2k/project/TradingProjects/HKHorseDB/data/cache'\n",
    "save_path = '/Users/moming2k/project/TradingProjects/HKHorseDB/data/race_records'\n",
    "\n",
    "# http://squidman.net/squidman/\n",
    "    \n",
    "#create the object, assign it to a variable\n",
    "# proxy = urllib.request.ProxyHandler({'http': 'http://127.0.0.1:8080/','https': 'http://127.0.0.1:8080/'})\n",
    "# # construct a new opener using your proxy settings\n",
    "# opener = urllib.request.build_opener(proxy)\n",
    "# # install the openen on the module-level\n",
    "# urllib.request.install_opener(opener)"
   ]
  },
  {
   "cell_type": "code",
   "execution_count": 2,
   "metadata": {
    "collapsed": true
   },
   "outputs": [],
   "source": [
    "tmp_dict = {'HorseNo': None,\n",
    "'HorseName': None,\n",
    "'Age': None,\n",
    "'JockeyName': None,\n",
    "'ActualWt': None,\n",
    "'Draw': None,\n",
    "'Rate': None,\n",
    "'Owner': None,\n",
    "'DeclarHorseWt': None,\n",
    "'WinOddBeforeNight': None,\n",
    "'WinOddBeforeGate': None,             \n",
    "'WinOdd': None,\n",
    "'WinInTenThousand': None,\n",
    "'PInTenThousand': None,\n",
    "'P_Odd': None,\n",
    "'PlaceInMiddle': None,\n",
    "'Place': None,\n",
    "'TimeInMiddle': None,\n",
    "'FinishTime': None,\n",
    "'LBW': None\n",
    "}"
   ]
  },
  {
   "cell_type": "code",
   "execution_count": 3,
   "metadata": {
    "collapsed": true
   },
   "outputs": [],
   "source": [
    "def convert_str_to_int(int_str):\n",
    "    try:\n",
    "        return int(int_str)\n",
    "    except Exception as err:\n",
    "        return int_str\n",
    "\n",
    "def convert_str_to_float(int_str):\n",
    "    try:\n",
    "        return float(int_str)\n",
    "    except Exception as err:\n",
    "        return int_str"
   ]
  },
  {
   "cell_type": "code",
   "execution_count": 4,
   "metadata": {},
   "outputs": [
    {
     "name": "stdout",
     "output_type": "stream",
     "text": [
      "/Users/moming2k/project/TradingProjects/HKHorseDB/data/cache/http%3A__hk.racing.nextmedia.com_fullresult.php%3Fdate%3D20130206%26page%3D05\n",
      "url = http://hk.racing.nextmedia.com/fullresult.php?date=20130206&page=05 exist in cache\n"
     ]
    },
    {
     "data": {
      "text/plain": [
       "'abcdef'"
      ]
     },
     "execution_count": 4,
     "metadata": {},
     "output_type": "execute_result"
    }
   ],
   "source": [
    "def get_cache_path(url):\n",
    "    url_path = urllib.parse.quote(url).replace('/', '_')\n",
    "    file_path = \"{}/{}\".format(html_cache, url_path)\n",
    "    return file_path\n",
    "\n",
    "demo_url = get_cache_path(\"http://hk.racing.nextmedia.com/fullresult.php?date=20130206&page=05\")\n",
    "print(demo_url)\n",
    "\n",
    "def is_cache_html(url):\n",
    "    filepath = get_cache_path(url)\n",
    "    if(os.path.isfile(filepath)):\n",
    "        return True\n",
    "    else:\n",
    "        return False\n",
    "\n",
    "def set_cache_html(url, html):\n",
    "    filepath = get_cache_path(url)\n",
    "    with open(filepath, 'w') as out:\n",
    "        out.write(html)\n",
    "\n",
    "def get_cache_html(url):\n",
    "    filepath = get_cache_path(url)\n",
    "    if(os.path.isfile(filepath)):\n",
    "        print(\"url = {} exist in cache\".format(url))\n",
    "        with open(filepath, 'r') as io_file:\n",
    "            html = io_file.read()        \n",
    "        return html\n",
    "    else:\n",
    "        print(\"url = {} not exist in cache\".format(url))\n",
    "        return None\n",
    "    \n",
    "\n",
    "set_cache_html(\"http://hk.racing.nextmedia.com/fullresult.php?date=20130206&page=05\", \"abcdef\")\n",
    "get_cache_html(\"http://hk.racing.nextmedia.com/fullresult.php?date=20130206&page=05\")"
   ]
  },
  {
   "cell_type": "code",
   "execution_count": 5,
   "metadata": {
    "collapsed": true
   },
   "outputs": [],
   "source": [
    "def get_param_url(url, data_list=None):\n",
    "    if data_list:\n",
    "        url = \"{}?{}\".format(url, urllib.parse.urlencode(data_list))\n",
    "    return url\n",
    "\n",
    "def get(url, data_list=None, max_try=3):\n",
    "    \n",
    "    url = get_param_url(url, data_list)\n",
    "        \n",
    "    file_path = get_cache_path(url)\n",
    "    \n",
    "    query = urllib.request.Request(url)\n",
    "    current_try = 0\n",
    "    while current_try < max_try:\n",
    "        try:\n",
    "            if(current_try == 0):\n",
    "                proxy = 'http://127.0.0.1:8080'\n",
    "                os.environ['http_proxy'] = proxy \n",
    "                response = urllib.request.urlopen(query)\n",
    "            else:\n",
    "                os.environ['http_proxy'] = '' \n",
    "                response = urllib.request.urlopen(query)\n",
    "\n",
    "            html = response.read()\n",
    "            if(html != None):\n",
    "#                 print('check html={}'.format(html))\n",
    "                response.close()\n",
    "                return html\n",
    "            else:\n",
    "                print('retry')\n",
    "                current_try = current_try + 1\n",
    "        except Exception as e:\n",
    "            print('exception = {}'.format(e))\n",
    "            current_try = current_try + 1\n",
    "    raise Exception(\"Cannot open page {}\".format(url))"
   ]
  },
  {
   "cell_type": "code",
   "execution_count": 47,
   "metadata": {
    "collapsed": true
   },
   "outputs": [],
   "source": [
    "# url = 'http://www.hkhorsedb.com/cseh/passodds.php'\n",
    "# html = get(url)\n",
    "# soup = BeautifulSoup(str(html, 'big5'), \"html.parser\")"
   ]
  },
  {
   "cell_type": "code",
   "execution_count": 6,
   "metadata": {},
   "outputs": [
    {
     "name": "stdout",
     "output_type": "stream",
     "text": [
      "url = http://www.hkhorsedb.com/cseh/passodds.php exist in cache\n",
      "['20170625', '20170621', '20170618', '20170611', '20170607', '20170604', '20170528', '20170524', '20170521', '20170513']\n",
      "['20051130', '20051127', '20051123', '20051116', '20051113', '20051109', '20051101', '20051030', '20051026', '20051019']\n"
     ]
    }
   ],
   "source": [
    "def get_race_date_array():\n",
    "    url = 'http://www.hkhorsedb.com/cseh/passodds.php'\n",
    "    \n",
    "    if is_cache_html(url):\n",
    "        html = get_cache_html(url)\n",
    "    else:\n",
    "        html = get(url)\n",
    "        html = str(html, 'big5')\n",
    "        set_cache_html(url, html)\n",
    "        \n",
    "    soup = BeautifulSoup(html, \"html.parser\")\n",
    "    tr_list = soup.findAll('table')[15].findAll('tr')[1:]\n",
    "    \n",
    "    race_date_array = []\n",
    "    \n",
    "    for i in range(0, len(tr_list)-1):\n",
    "        tr = tr_list[i]\n",
    "        tds = tr.findAll('td')\n",
    "        \n",
    "        for j in range(0, len(tds)-1):\n",
    "            detail_date = tds[j].text\n",
    "            \n",
    "            if (detail_date != \"-\"):\n",
    "                normal_data = ''.join(reversed(detail_date.split('-')))\n",
    "                \n",
    "                if(normal_data != \"\"):\n",
    "                    race_date_array.append(normal_data)\n",
    "    \n",
    "    return race_date_array\n",
    "    \n",
    "race_date_array = get_race_date_array()\n",
    "print(race_date_array[0:10])\n",
    "print(race_date_array[-10:])"
   ]
  },
  {
   "cell_type": "code",
   "execution_count": 49,
   "metadata": {
    "collapsed": true
   },
   "outputs": [],
   "source": [
    "# url = 'http://www.hkhorsedb.com/cseh/passodds.php'\n",
    "# html = get(url)\n",
    "# soup = BeautifulSoup(str(html, 'big5'), \"html.parser\")"
   ]
  },
  {
   "cell_type": "code",
   "execution_count": 50,
   "metadata": {
    "collapsed": true
   },
   "outputs": [],
   "source": [
    "# tr_list = soup.findAll('table')[15].findAll('tr')[1:]"
   ]
  },
  {
   "cell_type": "code",
   "execution_count": 51,
   "metadata": {
    "collapsed": true
   },
   "outputs": [],
   "source": [
    "# print(tr_list[1])"
   ]
  },
  {
   "cell_type": "code",
   "execution_count": 52,
   "metadata": {
    "collapsed": true
   },
   "outputs": [],
   "source": [
    "# tr = tr_list[0]\n",
    "# tds = tr.findAll('td')"
   ]
  },
  {
   "cell_type": "code",
   "execution_count": 53,
   "metadata": {
    "collapsed": true
   },
   "outputs": [],
   "source": [
    "# tds"
   ]
  },
  {
   "cell_type": "code",
   "execution_count": 54,
   "metadata": {
    "collapsed": true
   },
   "outputs": [],
   "source": [
    "# detail_date = tds[0].text\n",
    "# detail_date"
   ]
  },
  {
   "cell_type": "code",
   "execution_count": 55,
   "metadata": {
    "collapsed": true
   },
   "outputs": [],
   "source": [
    "# date_info = ''.join(detail_date.split('-'))\n",
    "# normal_data = ''.join(reversed(detail_date.split('-')))\n",
    "# normal_data"
   ]
  },
  {
   "cell_type": "code",
   "execution_count": 56,
   "metadata": {
    "collapsed": true
   },
   "outputs": [],
   "source": [
    "# 'http://racing.hkjc.com/racing/Info/meeting/Results/english/Local/20130206/HV/5'"
   ]
  },
  {
   "cell_type": "code",
   "execution_count": 57,
   "metadata": {
    "collapsed": true
   },
   "outputs": [],
   "source": [
    "# tr_last = tr_list[-5]\n",
    "# tds_last = tr_last.findAll('td')\n",
    "# tds_last"
   ]
  },
  {
   "cell_type": "code",
   "execution_count": 7,
   "metadata": {
    "collapsed": true
   },
   "outputs": [],
   "source": [
    "def acquire_total_race(date_str):\n",
    "    url = 'http://hk.racing.nextmedia.com/fullresult.php?date={}&page=01'.format(date_str)\n",
    "    html = get(url)\n",
    "    soup = BeautifulSoup(str(html, 'utf-8'), \"html.parser\")\n",
    "    try:\n",
    "        return len(soup.findAll('table')[1].findAll('tr')[0].findAll('td')[0].findAll('a', href=True))\n",
    "    except Exception as err:\n",
    "        return -1"
   ]
  },
  {
   "cell_type": "code",
   "execution_count": 59,
   "metadata": {
    "collapsed": true
   },
   "outputs": [],
   "source": [
    "# urllib.parse.parse_qs(soup.findAll('table')[1].findAll('tr')[0].findAll('td')[0].findAll('a', href=True)[1]['href'])['page'][0]"
   ]
  },
  {
   "cell_type": "code",
   "execution_count": 8,
   "metadata": {
    "collapsed": true
   },
   "outputs": [],
   "source": [
    "def acquire_appledaily_race_record(date_str, race_id):\n",
    "    url = 'http://hk.racing.nextmedia.com/fullresult.php?date={}&page={}'.format(date_str,race_id)\n",
    "    # html = get(url)\n",
    "    # soup = BeautifulSoup(str(html, 'utf-8'), \"html.parser\")\n",
    "    \n",
    "    if is_cache_html(url):\n",
    "        html = get_cache_html(url)\n",
    "    else:\n",
    "        html = get(url)\n",
    "        html = str(html, 'utf-8')\n",
    "        set_cache_html(url, html)\n",
    "    \n",
    "    soup = BeautifulSoup(html, \"html.parser\")\n",
    "        \n",
    "    record_trs = soup.findAll('table')[2].findAll('tr')[2:-1]\n",
    "    return record_trs"
   ]
  },
  {
   "cell_type": "code",
   "execution_count": 9,
   "metadata": {
    "collapsed": true
   },
   "outputs": [],
   "source": [
    "trs = acquire_appledaily_race_record(\"20051130\",\"05\")"
   ]
  },
  {
   "cell_type": "code",
   "execution_count": 29,
   "metadata": {
    "collapsed": true
   },
   "outputs": [],
   "source": [
    "# next_result = 'http://hk.racing.nextmedia.com/fullresult.php?date=20130206&page=05'"
   ]
  },
  {
   "cell_type": "code",
   "execution_count": 63,
   "metadata": {
    "collapsed": true
   },
   "outputs": [],
   "source": [
    "# html_next = get(next_result)"
   ]
  },
  {
   "cell_type": "code",
   "execution_count": 64,
   "metadata": {
    "collapsed": true
   },
   "outputs": [],
   "source": [
    "# soup_next = BeautifulSoup(str(html_next, 'utf-8'), \"html.parser\")"
   ]
  },
  {
   "cell_type": "code",
   "execution_count": 65,
   "metadata": {
    "collapsed": true
   },
   "outputs": [],
   "source": [
    "# next_tr_list = soup_next.findAll('table')[2].findAll('tr')[2:-1]\n",
    "# next_tr_list[0]"
   ]
  },
  {
   "cell_type": "code",
   "execution_count": 66,
   "metadata": {
    "collapsed": true
   },
   "outputs": [],
   "source": [
    "# next_tr_list[-1]"
   ]
  },
  {
   "cell_type": "code",
   "execution_count": 67,
   "metadata": {
    "collapsed": true
   },
   "outputs": [],
   "source": [
    "# next_td_list = next_tr_list[0].findAll('td')"
   ]
  },
  {
   "cell_type": "code",
   "execution_count": 68,
   "metadata": {
    "collapsed": true
   },
   "outputs": [],
   "source": [
    "# next_td_list"
   ]
  },
  {
   "cell_type": "code",
   "execution_count": 69,
   "metadata": {
    "collapsed": true
   },
   "outputs": [],
   "source": [
    "# '馬號\t馬名\t歲\t騎師\t負磅\t檔\t評分\t廄\t馬匹體重\t賠率\t獨贏票(萬)\t位置票(萬)\t位置賠率\t走位\t名次\t分段時間\t總時間\t勝負距離'"
   ]
  },
  {
   "cell_type": "code",
   "execution_count": 70,
   "metadata": {
    "collapsed": true
   },
   "outputs": [],
   "source": [
    "# '7\t超新鮮\t4\t薛寶力\t123\t1\t67\t姚\t1121\t4.8\t3.7\t4.5\t455\t346\t1.5\t2 2\t1\t12.75 21.61 23.01\t(0.57.37)\t頭馬'"
   ]
  },
  {
   "cell_type": "code",
   "execution_count": 10,
   "metadata": {
    "collapsed": true
   },
   "outputs": [],
   "source": [
    "appledaily_web_columns = ['Date','RaceNumber','HorseNo','HorseName','Age','JockeyName','ActualWt', 'Draw', 'Rate','Owner','DeclarHorseWt','WinOddBeforeNight','WinOddBeforeGate','WinOdd','WinInTenThousand','PInTenThousand','P_Odd','PlaceInMiddle','Place', 'TimeInMiddle','FinishTime','LBW']"
   ]
  },
  {
   "cell_type": "code",
   "execution_count": 11,
   "metadata": {
    "collapsed": true
   },
   "outputs": [],
   "source": [
    "tmp_result = tmp_dict.copy()"
   ]
  },
  {
   "cell_type": "code",
   "execution_count": null,
   "metadata": {
    "collapsed": true
   },
   "outputs": [],
   "source": []
  },
  {
   "cell_type": "code",
   "execution_count": 25,
   "metadata": {
    "collapsed": true
   },
   "outputs": [],
   "source": [
    "# setup the data array for later use\n",
    "\n",
    "\n",
    "def process_get_race_date_id(date_str, race_id): #, driver, race_course='ST'):\n",
    "    \n",
    "    result_df = pd.DataFrame(columns=appledaily_web_columns)\n",
    "    \n",
    "    filename = '{}_{}.xlsx'.format(date_str, race_id)\n",
    "    \n",
    "    failed_info = ''\n",
    "    \n",
    "    next_tr_list = acquire_appledaily_race_record(date_str,race_id)\n",
    "    try:\n",
    "        for index in range(0, len(next_tr_list)-1):\n",
    "            tmp_result = tmp_dict.copy()\n",
    "\n",
    "#             print(index)\n",
    "\n",
    "            next_td_list = next_tr_list[index].findAll('td')\n",
    "            next_td_list\n",
    "\n",
    "            try:\n",
    "                tmp_result['Date'] = date_str\n",
    "            except: \n",
    "                print('Can not find Date')\n",
    "            \n",
    "            try:\n",
    "                tmp_result['RaceNumber'] = race_id\n",
    "            except: \n",
    "                print('Can not find Race Number')\n",
    "            \n",
    "            \n",
    "            try:\n",
    "                tmp_result['HorseNo'] = convert_str_to_int(next_td_list[0].text)\n",
    "            except IndexError:\n",
    "                print('Can not find HorseNo')\n",
    "\n",
    "            try:\n",
    "                tmp_result['HorseName'] = next_td_list[1].text\n",
    "            except IndexError:\n",
    "                print('Can not find HorseName')\n",
    "                continue\n",
    "\n",
    "            try:\n",
    "                tmp_result['Age'] = convert_str_to_int(next_td_list[2].text)\n",
    "            except IndexError:\n",
    "                print('Can not find Age')\n",
    "\n",
    "            try:\n",
    "                tmp_result['JockeyName'] = next_td_list[3].text\n",
    "            except IndexError:\n",
    "                print('Can not find JockeyName')\n",
    "\n",
    "            try:\n",
    "                tmp_result['ActualWt'] = convert_str_to_int(next_td_list[4].text)\n",
    "            except IndexError:\n",
    "                print('Can not find ActualWt')\n",
    "\n",
    "            try:\n",
    "                tmp_result['Draw'] = convert_str_to_int(next_td_list[5].text)\n",
    "            except IndexError:\n",
    "                print('Can not find Draw')\n",
    "\n",
    "            try:\n",
    "                tmp_result['Rate'] = convert_str_to_int(next_td_list[6].text)\n",
    "            except IndexError:\n",
    "                print('Can not find Rate')\n",
    "\n",
    "            try:\n",
    "                tmp_result['Owner'] = next_td_list[7].text\n",
    "            except IndexError:\n",
    "                print('Can not find Owner')\n",
    "\n",
    "            try:\n",
    "                tmp_result['DeclarHorseWt'] = convert_str_to_int(next_td_list[8].text)\n",
    "            except IndexError:\n",
    "                print('Can not find DeclarHorseWt')\n",
    "\n",
    "            try:\n",
    "                tmp_result['WinOddBeforeNight'] = convert_str_to_float(next_td_list[9].text)\n",
    "            except IndexError:\n",
    "                print('Can not find WinOddBeforeNight')\n",
    "\n",
    "            try:\n",
    "                tmp_result['WinOddBeforeGate'] = convert_str_to_float(next_td_list[10].text)\n",
    "            except IndexError:\n",
    "                print('Can not find WinOddBeforeGate')\n",
    "\n",
    "            try:\n",
    "                tmp_result['WinOdd'] = convert_str_to_float(next_td_list[11].text)\n",
    "            except IndexError:\n",
    "                print('Can not find WinOdd')\n",
    "\n",
    "            try:\n",
    "                tmp_result['WinInTenThousand'] = convert_str_to_float(next_td_list[12].text)\n",
    "            except IndexError:\n",
    "                print('Can not find WinInTenThousand')\n",
    "\n",
    "            try:\n",
    "                tmp_result['PInTenThousand'] = convert_str_to_float(next_td_list[13].text)\n",
    "            except IndexError:\n",
    "                print('Can not find PInTenThousand')\n",
    "\n",
    "            try:\n",
    "                tmp_result['P_Odd'] = convert_str_to_float(next_td_list[14].text)\n",
    "            except IndexError:\n",
    "                print('Can not find P_Odd')\n",
    "\n",
    "            try:\n",
    "                tmp_result['PlaceInMiddle'] = next_td_list[15].text\n",
    "            except IndexError:\n",
    "                print('Can not find PlaceInMiddle')\n",
    "\n",
    "            try:\n",
    "                tmp_result['Place'] = convert_str_to_int(next_td_list[16].text)\n",
    "            except IndexError:\n",
    "                print('Can not find Place')\n",
    "\n",
    "            if(len(next_td_list) == 20):\n",
    "                try:\n",
    "                    tmp_result['TimeInMiddle'] = next_td_list[17].text\n",
    "                except IndexError:\n",
    "                    print('Can not find TimeInMiddle')\n",
    "\n",
    "                try:\n",
    "                    tmp_result['FinishTime'] = next_td_list[18].text\n",
    "                except IndexError:\n",
    "                    print('Can not find FinishTime')\n",
    "\n",
    "                try:\n",
    "                    tmp_result['LBW'] = next_td_list[19].text\n",
    "                except IndexError:\n",
    "                    print('Can not find LBW')\n",
    "            else:\n",
    "                try:\n",
    "                    tmp_result['FinishTime'] = next_td_list[17].text\n",
    "                except IndexError:\n",
    "                    print('Can not find FinishTime')\n",
    "\n",
    "                try:\n",
    "                    tmp_result['LBW'] = next_td_list[18].text\n",
    "                except IndexError:\n",
    "                    print('Can not find LBW')\n",
    "\n",
    "            result_df.loc[index] = tmp_result\n",
    "            \n",
    "        result_df.to_excel(os.path.join(save_path, '{}_{}.xlsx'.format(date_str, race_id)), index=False)\n",
    "        result_df.to_csv(os.path.join(save_path, '{}_{}.cvs'.format(date_str, race_id)), index=False)\n",
    "\n",
    "    except Exception as err:\n",
    "        failed_info = '{} {}: test_failed as {}'.format(failed_info, datetime.today().strftime('%Y-%m-%d'), err)\n",
    "        print(failed_info)"
   ]
  },
  {
   "cell_type": "code",
   "execution_count": 26,
   "metadata": {},
   "outputs": [
    {
     "name": "stdout",
     "output_type": "stream",
     "text": [
      "url = http://hk.racing.nextmedia.com/fullresult.php?date=20051130&page=05 exist in cache\n",
      "19\n",
      "19\n",
      "19\n",
      "19\n",
      "19\n",
      "19\n",
      "19\n",
      "19\n",
      "19\n",
      "19\n",
      "19\n"
     ]
    }
   ],
   "source": [
    "process_get_race_date_id(\"20051130\",\"05\")"
   ]
  },
  {
   "cell_type": "code",
   "execution_count": 14,
   "metadata": {},
   "outputs": [
    {
     "ename": "NameError",
     "evalue": "name 'result_df' is not defined",
     "output_type": "error",
     "traceback": [
      "\u001b[0;31m---------------------------------------------------------------------------\u001b[0m",
      "\u001b[0;31mNameError\u001b[0m                                 Traceback (most recent call last)",
      "\u001b[0;32m<ipython-input-14-6d71da037bc2>\u001b[0m in \u001b[0;36m<module>\u001b[0;34m()\u001b[0m\n\u001b[0;32m----> 1\u001b[0;31m \u001b[0mresult_df\u001b[0m\u001b[0;34m\u001b[0m\u001b[0m\n\u001b[0m",
      "\u001b[0;31mNameError\u001b[0m: name 'result_df' is not defined"
     ]
    }
   ],
   "source": [
    "# result_df"
   ]
  },
  {
   "cell_type": "code",
   "execution_count": 76,
   "metadata": {
    "collapsed": true
   },
   "outputs": [],
   "source": [
    "# Add Leading Zero\n",
    "# str(1).zfill(2)"
   ]
  },
  {
   "cell_type": "code",
   "execution_count": 77,
   "metadata": {
    "collapsed": true
   },
   "outputs": [],
   "source": [
    "# ~/Library/Logs/squid/squid-access.log"
   ]
  },
  {
   "cell_type": "code",
   "execution_count": 36,
   "metadata": {},
   "outputs": [
    {
     "name": "stdout",
     "output_type": "stream",
     "text": [
      "http://hk.racing.nextmedia.com/fullresult.php?date=20170625&page=01\n",
      "url = http://hk.racing.nextmedia.com/fullresult.php?date=20170625&page=01 exist in cache\n",
      "http://hk.racing.nextmedia.com/fullresult.php?date=20170625&page=02\n",
      "url = http://hk.racing.nextmedia.com/fullresult.php?date=20170625&page=02 exist in cache\n",
      "http://hk.racing.nextmedia.com/fullresult.php?date=20170625&page=03\n",
      "url = http://hk.racing.nextmedia.com/fullresult.php?date=20170625&page=03 exist in cache\n",
      "http://hk.racing.nextmedia.com/fullresult.php?date=20170625&page=04\n",
      "http://hk.racing.nextmedia.com/fullresult.php?date=20170625&page=05\n"
     ]
    },
    {
     "ename": "KeyboardInterrupt",
     "evalue": "",
     "output_type": "error",
     "traceback": [
      "\u001b[0;31m---------------------------------------------------------------------------\u001b[0m",
      "\u001b[0;31mKeyboardInterrupt\u001b[0m                         Traceback (most recent call last)",
      "\u001b[0;32m<ipython-input-36-981cac9fdbdb>\u001b[0m in \u001b[0;36m<module>\u001b[0;34m()\u001b[0m\n\u001b[1;32m      7\u001b[0m             \u001b[0mprocess_get_race_date_id\u001b[0m\u001b[0;34m(\u001b[0m\u001b[0mrace_date\u001b[0m\u001b[0;34m,\u001b[0m \u001b[0mrace_index\u001b[0m\u001b[0;34m)\u001b[0m\u001b[0;34m\u001b[0m\u001b[0m\n\u001b[1;32m      8\u001b[0m \u001b[0;34m\u001b[0m\u001b[0m\n\u001b[0;32m----> 9\u001b[0;31m             \u001b[0mtime\u001b[0m\u001b[0;34m.\u001b[0m\u001b[0msleep\u001b[0m\u001b[0;34m(\u001b[0m\u001b[0;36m3\u001b[0m\u001b[0;34m)\u001b[0m\u001b[0;34m\u001b[0m\u001b[0m\n\u001b[0m\u001b[1;32m     10\u001b[0m         \u001b[0;32mexcept\u001b[0m \u001b[0mException\u001b[0m \u001b[0;32mas\u001b[0m \u001b[0merr\u001b[0m\u001b[0;34m:\u001b[0m\u001b[0;34m\u001b[0m\u001b[0m\n\u001b[1;32m     11\u001b[0m             \u001b[0mprint\u001b[0m\u001b[0;34m(\u001b[0m\u001b[0;34m'Error for date = {} and race = {}'\u001b[0m\u001b[0;34m.\u001b[0m\u001b[0mformat\u001b[0m\u001b[0;34m(\u001b[0m\u001b[0mrace_date\u001b[0m\u001b[0;34m,\u001b[0m\u001b[0mindex\u001b[0m\u001b[0;34m)\u001b[0m\u001b[0;34m)\u001b[0m\u001b[0;34m\u001b[0m\u001b[0m\n",
      "\u001b[0;31mKeyboardInterrupt\u001b[0m: "
     ]
    }
   ],
   "source": [
    "for race_date in race_date_array:\n",
    "    count = acquire_total_race(race_date)\n",
    "    for index in range(1, count+1):\n",
    "        try:\n",
    "            race_index = str(index).zfill(2)\n",
    "            print('http://hk.racing.nextmedia.com/fullresult.php?date={}&page={}'.format(race_date, race_index))\n",
    "            process_get_race_date_id(race_date, race_index)\n",
    "\n",
    "            time.sleep(3)\n",
    "        except Exception as err:\n",
    "            print('Error for date = {} and race = {}'.format(race_date,index))\n",
    "            time.sleep(1)"
   ]
  },
  {
   "cell_type": "code",
   "execution_count": null,
   "metadata": {
    "collapsed": true
   },
   "outputs": [],
   "source": []
  },
  {
   "cell_type": "code",
   "execution_count": null,
   "metadata": {
    "collapsed": true
   },
   "outputs": [],
   "source": []
  },
  {
   "cell_type": "code",
   "execution_count": null,
   "metadata": {
    "collapsed": true
   },
   "outputs": [],
   "source": []
  },
  {
   "cell_type": "code",
   "execution_count": null,
   "metadata": {
    "collapsed": true
   },
   "outputs": [],
   "source": []
  },
  {
   "cell_type": "code",
   "execution_count": null,
   "metadata": {
    "collapsed": true
   },
   "outputs": [],
   "source": []
  },
  {
   "cell_type": "code",
   "execution_count": null,
   "metadata": {
    "collapsed": true
   },
   "outputs": [],
   "source": []
  },
  {
   "cell_type": "code",
   "execution_count": null,
   "metadata": {
    "collapsed": true
   },
   "outputs": [],
   "source": []
  },
  {
   "cell_type": "code",
   "execution_count": null,
   "metadata": {
    "collapsed": true
   },
   "outputs": [],
   "source": []
  },
  {
   "cell_type": "code",
   "execution_count": null,
   "metadata": {
    "collapsed": true
   },
   "outputs": [],
   "source": []
  },
  {
   "cell_type": "code",
   "execution_count": null,
   "metadata": {
    "collapsed": true
   },
   "outputs": [],
   "source": []
  },
  {
   "cell_type": "code",
   "execution_count": null,
   "metadata": {
    "collapsed": true
   },
   "outputs": [],
   "source": []
  },
  {
   "cell_type": "code",
   "execution_count": null,
   "metadata": {
    "collapsed": true
   },
   "outputs": [],
   "source": []
  },
  {
   "cell_type": "code",
   "execution_count": 79,
   "metadata": {
    "collapsed": true
   },
   "outputs": [],
   "source": [
    "# hockey_web_columns = ['Place', 'HorseNo', 'HorseName', 'HorseCode', 'JockeyName', 'JockeyCode', 'TrainerName', 'TrianerCode',\n",
    "#            'ActualWt', 'DeclarHorseWt', 'Draw', 'LBW', 'FinishTime', 'WinOdd', 'SecTime1', 'SecTime2', 'SecTime3',\n",
    "#            'SecTime4', 'SecTime5', 'SecTime6']"
   ]
  },
  {
   "cell_type": "code",
   "execution_count": 80,
   "metadata": {
    "collapsed": true
   },
   "outputs": [],
   "source": [
    "# '名次\t馬號\t馬名\t騎師\t練馬師\t實際負磅\t排位體重\t檔位\t頭馬距離\t沿途走位\t完成時間\t獨贏賠率'"
   ]
  },
  {
   "cell_type": "code",
   "execution_count": 81,
   "metadata": {
    "collapsed": true
   },
   "outputs": [],
   "source": [
    "# 'Plc.\tHorse No.\tHorse\tJockey\tTrainer\tActual Wt.\tDeclar.Horse Wt.\tDraw\tLBW\tRunning Position\tFinish Time\tWin Odds'"
   ]
  },
  {
   "cell_type": "code",
   "execution_count": 82,
   "metadata": {
    "collapsed": true
   },
   "outputs": [],
   "source": [
    "# '1\t7\tSUPER FRESH(N194)\tA Suborics\tP F Yiu\t123\t1121\t1\t-\t2\t2\t1\t0.57.37\t4.5'"
   ]
  },
  {
   "cell_type": "code",
   "execution_count": 83,
   "metadata": {
    "collapsed": true
   },
   "outputs": [],
   "source": [
    "# jackey_url = 'http://racing.hkjc.com/racing/Info/meeting/Results/english/Local/20130206/HV/5'"
   ]
  },
  {
   "cell_type": "code",
   "execution_count": 84,
   "metadata": {
    "collapsed": true
   },
   "outputs": [],
   "source": [
    "# 'http://bet.hkjc.com/racing/getXML.aspx?type=win&date=19-10-2016&venue=HV&raceno=1'"
   ]
  },
  {
   "cell_type": "code",
   "execution_count": null,
   "metadata": {
    "collapsed": true
   },
   "outputs": [],
   "source": []
  }
 ],
 "metadata": {
  "celltoolbar": "Raw Cell Format",
  "kernelspec": {
   "display_name": "Python 3",
   "language": "python",
   "name": "python3"
  },
  "language_info": {
   "codemirror_mode": {
    "name": "ipython",
    "version": 3
   },
   "file_extension": ".py",
   "mimetype": "text/x-python",
   "name": "python",
   "nbconvert_exporter": "python",
   "pygments_lexer": "ipython3",
   "version": "3.6.1"
  }
 },
 "nbformat": 4,
 "nbformat_minor": 1
}
