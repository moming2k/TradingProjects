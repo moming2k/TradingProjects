{
 "cells": [
  {
   "cell_type": "markdown",
   "metadata": {},
   "source": [
    "### Import require library first"
   ]
  },
  {
   "cell_type": "code",
   "execution_count": 1,
   "metadata": {
    "collapsed": true
   },
   "outputs": [],
   "source": [
    "from bs4 import BeautifulSoup\n",
    "from html.parser import HTMLParser\n",
    "import pandas as pd\n",
    "from datetime import datetime\n",
    "import os\n",
    "import sys\n",
    "import pickle\n",
    "import pprint\n",
    "\n",
    "import urllib.request, urllib.parse, urllib.error\n",
    "\n",
    "proxies = {\"http\": \"http://127.0.0.1:8090\",\n",
    "           \"https\": \"http://127.0.0.1:8090\"}\n",
    "\n",
    "# http://squidman.net/squidman/\n",
    "    \n",
    "#create the object, assign it to a variable\n",
    "proxy = urllib.request.ProxyHandler({'http': 'http://127.0.0.1:8090/','https': 'http://127.0.0.1:8090/'})\n",
    "# construct a new opener using your proxy settings\n",
    "opener = urllib.request.build_opener(proxy)\n",
    "# install the openen on the module-level\n",
    "urllib.request.install_opener(opener)"
   ]
  },
  {
   "cell_type": "code",
   "execution_count": 2,
   "metadata": {
    "collapsed": true
   },
   "outputs": [],
   "source": [
    "tmp_dict = {'HorseNo': None,\n",
    "'HorseName': None,\n",
    "'Age': None,\n",
    "'JockeyName': None,\n",
    "'ActualWt': None,\n",
    "'Draw': None,\n",
    "'Rate': None,\n",
    "'Owner': None,\n",
    "'DeclarHorseWt': None,\n",
    "'WinOddBeforeNight': None,\n",
    "'WinOddBeforeGate': None,             \n",
    "'WinOdd': None,\n",
    "'WinInTenThousand': None,\n",
    "'PInTenThousand': None,\n",
    "'P_Odd': None,\n",
    "'PlaceInMiddle': None,\n",
    "'Place': None,\n",
    "'TimeInMiddle': None,\n",
    "'FinishTime': None,\n",
    "'LBW': None\n",
    "}"
   ]
  },
  {
   "cell_type": "code",
   "execution_count": 3,
   "metadata": {
    "collapsed": true
   },
   "outputs": [],
   "source": [
    "def convert_str_to_int(int_str):\n",
    "    try:\n",
    "        return int(int_str)\n",
    "    except Exception as err:\n",
    "        return int_str\n",
    "\n",
    "def convert_str_to_float(int_str):\n",
    "    try:\n",
    "        return float(int_str)\n",
    "    except Exception as err:\n",
    "        return int_str"
   ]
  },
  {
   "cell_type": "code",
   "execution_count": 4,
   "metadata": {
    "collapsed": true
   },
   "outputs": [],
   "source": [
    "def get(url, data_list=None, max_try=3):\n",
    "    if data_list:\n",
    "        url = \"{}?{}\".format(url, urllib.parse.urlencode(data_list))\n",
    "    query = urllib.request.Request(url)\n",
    "    current_try = 0\n",
    "    while current_try < max_try:\n",
    "        try:\n",
    "            response = urllib.request.urlopen(query)\n",
    "            html = response.read()\n",
    "            response.close()\n",
    "            return html\n",
    "        except Exception as e:\n",
    "            return None\n",
    "    raise Exception(\"Cannot open page {}\".format(url))"
   ]
  },
  {
   "cell_type": "code",
   "execution_count": 5,
   "metadata": {
    "collapsed": true
   },
   "outputs": [],
   "source": [
    "# url = 'http://www.hkhorsedb.com/cseh/passodds.php'\n",
    "# html = get(url)\n",
    "# soup = BeautifulSoup(str(html, 'big5'), \"html.parser\")"
   ]
  },
  {
   "cell_type": "code",
   "execution_count": 6,
   "metadata": {},
   "outputs": [
    {
     "name": "stdout",
     "output_type": "stream",
     "text": [
      "['20170621', '20170618', '20170614', '20170607', '20170604', '20170531', '20170524', '20170521', '20170517', '20170510']\n",
      "['20051203', '20051127', '20051123', '20051120', '20051113', '20051109', '20051105', '20051030', '20051026', '20051022']\n"
     ]
    }
   ],
   "source": [
    "def get_race_date_array():\n",
    "    url = 'http://www.hkhorsedb.com/cseh/passodds.php'\n",
    "    html = get(url)\n",
    "    soup = BeautifulSoup(str(html, 'big5'), \"html.parser\")\n",
    "    tr_list = soup.findAll('table')[15].findAll('tr')[1:]\n",
    "    \n",
    "    race_date_array = []\n",
    "    \n",
    "    for i in range(0, len(tr_list)-1):\n",
    "        tr = tr_list[i]\n",
    "        tds = tr.findAll('td')\n",
    "        \n",
    "        for j in range(0, len(tds)-1):\n",
    "            detail_date = tds[j].text\n",
    "            \n",
    "            if (detail_date != \"-\"):\n",
    "                normal_data = ''.join(reversed(detail_date.split('-')))\n",
    "                \n",
    "                if(normal_data != \"\"):\n",
    "                    race_date_array.append(normal_data)\n",
    "    \n",
    "    return race_date_array\n",
    "    \n",
    "race_date_array = get_race_date_array()\n",
    "print(race_date_array[0:10])\n",
    "print(race_date_array[-10:])"
   ]
  },
  {
   "cell_type": "code",
   "execution_count": 7,
   "metadata": {
    "collapsed": true
   },
   "outputs": [],
   "source": [
    "# url = 'http://www.hkhorsedb.com/cseh/passodds.php'\n",
    "# html = get(url)\n",
    "# soup = BeautifulSoup(str(html, 'big5'), \"html.parser\")"
   ]
  },
  {
   "cell_type": "code",
   "execution_count": 8,
   "metadata": {
    "collapsed": true
   },
   "outputs": [],
   "source": [
    "# tr_list = soup.findAll('table')[15].findAll('tr')[1:]"
   ]
  },
  {
   "cell_type": "code",
   "execution_count": 9,
   "metadata": {
    "collapsed": true
   },
   "outputs": [],
   "source": [
    "# print(tr_list[1])"
   ]
  },
  {
   "cell_type": "code",
   "execution_count": 10,
   "metadata": {
    "collapsed": true
   },
   "outputs": [],
   "source": [
    "# tr = tr_list[0]\n",
    "# tds = tr.findAll('td')"
   ]
  },
  {
   "cell_type": "code",
   "execution_count": 11,
   "metadata": {
    "collapsed": true
   },
   "outputs": [],
   "source": [
    "# tds"
   ]
  },
  {
   "cell_type": "code",
   "execution_count": 12,
   "metadata": {
    "collapsed": true
   },
   "outputs": [],
   "source": [
    "# detail_date = tds[0].text\n",
    "# detail_date"
   ]
  },
  {
   "cell_type": "code",
   "execution_count": 13,
   "metadata": {
    "collapsed": true
   },
   "outputs": [],
   "source": [
    "# date_info = ''.join(detail_date.split('-'))\n",
    "# normal_data = ''.join(reversed(detail_date.split('-')))\n",
    "# normal_data"
   ]
  },
  {
   "cell_type": "code",
   "execution_count": 14,
   "metadata": {
    "collapsed": true
   },
   "outputs": [],
   "source": [
    "# 'http://racing.hkjc.com/racing/Info/meeting/Results/english/Local/20130206/HV/5'"
   ]
  },
  {
   "cell_type": "code",
   "execution_count": 15,
   "metadata": {
    "collapsed": true
   },
   "outputs": [],
   "source": [
    "# tr_last = tr_list[-5]\n",
    "# tds_last = tr_last.findAll('td')\n",
    "# tds_last"
   ]
  },
  {
   "cell_type": "code",
   "execution_count": 16,
   "metadata": {
    "collapsed": true
   },
   "outputs": [],
   "source": [
    "def acquire_appledaily_race_record(date_str, race_id):\n",
    "    url = 'http://hk.racing.nextmedia.com/fullresult.php?date={}&page={}'.format(date_str,race_id)\n",
    "    html = get(url)\n",
    "    soup = BeautifulSoup(str(html, 'utf-8'), \"html.parser\")\n",
    "    record_trs = soup.findAll('table')[2].findAll('tr')[2:-1]\n",
    "    return record_trs"
   ]
  },
  {
   "cell_type": "code",
   "execution_count": 17,
   "metadata": {
    "collapsed": true
   },
   "outputs": [],
   "source": [
    "# trs = acquire_appledaily_race_record(\"20130206\",\"05\")"
   ]
  },
  {
   "cell_type": "code",
   "execution_count": 18,
   "metadata": {
    "collapsed": true
   },
   "outputs": [],
   "source": [
    "# next_result = 'http://hk.racing.nextmedia.com/fullresult.php?date=20130206&page=05'"
   ]
  },
  {
   "cell_type": "code",
   "execution_count": 19,
   "metadata": {
    "collapsed": true
   },
   "outputs": [],
   "source": [
    "# html_next = get(next_result)"
   ]
  },
  {
   "cell_type": "code",
   "execution_count": 20,
   "metadata": {
    "collapsed": true
   },
   "outputs": [],
   "source": [
    "# soup_next = BeautifulSoup(str(html_next, 'utf-8'), \"html.parser\")"
   ]
  },
  {
   "cell_type": "code",
   "execution_count": 21,
   "metadata": {
    "collapsed": true
   },
   "outputs": [],
   "source": [
    "# next_tr_list = soup_next.findAll('table')[2].findAll('tr')[2:-1]\n",
    "# next_tr_list[0]"
   ]
  },
  {
   "cell_type": "code",
   "execution_count": 22,
   "metadata": {
    "collapsed": true
   },
   "outputs": [],
   "source": [
    "# next_tr_list[-1]"
   ]
  },
  {
   "cell_type": "code",
   "execution_count": 23,
   "metadata": {
    "collapsed": true
   },
   "outputs": [],
   "source": [
    "# next_td_list = next_tr_list[0].findAll('td')"
   ]
  },
  {
   "cell_type": "code",
   "execution_count": 24,
   "metadata": {
    "collapsed": true
   },
   "outputs": [],
   "source": [
    "# next_td_list"
   ]
  },
  {
   "cell_type": "code",
   "execution_count": 25,
   "metadata": {
    "collapsed": true
   },
   "outputs": [],
   "source": [
    "# '馬號\t馬名\t歲\t騎師\t負磅\t檔\t評分\t廄\t馬匹體重\t賠率\t獨贏票(萬)\t位置票(萬)\t位置賠率\t走位\t名次\t分段時間\t總時間\t勝負距離'"
   ]
  },
  {
   "cell_type": "code",
   "execution_count": 26,
   "metadata": {
    "collapsed": true
   },
   "outputs": [],
   "source": [
    "# '7\t超新鮮\t4\t薛寶力\t123\t1\t67\t姚\t1121\t4.8\t3.7\t4.5\t455\t346\t1.5\t2 2\t1\t12.75 21.61 23.01\t(0.57.37)\t頭馬'"
   ]
  },
  {
   "cell_type": "code",
   "execution_count": 27,
   "metadata": {
    "collapsed": true
   },
   "outputs": [],
   "source": [
    "appledaily_web_columns = ['Date','RaceNumber','HorseNo','HorseName','Age','JockeyName','ActualWt', 'Draw', 'Rate','Owner','DeclarHorseWt','WinOddBeforeNight','WinOddBeforeGate','WinOdd','WinInTenThousand','PInTenThousand','P_Odd','PlaceInMiddle','Place', 'TimeInMiddle','FinishTime','LBW']"
   ]
  },
  {
   "cell_type": "code",
   "execution_count": 28,
   "metadata": {
    "collapsed": true
   },
   "outputs": [],
   "source": [
    "tmp_result = tmp_dict.copy()"
   ]
  },
  {
   "cell_type": "code",
   "execution_count": null,
   "metadata": {
    "collapsed": true
   },
   "outputs": [],
   "source": []
  },
  {
   "cell_type": "code",
   "execution_count": 29,
   "metadata": {
    "collapsed": true
   },
   "outputs": [],
   "source": [
    "save_path = '/Users/chris.chan/project/TradingProjects/HKHorseDB/data/race_records'\n",
    "\n",
    "# setup the data array for later use\n",
    "result_df = pd.DataFrame(columns=appledaily_web_columns)\n",
    "\n",
    "def process_get_race_date_id(date_str, race_id): #, driver, race_course='ST'):\n",
    "    \n",
    "    filename = '{}_{}.xlsx'.format(date_str, race_id)\n",
    "    \n",
    "    failed_info = ''\n",
    "    \n",
    "    next_tr_list = acquire_appledaily_race_record(date_str,race_id)\n",
    "    try:\n",
    "        for index in range(0, len(next_tr_list)-1):\n",
    "            tmp_result = tmp_dict.copy()\n",
    "\n",
    "#             print(index)\n",
    "\n",
    "            next_td_list = next_tr_list[index].findAll('td')\n",
    "            next_td_list\n",
    "\n",
    "            try:\n",
    "                tmp_result['Date'] = date_str\n",
    "            except: \n",
    "                print('Can not find Date')\n",
    "            \n",
    "            try:\n",
    "                tmp_result['RaceNumber'] = race_id\n",
    "            except: \n",
    "                print('Can not find Race Number')\n",
    "            \n",
    "            \n",
    "            try:\n",
    "                tmp_result['HorseNo'] = convert_str_to_int(next_td_list[0].text)\n",
    "            except IndexError:\n",
    "                print('Can not find HorseNo')\n",
    "\n",
    "            try:\n",
    "                tmp_result['HorseName'] = next_td_list[1].text\n",
    "            except IndexError:\n",
    "                print('Can not find HorseName')\n",
    "                continue\n",
    "\n",
    "            try:\n",
    "                tmp_result['Age'] = convert_str_to_int(next_td_list[2].text)\n",
    "            except IndexError:\n",
    "                print('Can not find Age')\n",
    "\n",
    "            try:\n",
    "                tmp_result['JockeyName'] = next_td_list[3].text\n",
    "            except IndexError:\n",
    "                print('Can not find JockeyName')\n",
    "\n",
    "            try:\n",
    "                tmp_result['ActualWt'] = convert_str_to_int(next_td_list[4].text)\n",
    "            except IndexError:\n",
    "                print('Can not find ActualWt')\n",
    "\n",
    "            try:\n",
    "                tmp_result['Draw'] = convert_str_to_int(next_td_list[5].text)\n",
    "            except IndexError:\n",
    "                print('Can not find Draw')\n",
    "\n",
    "            try:\n",
    "                tmp_result['Rate'] = convert_str_to_int(next_td_list[6].text)\n",
    "            except IndexError:\n",
    "                print('Can not find Rate')\n",
    "\n",
    "            try:\n",
    "                tmp_result['Owner'] = next_td_list[7].text\n",
    "            except IndexError:\n",
    "                print('Can not find Owner')\n",
    "\n",
    "            try:\n",
    "                tmp_result['DeclarHorseWt'] = convert_str_to_int(next_td_list[8].text)\n",
    "            except IndexError:\n",
    "                print('Can not find DeclarHorseWt')\n",
    "\n",
    "            try:\n",
    "                tmp_result['WinOddBeforeNight'] = convert_str_to_float(next_td_list[9].text)\n",
    "            except IndexError:\n",
    "                print('Can not find WinOddBeforeNight')\n",
    "\n",
    "            try:\n",
    "                tmp_result['WinOddBeforeGate'] = convert_str_to_float(next_td_list[10].text)\n",
    "            except IndexError:\n",
    "                print('Can not find WinOddBeforeGate')\n",
    "\n",
    "            try:\n",
    "                tmp_result['WinOdd'] = convert_str_to_float(next_td_list[11].text)\n",
    "            except IndexError:\n",
    "                print('Can not find WinOdd')\n",
    "\n",
    "            try:\n",
    "                tmp_result['WinInTenThousand'] = convert_str_to_float(next_td_list[12].text)\n",
    "            except IndexError:\n",
    "                print('Can not find WinInTenThousand')\n",
    "\n",
    "            try:\n",
    "                tmp_result['PInTenThousand'] = convert_str_to_float(next_td_list[13].text)\n",
    "            except IndexError:\n",
    "                print('Can not find PInTenThousand')\n",
    "\n",
    "            try:\n",
    "                tmp_result['P_Odd'] = convert_str_to_float(next_td_list[14].text)\n",
    "            except IndexError:\n",
    "                print('Can not find P_Odd')\n",
    "\n",
    "            try:\n",
    "                tmp_result['PlaceInMiddle'] = next_td_list[15].text\n",
    "            except IndexError:\n",
    "                print('Can not find PlaceInMiddle')\n",
    "\n",
    "            try:\n",
    "                tmp_result['Place'] = convert_str_to_int(next_td_list[16].text)\n",
    "            except IndexError:\n",
    "                print('Can not find Place')\n",
    "\n",
    "            try:\n",
    "                tmp_result['TimeInMiddle'] = next_td_list[17].text\n",
    "            except IndexError:\n",
    "                print('Can not find TimeInMiddle')\n",
    "\n",
    "            try:\n",
    "                tmp_result['FinishTime'] = next_td_list[18].text\n",
    "            except IndexError:\n",
    "                print('Can not find FinishTime')\n",
    "\n",
    "            try:\n",
    "                tmp_result['LBW'] = next_td_list[19].text\n",
    "            except IndexError:\n",
    "                print('Can not find LBW')\n",
    "\n",
    "            result_df.loc[index] = tmp_result\n",
    "            \n",
    "        result_df.to_excel(os.path.join(save_path, '{}_{}.xlsx'.format(date_str, race_id)), index=False)\n",
    "        result_df.to_csv(os.path.join(save_path, '{}_{}.cvs'.format(date_str, race_id)), index=False)\n",
    "\n",
    "    except Exception as err:\n",
    "        failed_info = '{} {}: test_failed as {}'.format(failed_info, datetime.today().strftime('%Y-%m-%d'), err)\n",
    "        print(failed_info)\n",
    "        "
   ]
  },
  {
   "cell_type": "code",
   "execution_count": 30,
   "metadata": {
    "collapsed": true
   },
   "outputs": [],
   "source": [
    "process_get_race_date_id(\"20130206\",\"05\")"
   ]
  },
  {
   "cell_type": "code",
   "execution_count": 40,
   "metadata": {},
   "outputs": [
    {
     "data": {
      "text/html": [
       "<div>\n",
       "<style>\n",
       "    .dataframe thead tr:only-child th {\n",
       "        text-align: right;\n",
       "    }\n",
       "\n",
       "    .dataframe thead th {\n",
       "        text-align: left;\n",
       "    }\n",
       "\n",
       "    .dataframe tbody tr th {\n",
       "        vertical-align: top;\n",
       "    }\n",
       "</style>\n",
       "<table border=\"1\" class=\"dataframe\">\n",
       "  <thead>\n",
       "    <tr style=\"text-align: right;\">\n",
       "      <th></th>\n",
       "      <th>Date</th>\n",
       "      <th>RaceNumber</th>\n",
       "      <th>HorseNo</th>\n",
       "      <th>HorseName</th>\n",
       "      <th>Age</th>\n",
       "      <th>JockeyName</th>\n",
       "      <th>ActualWt</th>\n",
       "      <th>Draw</th>\n",
       "      <th>Rate</th>\n",
       "      <th>Owner</th>\n",
       "      <th>...</th>\n",
       "      <th>WinOddBeforeGate</th>\n",
       "      <th>WinOdd</th>\n",
       "      <th>WinInTenThousand</th>\n",
       "      <th>PInTenThousand</th>\n",
       "      <th>P_Odd</th>\n",
       "      <th>PlaceInMiddle</th>\n",
       "      <th>Place</th>\n",
       "      <th>TimeInMiddle</th>\n",
       "      <th>FinishTime</th>\n",
       "      <th>LBW</th>\n",
       "    </tr>\n",
       "  </thead>\n",
       "  <tbody>\n",
       "    <tr>\n",
       "      <th>0</th>\n",
       "      <td>20130206</td>\n",
       "      <td>05</td>\n",
       "      <td>7</td>\n",
       "      <td>超新鮮</td>\n",
       "      <td>4</td>\n",
       "      <td>薛寶力</td>\n",
       "      <td>123</td>\n",
       "      <td>1</td>\n",
       "      <td>67</td>\n",
       "      <td>姚</td>\n",
       "      <td>...</td>\n",
       "      <td>3.7</td>\n",
       "      <td>4.5</td>\n",
       "      <td>455.0</td>\n",
       "      <td>346.0</td>\n",
       "      <td>1.5</td>\n",
       "      <td>2 2</td>\n",
       "      <td>1</td>\n",
       "      <td>12.75 21.61 23.01</td>\n",
       "      <td>(0.57.37)</td>\n",
       "      <td>頭馬</td>\n",
       "    </tr>\n",
       "    <tr>\n",
       "      <th>1</th>\n",
       "      <td>20130206</td>\n",
       "      <td>05</td>\n",
       "      <td>11</td>\n",
       "      <td>火燎腚</td>\n",
       "      <td>5</td>\n",
       "      <td>何澤堯</td>\n",
       "      <td>114</td>\n",
       "      <td>6</td>\n",
       "      <td>61</td>\n",
       "      <td>方</td>\n",
       "      <td>...</td>\n",
       "      <td>13.0</td>\n",
       "      <td>10.0</td>\n",
       "      <td>196.0</td>\n",
       "      <td>162.0</td>\n",
       "      <td>3.3</td>\n",
       "      <td>1 1</td>\n",
       "      <td>2</td>\n",
       "      <td>12.55 21.61 23.41</td>\n",
       "      <td>(0.57.57)</td>\n",
       "      <td>1-1/4</td>\n",
       "    </tr>\n",
       "    <tr>\n",
       "      <th>2</th>\n",
       "      <td>20130206</td>\n",
       "      <td>05</td>\n",
       "      <td>10</td>\n",
       "      <td>星運俊爵</td>\n",
       "      <td>5</td>\n",
       "      <td>湯智傑</td>\n",
       "      <td>116</td>\n",
       "      <td>3</td>\n",
       "      <td>62</td>\n",
       "      <td>方</td>\n",
       "      <td>...</td>\n",
       "      <td>28.0</td>\n",
       "      <td>26.0</td>\n",
       "      <td>78.0</td>\n",
       "      <td>105.0</td>\n",
       "      <td>5.1</td>\n",
       "      <td>5 6</td>\n",
       "      <td>3</td>\n",
       "      <td>12.91 21.81 22.91</td>\n",
       "      <td>(0.57.63)</td>\n",
       "      <td>1-1/2</td>\n",
       "    </tr>\n",
       "    <tr>\n",
       "      <th>3</th>\n",
       "      <td>20130206</td>\n",
       "      <td>05</td>\n",
       "      <td>8</td>\n",
       "      <td>晴空萬里</td>\n",
       "      <td>4</td>\n",
       "      <td>楊明綸</td>\n",
       "      <td>120</td>\n",
       "      <td>10</td>\n",
       "      <td>66</td>\n",
       "      <td>李</td>\n",
       "      <td>...</td>\n",
       "      <td>8.4</td>\n",
       "      <td>12.0</td>\n",
       "      <td>169.0</td>\n",
       "      <td>140.0</td>\n",
       "      <td>3.8</td>\n",
       "      <td>11 10</td>\n",
       "      <td>4</td>\n",
       "      <td>13.27 22.17 22.21</td>\n",
       "      <td>(0.57.65)</td>\n",
       "      <td>1-3/4</td>\n",
       "    </tr>\n",
       "    <tr>\n",
       "      <th>4</th>\n",
       "      <td>20130206</td>\n",
       "      <td>05</td>\n",
       "      <td>6</td>\n",
       "      <td>百戰百勝</td>\n",
       "      <td>4</td>\n",
       "      <td>吳嘉晉</td>\n",
       "      <td>117</td>\n",
       "      <td>12</td>\n",
       "      <td>68</td>\n",
       "      <td>蔡</td>\n",
       "      <td>...</td>\n",
       "      <td>20.0</td>\n",
       "      <td>11.0</td>\n",
       "      <td>179.0</td>\n",
       "      <td>161.0</td>\n",
       "      <td>3.3</td>\n",
       "      <td>12 12</td>\n",
       "      <td>5</td>\n",
       "      <td>13.51 22.21 21.97</td>\n",
       "      <td>(0.57.69)</td>\n",
       "      <td>2</td>\n",
       "    </tr>\n",
       "    <tr>\n",
       "      <th>5</th>\n",
       "      <td>20130206</td>\n",
       "      <td>05</td>\n",
       "      <td>1</td>\n",
       "      <td>捉金</td>\n",
       "      <td>5</td>\n",
       "      <td>鄭雨滇</td>\n",
       "      <td>133</td>\n",
       "      <td>9</td>\n",
       "      <td>77</td>\n",
       "      <td>伍</td>\n",
       "      <td>...</td>\n",
       "      <td>4.1</td>\n",
       "      <td>3.6</td>\n",
       "      <td>566.0</td>\n",
       "      <td>387.0</td>\n",
       "      <td>1.4</td>\n",
       "      <td>4 4</td>\n",
       "      <td>6</td>\n",
       "      <td>12.91 21.57 23.36</td>\n",
       "      <td>(0.57.84)</td>\n",
       "      <td>3</td>\n",
       "    </tr>\n",
       "    <tr>\n",
       "      <th>6</th>\n",
       "      <td>20130206</td>\n",
       "      <td>05</td>\n",
       "      <td>4</td>\n",
       "      <td>四季星</td>\n",
       "      <td>3</td>\n",
       "      <td>蔡明紹</td>\n",
       "      <td>123</td>\n",
       "      <td>8</td>\n",
       "      <td>69</td>\n",
       "      <td>東</td>\n",
       "      <td>...</td>\n",
       "      <td>3.9</td>\n",
       "      <td>3.9</td>\n",
       "      <td>527.0</td>\n",
       "      <td>330.0</td>\n",
       "      <td>1.6</td>\n",
       "      <td>10 11</td>\n",
       "      <td>7</td>\n",
       "      <td>13.19 22.41 22.25</td>\n",
       "      <td>(0.57.85)</td>\n",
       "      <td>3</td>\n",
       "    </tr>\n",
       "    <tr>\n",
       "      <th>7</th>\n",
       "      <td>20130206</td>\n",
       "      <td>05</td>\n",
       "      <td>5</td>\n",
       "      <td>太陽海岸</td>\n",
       "      <td>5</td>\n",
       "      <td>王志偉</td>\n",
       "      <td>122</td>\n",
       "      <td>5</td>\n",
       "      <td>68</td>\n",
       "      <td>葉</td>\n",
       "      <td>...</td>\n",
       "      <td>39.0</td>\n",
       "      <td>60.0</td>\n",
       "      <td>34.0</td>\n",
       "      <td>38.0</td>\n",
       "      <td>13.0</td>\n",
       "      <td>8 9</td>\n",
       "      <td>8</td>\n",
       "      <td>13.11 22.13 22.64</td>\n",
       "      <td>(0.57.88)</td>\n",
       "      <td>3-1/4</td>\n",
       "    </tr>\n",
       "    <tr>\n",
       "      <th>8</th>\n",
       "      <td>20130206</td>\n",
       "      <td>05</td>\n",
       "      <td>3</td>\n",
       "      <td>奧妙繽紛</td>\n",
       "      <td>3</td>\n",
       "      <td>潘頓</td>\n",
       "      <td>125</td>\n",
       "      <td>7</td>\n",
       "      <td>69</td>\n",
       "      <td>方</td>\n",
       "      <td>...</td>\n",
       "      <td>17.0</td>\n",
       "      <td>27.0</td>\n",
       "      <td>76.0</td>\n",
       "      <td>73.0</td>\n",
       "      <td>7.4</td>\n",
       "      <td>7 7</td>\n",
       "      <td>9</td>\n",
       "      <td>13.03 21.93 22.94</td>\n",
       "      <td>(0.57.9)</td>\n",
       "      <td>3-1/4</td>\n",
       "    </tr>\n",
       "    <tr>\n",
       "      <th>9</th>\n",
       "      <td>20130206</td>\n",
       "      <td>05</td>\n",
       "      <td>9</td>\n",
       "      <td>常山鳳寶</td>\n",
       "      <td>8</td>\n",
       "      <td>霍勵賢</td>\n",
       "      <td>120</td>\n",
       "      <td>4</td>\n",
       "      <td>64</td>\n",
       "      <td>告</td>\n",
       "      <td>...</td>\n",
       "      <td>41.0</td>\n",
       "      <td>35.0</td>\n",
       "      <td>57.0</td>\n",
       "      <td>67.0</td>\n",
       "      <td>8.1</td>\n",
       "      <td>3 3</td>\n",
       "      <td>10</td>\n",
       "      <td>12.75 21.65 23.63</td>\n",
       "      <td>(0.58.03)</td>\n",
       "      <td>4-1/4</td>\n",
       "    </tr>\n",
       "    <tr>\n",
       "      <th>10</th>\n",
       "      <td>20130206</td>\n",
       "      <td>05</td>\n",
       "      <td>2</td>\n",
       "      <td>中國動力</td>\n",
       "      <td>6</td>\n",
       "      <td>呂卓賢</td>\n",
       "      <td>118</td>\n",
       "      <td>2</td>\n",
       "      <td>72</td>\n",
       "      <td>姚</td>\n",
       "      <td>...</td>\n",
       "      <td>24.0</td>\n",
       "      <td>22.0</td>\n",
       "      <td>93.0</td>\n",
       "      <td>83.0</td>\n",
       "      <td>6.4</td>\n",
       "      <td>9 8</td>\n",
       "      <td>11</td>\n",
       "      <td>13.19 21.81 23.06</td>\n",
       "      <td>(0.58.06)</td>\n",
       "      <td>4-1/4</td>\n",
       "    </tr>\n",
       "    <tr>\n",
       "      <th>11</th>\n",
       "      <td>20130206</td>\n",
       "      <td>05</td>\n",
       "      <td>12</td>\n",
       "      <td>好友星威</td>\n",
       "      <td>6</td>\n",
       "      <td>蘇狄雄</td>\n",
       "      <td>114</td>\n",
       "      <td>11</td>\n",
       "      <td>61</td>\n",
       "      <td>告</td>\n",
       "      <td>...</td>\n",
       "      <td>36.0</td>\n",
       "      <td>34.0</td>\n",
       "      <td>59.0</td>\n",
       "      <td>75.0</td>\n",
       "      <td>7.1</td>\n",
       "      <td>6 5</td>\n",
       "      <td>12</td>\n",
       "      <td>12.95 21.57 23.86</td>\n",
       "      <td>(0.58.38)</td>\n",
       "      <td>6-1/4</td>\n",
       "    </tr>\n",
       "  </tbody>\n",
       "</table>\n",
       "<p>12 rows × 22 columns</p>\n",
       "</div>"
      ],
      "text/plain": [
       "        Date RaceNumber HorseNo HorseName Age JockeyName ActualWt Draw Rate  \\\n",
       "0   20130206         05       7       超新鮮   4        薛寶力      123    1   67   \n",
       "1   20130206         05      11       火燎腚   5        何澤堯      114    6   61   \n",
       "2   20130206         05      10      星運俊爵   5        湯智傑      116    3   62   \n",
       "3   20130206         05       8      晴空萬里   4        楊明綸      120   10   66   \n",
       "4   20130206         05       6      百戰百勝   4        吳嘉晉      117   12   68   \n",
       "5   20130206         05       1        捉金   5        鄭雨滇      133    9   77   \n",
       "6   20130206         05       4       四季星   3        蔡明紹      123    8   69   \n",
       "7   20130206         05       5      太陽海岸   5        王志偉      122    5   68   \n",
       "8   20130206         05       3      奧妙繽紛   3         潘頓      125    7   69   \n",
       "9   20130206         05       9      常山鳳寶   8        霍勵賢      120    4   64   \n",
       "10  20130206         05       2      中國動力   6        呂卓賢      118    2   72   \n",
       "11  20130206         05      12      好友星威   6        蘇狄雄      114   11   61   \n",
       "\n",
       "   Owner  ...   WinOddBeforeGate  WinOdd  WinInTenThousand  PInTenThousand  \\\n",
       "0      姚  ...                3.7     4.5             455.0           346.0   \n",
       "1      方  ...               13.0    10.0             196.0           162.0   \n",
       "2      方  ...               28.0    26.0              78.0           105.0   \n",
       "3      李  ...                8.4    12.0             169.0           140.0   \n",
       "4      蔡  ...               20.0    11.0             179.0           161.0   \n",
       "5      伍  ...                4.1     3.6             566.0           387.0   \n",
       "6      東  ...                3.9     3.9             527.0           330.0   \n",
       "7      葉  ...               39.0    60.0              34.0            38.0   \n",
       "8      方  ...               17.0    27.0              76.0            73.0   \n",
       "9      告  ...               41.0    35.0              57.0            67.0   \n",
       "10     姚  ...               24.0    22.0              93.0            83.0   \n",
       "11     告  ...               36.0    34.0              59.0            75.0   \n",
       "\n",
       "    P_Odd  PlaceInMiddle  Place       TimeInMiddle FinishTime    LBW  \n",
       "0     1.5            2 2      1  12.75 21.61 23.01  (0.57.37)     頭馬  \n",
       "1     3.3            1 1      2  12.55 21.61 23.41  (0.57.57)  1-1/4  \n",
       "2     5.1            5 6      3  12.91 21.81 22.91  (0.57.63)  1-1/2  \n",
       "3     3.8          11 10      4  13.27 22.17 22.21  (0.57.65)  1-3/4  \n",
       "4     3.3          12 12      5  13.51 22.21 21.97  (0.57.69)      2  \n",
       "5     1.4            4 4      6  12.91 21.57 23.36  (0.57.84)      3  \n",
       "6     1.6          10 11      7  13.19 22.41 22.25  (0.57.85)      3  \n",
       "7    13.0            8 9      8  13.11 22.13 22.64  (0.57.88)  3-1/4  \n",
       "8     7.4            7 7      9  13.03 21.93 22.94   (0.57.9)  3-1/4  \n",
       "9     8.1            3 3     10  12.75 21.65 23.63  (0.58.03)  4-1/4  \n",
       "10    6.4            9 8     11  13.19 21.81 23.06  (0.58.06)  4-1/4  \n",
       "11    7.1            6 5     12  12.95 21.57 23.86  (0.58.38)  6-1/4  \n",
       "\n",
       "[12 rows x 22 columns]"
      ]
     },
     "execution_count": 40,
     "metadata": {},
     "output_type": "execute_result"
    }
   ],
   "source": [
    "result_df"
   ]
  },
  {
   "cell_type": "code",
   "execution_count": 32,
   "metadata": {
    "collapsed": true
   },
   "outputs": [],
   "source": [
    "# Add Leading Zero\n",
    "# str(1).zfill(2) "
   ]
  },
  {
   "cell_type": "code",
   "execution_count": null,
   "metadata": {
    "collapsed": true
   },
   "outputs": [],
   "source": []
  },
  {
   "cell_type": "code",
   "execution_count": 33,
   "metadata": {
    "collapsed": true
   },
   "outputs": [],
   "source": [
    "# ~/Library/Logs/squid/squid-access.log"
   ]
  },
  {
   "cell_type": "code",
   "execution_count": null,
   "metadata": {
    "collapsed": true
   },
   "outputs": [],
   "source": []
  },
  {
   "cell_type": "code",
   "execution_count": null,
   "metadata": {
    "collapsed": true
   },
   "outputs": [],
   "source": []
  },
  {
   "cell_type": "code",
   "execution_count": null,
   "metadata": {
    "collapsed": true
   },
   "outputs": [],
   "source": []
  },
  {
   "cell_type": "code",
   "execution_count": null,
   "metadata": {
    "collapsed": true
   },
   "outputs": [],
   "source": []
  },
  {
   "cell_type": "code",
   "execution_count": null,
   "metadata": {
    "collapsed": true
   },
   "outputs": [],
   "source": []
  },
  {
   "cell_type": "code",
   "execution_count": null,
   "metadata": {
    "collapsed": true
   },
   "outputs": [],
   "source": []
  },
  {
   "cell_type": "code",
   "execution_count": null,
   "metadata": {
    "collapsed": true
   },
   "outputs": [],
   "source": []
  },
  {
   "cell_type": "code",
   "execution_count": null,
   "metadata": {
    "collapsed": true
   },
   "outputs": [],
   "source": []
  },
  {
   "cell_type": "code",
   "execution_count": null,
   "metadata": {
    "collapsed": true
   },
   "outputs": [],
   "source": []
  },
  {
   "cell_type": "code",
   "execution_count": null,
   "metadata": {
    "collapsed": true
   },
   "outputs": [],
   "source": []
  },
  {
   "cell_type": "code",
   "execution_count": 34,
   "metadata": {
    "collapsed": true
   },
   "outputs": [],
   "source": [
    "# hockey_web_columns = ['Place', 'HorseNo', 'HorseName', 'HorseCode', 'JockeyName', 'JockeyCode', 'TrainerName', 'TrianerCode',\n",
    "#            'ActualWt', 'DeclarHorseWt', 'Draw', 'LBW', 'FinishTime', 'WinOdd', 'SecTime1', 'SecTime2', 'SecTime3',\n",
    "#            'SecTime4', 'SecTime5', 'SecTime6']"
   ]
  },
  {
   "cell_type": "code",
   "execution_count": 35,
   "metadata": {
    "collapsed": true
   },
   "outputs": [],
   "source": [
    "# '名次\t馬號\t馬名\t騎師\t練馬師\t實際負磅\t排位體重\t檔位\t頭馬距離\t沿途走位\t完成時間\t獨贏賠率'"
   ]
  },
  {
   "cell_type": "code",
   "execution_count": 36,
   "metadata": {
    "collapsed": true
   },
   "outputs": [],
   "source": [
    "# 'Plc.\tHorse No.\tHorse\tJockey\tTrainer\tActual Wt.\tDeclar.Horse Wt.\tDraw\tLBW\tRunning Position\tFinish Time\tWin Odds'"
   ]
  },
  {
   "cell_type": "code",
   "execution_count": 37,
   "metadata": {
    "collapsed": true
   },
   "outputs": [],
   "source": [
    "# '1\t7\tSUPER FRESH(N194)\tA Suborics\tP F Yiu\t123\t1121\t1\t-\t2\t2\t1\t0.57.37\t4.5'"
   ]
  },
  {
   "cell_type": "code",
   "execution_count": 38,
   "metadata": {
    "collapsed": true
   },
   "outputs": [],
   "source": [
    "# jackey_url = 'http://racing.hkjc.com/racing/Info/meeting/Results/english/Local/20130206/HV/5'"
   ]
  },
  {
   "cell_type": "code",
   "execution_count": 39,
   "metadata": {
    "collapsed": true
   },
   "outputs": [],
   "source": [
    "# 'http://bet.hkjc.com/racing/getXML.aspx?type=win&date=19-10-2016&venue=HV&raceno=1'"
   ]
  },
  {
   "cell_type": "code",
   "execution_count": null,
   "metadata": {
    "collapsed": true
   },
   "outputs": [],
   "source": []
  }
 ],
 "metadata": {
  "celltoolbar": "Raw Cell Format",
  "kernelspec": {
   "display_name": "Python 3",
   "language": "python",
   "name": "python3"
  },
  "language_info": {
   "codemirror_mode": {
    "name": "ipython",
    "version": 3
   },
   "file_extension": ".py",
   "mimetype": "text/x-python",
   "name": "python",
   "nbconvert_exporter": "python",
   "pygments_lexer": "ipython3",
   "version": "3.6.1"
  }
 },
 "nbformat": 4,
 "nbformat_minor": 1
}
