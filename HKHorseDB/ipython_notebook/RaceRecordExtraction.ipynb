{
 "cells": [
  {
   "cell_type": "markdown",
   "metadata": {},
   "source": [
    "### Import require library first"
   ]
  },
  {
   "cell_type": "code",
   "execution_count": 37,
   "metadata": {
    "collapsed": true
   },
   "outputs": [],
   "source": [
    "from bs4 import BeautifulSoup\n",
    "from html.parser import HTMLParser\n",
    "import pandas as pd\n",
    "\n",
    "import urllib.request, urllib.parse, urllib.error"
   ]
  },
  {
   "cell_type": "code",
   "execution_count": 38,
   "metadata": {
    "collapsed": true
   },
   "outputs": [],
   "source": [
    "def get(url, data_list=None, max_try=3):\n",
    "    if data_list:\n",
    "        url = \"{}?{}\".format(url, urllib.parse.urlencode(data_list))\n",
    "    query = urllib.request.Request(url)\n",
    "    current_try = 0\n",
    "    while current_try < max_try:\n",
    "        try:\n",
    "            response = urllib.request.urlopen(query)\n",
    "            html = response.read()\n",
    "            response.close()\n",
    "            return html\n",
    "        except Exception as e:\n",
    "            return None\n",
    "    raise Exception(\"Cannot open page {}\".format(url))"
   ]
  },
  {
   "cell_type": "code",
   "execution_count": 39,
   "metadata": {},
   "outputs": [],
   "source": [
    "url = 'http://www.hkhorsedb.com/cseh/passodds.php'\n",
    "html = get(url)\n",
    "soup = BeautifulSoup(str(html, 'big5'), \"html.parser\")"
   ]
  },
  {
   "cell_type": "code",
   "execution_count": 40,
   "metadata": {
    "collapsed": true
   },
   "outputs": [],
   "source": [
    "tr_list = soup.findAll('table')[15].findAll('tr')[1:]"
   ]
  },
  {
   "cell_type": "code",
   "execution_count": 41,
   "metadata": {},
   "outputs": [
    {
     "name": "stdout",
     "output_type": "stream",
     "text": [
      "<tr height=\"22\"><td bgcolor=\"#FFE7CE\" style=\"TEXT-ALIGN: center\"><a href=\"javascript:;\" onclick=\"MM_openBrWindow('poddsleftxml.php?pcode=2&amp;rdate=04062017&amp;vrecno=1','passodds','scrollbars=yes,resizable=yes,width=1024,height=768')\">04-06-2017</a></td><td bgcolor=\"#FFE7CE\" style=\"TEXT-ALIGN: center\"><a href=\"javascript:;\" onclick=\"MM_openBrWindow('poddsleftxml.php?pcode=2&amp;rdate=31052017&amp;vrecno=1','passodds','scrollbars=yes,resizable=yes,width=1024,height=768')\">31-05-2017</a></td><td bgcolor=\"#FFE7CE\" style=\"TEXT-ALIGN: center\"><a href=\"javascript:;\" onclick=\"MM_openBrWindow('poddsleftxml.php?pcode=2&amp;rdate=28052017&amp;vrecno=1','passodds','scrollbars=yes,resizable=yes,width=1024,height=768')\">28-05-2017</a></td><td bgcolor=\"#FFE7CE\" style=\"TEXT-ALIGN: center\"><a href=\"javascript:;\" onclick=\"MM_openBrWindow('poddsleftxml.php?pcode=2&amp;rdate=24052017&amp;vrecno=1','passodds','scrollbars=yes,resizable=yes,width=1024,height=768')\">24-05-2017</a></td></tr>\n"
     ]
    }
   ],
   "source": [
    "print(tr_list[1])"
   ]
  },
  {
   "cell_type": "code",
   "execution_count": 6,
   "metadata": {},
   "outputs": [],
   "source": [
    "tr = tr_list[0]\n",
    "tds = tr.findAll('td')"
   ]
  },
  {
   "cell_type": "code",
   "execution_count": 7,
   "metadata": {},
   "outputs": [
    {
     "data": {
      "text/plain": [
       "[<td bgcolor=\"#FFE7CE\" style=\"TEXT-ALIGN: center\"><a href=\"javascript:;\" onclick=\"MM_openBrWindow('poddsleftxml.php?pcode=2&amp;rdate=18062017&amp;vrecno=1','passodds','scrollbars=yes,resizable=yes,width=1024,height=768')\">18-06-2017</a></td>,\n",
       " <td bgcolor=\"#FFE7CE\" style=\"TEXT-ALIGN: center\"><a href=\"javascript:;\" onclick=\"MM_openBrWindow('poddsleftxml.php?pcode=2&amp;rdate=14062017&amp;vrecno=1','passodds','scrollbars=yes,resizable=yes,width=1024,height=768')\">14-06-2017</a></td>,\n",
       " <td bgcolor=\"#FFE7CE\" style=\"TEXT-ALIGN: center\"><a href=\"javascript:;\" onclick=\"MM_openBrWindow('poddsleftxml.php?pcode=2&amp;rdate=11062017&amp;vrecno=1','passodds','scrollbars=yes,resizable=yes,width=1024,height=768')\">11-06-2017</a></td>,\n",
       " <td bgcolor=\"#FFE7CE\" style=\"TEXT-ALIGN: center\"><a href=\"javascript:;\" onclick=\"MM_openBrWindow('poddsleftxml.php?pcode=2&amp;rdate=07062017&amp;vrecno=1','passodds','scrollbars=yes,resizable=yes,width=1024,height=768')\">07-06-2017</a></td>]"
      ]
     },
     "execution_count": 7,
     "metadata": {},
     "output_type": "execute_result"
    }
   ],
   "source": [
    "tds"
   ]
  },
  {
   "cell_type": "code",
   "execution_count": 8,
   "metadata": {},
   "outputs": [
    {
     "data": {
      "text/plain": [
       "'18-06-2017'"
      ]
     },
     "execution_count": 8,
     "metadata": {},
     "output_type": "execute_result"
    }
   ],
   "source": [
    "detail_date = tds[0].text\n",
    "detail_date"
   ]
  },
  {
   "cell_type": "code",
   "execution_count": 9,
   "metadata": {},
   "outputs": [
    {
     "data": {
      "text/plain": [
       "'20170618'"
      ]
     },
     "execution_count": 9,
     "metadata": {},
     "output_type": "execute_result"
    }
   ],
   "source": [
    "date_info = ''.join(detail_date.split('-'))\n",
    "normal_data = ''.join(reversed(detail_date.split('-')))\n",
    "normal_data"
   ]
  },
  {
   "cell_type": "code",
   "execution_count": 10,
   "metadata": {},
   "outputs": [
    {
     "data": {
      "text/plain": [
       "'http://racing.hkjc.com/racing/Info/meeting/Results/english/Local/20130206/HV/5'"
      ]
     },
     "execution_count": 10,
     "metadata": {},
     "output_type": "execute_result"
    }
   ],
   "source": [
    "'http://racing.hkjc.com/racing/Info/meeting/Results/english/Local/20130206/HV/5'"
   ]
  },
  {
   "cell_type": "code",
   "execution_count": 11,
   "metadata": {},
   "outputs": [
    {
     "data": {
      "text/plain": [
       "[<td bgcolor=\"#FFE7CE\" style=\"TEXT-ALIGN: center\"><a href=\"javascript:;\" onclick=\"MM_openBrWindow('poddsleftxml.php?pcode=2&amp;rdate=&amp;vrecno=1','passodds','scrollbars=yes,resizable=yes,width=1024,height=768')\">--</a></td>,\n",
       " <td bgcolor=\"#FFE7CE\" style=\"TEXT-ALIGN: center\"><a href=\"javascript:;\" onclick=\"MM_openBrWindow('poddsleftxml.php?pcode=2&amp;rdate=&amp;vrecno=1','passodds','scrollbars=yes,resizable=yes,width=1024,height=768')\">--</a></td>,\n",
       " <td bgcolor=\"#FFE7CE\" style=\"TEXT-ALIGN: center\"><a href=\"javascript:;\" onclick=\"MM_openBrWindow('poddsleftxml.php?pcode=2&amp;rdate=&amp;vrecno=1','passodds','scrollbars=yes,resizable=yes,width=1024,height=768')\">--</a></td>,\n",
       " <td bgcolor=\"#FFE7CE\" style=\"TEXT-ALIGN: center\"><a href=\"javascript:;\" onclick=\"MM_openBrWindow('poddsleftxml.php?pcode=2&amp;rdate=&amp;vrecno=1','passodds','scrollbars=yes,resizable=yes,width=1024,height=768')\">--</a></td>]"
      ]
     },
     "execution_count": 11,
     "metadata": {},
     "output_type": "execute_result"
    }
   ],
   "source": [
    "tr_last = tr_list[-5]\n",
    "tds_last = tr_last.findAll('td')\n",
    "tds_last"
   ]
  },
  {
   "cell_type": "code",
   "execution_count": 27,
   "metadata": {},
   "outputs": [],
   "source": [
    "next_result = 'http://hk.racing.nextmedia.com/fullresult.php?date=20130206&page=05'"
   ]
  },
  {
   "cell_type": "code",
   "execution_count": 28,
   "metadata": {
    "collapsed": true
   },
   "outputs": [],
   "source": [
    "html_next = get(next_result)\n"
   ]
  },
  {
   "cell_type": "code",
   "execution_count": 29,
   "metadata": {
    "collapsed": true
   },
   "outputs": [],
   "source": [
    "soup_next = BeautifulSoup(str(html_next, 'utf-8'), \"html.parser\")"
   ]
  },
  {
   "cell_type": "code",
   "execution_count": 30,
   "metadata": {},
   "outputs": [
    {
     "data": {
      "text/plain": [
       "<tr><td align=\"center\" bgcolor=\"#FEFDE2\" height=\"23\">7</td><td align=\"center\" bgcolor=\"#FEFDE2\" height=\"23\"><a class=\"arttext_blue\" href=\"horse1.php?temp_horid=9348\" target=\"_blank\">超新鮮</a></td><td align=\"center\" bgcolor=\"#FEFDE2\" height=\"23\">4</td><td align=\"center\" bgcolor=\"#FEFDE2\" height=\"23\"><a class=\"arttext_blue\" href=\"jw.php?date=2012&amp;sorj_id=275\" target=\"_blank\">薛寶力</a></td><td align=\"center\" bgcolor=\"#FEFDE2\" height=\"23\">123</td><td align=\"center\" bgcolor=\"#FEFDE2\" height=\"23\">1</td><td align=\"center\" bgcolor=\"#FEFDE2\" height=\"23\">67</td><td align=\"center\" bgcolor=\"#FEFDE2\" height=\"23\"><a class=\"arttext_blue\" href=\"sw.php?date=2012&amp;sorj_id=83\" target=\"_blank\">姚</a></td><td align=\"center\" bgcolor=\"#FEFDE2\" height=\"23\">1121</td><td align=\"center\" bgcolor=\"#FEFDE2\" height=\"23\"><font color=\"000000\">4.8</font></td><td align=\"center\" bgcolor=\"#FEFDE2\" height=\"23\"><font color=\"800080\">3.7</font></td><td align=\"center\" bgcolor=\"#FEFDE2\" height=\"23\"><font color=\"red\">4.5</font></td><td align=\"center\" bgcolor=\"#FEFDE2\" height=\"23\">455</td><td align=\"center\" bgcolor=\"#FEFDE2\" height=\"23\">346</td><td align=\"center\" bgcolor=\"#FEFDE2\" height=\"23\">1.5</td><td align=\"center\" bgcolor=\"#FEFDE2\" height=\"23\">2 2</td><td align=\"center\" bgcolor=\"#FEFDE2\" height=\"23\"><b>1</b></td><td align=\"center\" bgcolor=\"#FEFDE2\" height=\"23\">12.75 21.61 23.01</td><td align=\"center\" bgcolor=\"#FEFDE2\" height=\"23\">(0.57.37)</td><td align=\"center\" bgcolor=\"#FEFDE2\" height=\"23\">頭馬</td></tr>"
      ]
     },
     "execution_count": 30,
     "metadata": {},
     "output_type": "execute_result"
    }
   ],
   "source": [
    "next_tr_list = soup_next.findAll('table')[2].findAll('tr')[2:-1]\n",
    "next_tr_list[0]                                                     "
   ]
  },
  {
   "cell_type": "code",
   "execution_count": 31,
   "metadata": {},
   "outputs": [
    {
     "data": {
      "text/plain": [
       "<tr><td align=\"center\" bgcolor=\"#008000\" colspan=\"21\"><p align=\"left\"><font color=\"#FFFF00\">獨贏票：24,953,536位置票：19,726,216連贏票：36,431,108連贏Q票：30,928,587單T票：3,752,725三重彩票：6,499,396</font></p></td></tr>"
      ]
     },
     "execution_count": 31,
     "metadata": {},
     "output_type": "execute_result"
    }
   ],
   "source": [
    "next_tr_list[-1]"
   ]
  },
  {
   "cell_type": "code",
   "execution_count": 32,
   "metadata": {
    "collapsed": true
   },
   "outputs": [],
   "source": [
    "next_td_list = next_tr_list[0].findAll('td')"
   ]
  },
  {
   "cell_type": "code",
   "execution_count": 33,
   "metadata": {},
   "outputs": [
    {
     "data": {
      "text/plain": [
       "[<td align=\"center\" bgcolor=\"#FEFDE2\" height=\"23\">7</td>,\n",
       " <td align=\"center\" bgcolor=\"#FEFDE2\" height=\"23\"><a class=\"arttext_blue\" href=\"horse1.php?temp_horid=9348\" target=\"_blank\">超新鮮</a></td>,\n",
       " <td align=\"center\" bgcolor=\"#FEFDE2\" height=\"23\">4</td>,\n",
       " <td align=\"center\" bgcolor=\"#FEFDE2\" height=\"23\"><a class=\"arttext_blue\" href=\"jw.php?date=2012&amp;sorj_id=275\" target=\"_blank\">薛寶力</a></td>,\n",
       " <td align=\"center\" bgcolor=\"#FEFDE2\" height=\"23\">123</td>,\n",
       " <td align=\"center\" bgcolor=\"#FEFDE2\" height=\"23\">1</td>,\n",
       " <td align=\"center\" bgcolor=\"#FEFDE2\" height=\"23\">67</td>,\n",
       " <td align=\"center\" bgcolor=\"#FEFDE2\" height=\"23\"><a class=\"arttext_blue\" href=\"sw.php?date=2012&amp;sorj_id=83\" target=\"_blank\">姚</a></td>,\n",
       " <td align=\"center\" bgcolor=\"#FEFDE2\" height=\"23\">1121</td>,\n",
       " <td align=\"center\" bgcolor=\"#FEFDE2\" height=\"23\"><font color=\"000000\">4.8</font></td>,\n",
       " <td align=\"center\" bgcolor=\"#FEFDE2\" height=\"23\"><font color=\"800080\">3.7</font></td>,\n",
       " <td align=\"center\" bgcolor=\"#FEFDE2\" height=\"23\"><font color=\"red\">4.5</font></td>,\n",
       " <td align=\"center\" bgcolor=\"#FEFDE2\" height=\"23\">455</td>,\n",
       " <td align=\"center\" bgcolor=\"#FEFDE2\" height=\"23\">346</td>,\n",
       " <td align=\"center\" bgcolor=\"#FEFDE2\" height=\"23\">1.5</td>,\n",
       " <td align=\"center\" bgcolor=\"#FEFDE2\" height=\"23\">2 2</td>,\n",
       " <td align=\"center\" bgcolor=\"#FEFDE2\" height=\"23\"><b>1</b></td>,\n",
       " <td align=\"center\" bgcolor=\"#FEFDE2\" height=\"23\">12.75 21.61 23.01</td>,\n",
       " <td align=\"center\" bgcolor=\"#FEFDE2\" height=\"23\">(0.57.37)</td>,\n",
       " <td align=\"center\" bgcolor=\"#FEFDE2\" height=\"23\">頭馬</td>]"
      ]
     },
     "execution_count": 33,
     "metadata": {},
     "output_type": "execute_result"
    }
   ],
   "source": [
    "next_td_list"
   ]
  },
  {
   "cell_type": "code",
   "execution_count": 50,
   "metadata": {},
   "outputs": [
    {
     "data": {
      "text/plain": [
       "'馬號\\t馬名\\t歲\\t騎師\\t負磅\\t檔\\t評分\\t廄\\t馬匹體重\\t賠率\\t獨贏票(萬)\\t位置票(萬)\\t位置賠率\\t走位\\t名次\\t分段時間\\t總時間\\t勝負距離'"
      ]
     },
     "execution_count": 50,
     "metadata": {},
     "output_type": "execute_result"
    }
   ],
   "source": [
    "'馬號\t馬名\t歲\t騎師\t負磅\t檔\t評分\t廄\t馬匹體重\t賠率\t獨贏票(萬)\t位置票(萬)\t位置賠率\t走位\t名次\t分段時間\t總時間\t勝負距離'\n"
   ]
  },
  {
   "cell_type": "code",
   "execution_count": 51,
   "metadata": {},
   "outputs": [
    {
     "data": {
      "text/plain": [
       "'7\\t超新鮮\\t4\\t薛寶力\\t123\\t1\\t67\\t姚\\t1121\\t4.8\\t3.7\\t4.5\\t455\\t346\\t1.5\\t2 2\\t1\\t12.75 21.61 23.01\\t(0.57.37)\\t頭馬'"
      ]
     },
     "execution_count": 51,
     "metadata": {},
     "output_type": "execute_result"
    }
   ],
   "source": [
    "'7\t超新鮮\t4\t薛寶力\t123\t1\t67\t姚\t1121\t4.8\t3.7\t4.5\t455\t346\t1.5\t2 2\t1\t12.75 21.61 23.01\t(0.57.37)\t頭馬'"
   ]
  },
  {
   "cell_type": "code",
   "execution_count": 52,
   "metadata": {
    "collapsed": true
   },
   "outputs": [],
   "source": [
    "appledaily_web_columns = ['HorseNo','HorseName','Age','JockeyName','ActualWt', 'Draw', 'Rate','Owner','DeclarHorseWt','WinOdd','獨贏票(萬)','位置票(萬)','位置賠率','走位','Place', '分段時間','Finish Time','LBW']\n",
    "\n"
   ]
  },
  {
   "cell_type": "code",
   "execution_count": null,
   "metadata": {
    "collapsed": true
   },
   "outputs": [],
   "source": []
  },
  {
   "cell_type": "code",
   "execution_count": null,
   "metadata": {
    "collapsed": true
   },
   "outputs": [],
   "source": []
  },
  {
   "cell_type": "code",
   "execution_count": null,
   "metadata": {
    "collapsed": true
   },
   "outputs": [],
   "source": []
  },
  {
   "cell_type": "code",
   "execution_count": 35,
   "metadata": {
    "collapsed": true
   },
   "outputs": [],
   "source": [
    "hockey_web_columns = ['Place', 'HorseNo', 'HorseName', 'HorseCode', 'JockeyName', 'JockeyCode', 'TrainerName', 'TrianerCode',\n",
    "           'ActualWt', 'DeclarHorseWt', 'Draw', 'LBW', 'FinishTime', 'WinOdd', 'SecTime1', 'SecTime2', 'SecTime3',\n",
    "           'SecTime4', 'SecTime5', 'SecTime6']"
   ]
  },
  {
   "cell_type": "code",
   "execution_count": 46,
   "metadata": {},
   "outputs": [
    {
     "data": {
      "text/plain": [
       "'名次\\t馬號\\t馬名\\t騎師\\t練馬師\\t實際負磅\\t排位體重\\t檔位\\t頭馬距離\\t沿途走位\\t完成時間\\t獨贏賠率'"
      ]
     },
     "execution_count": 46,
     "metadata": {},
     "output_type": "execute_result"
    }
   ],
   "source": [
    "'名次\t馬號\t馬名\t騎師\t練馬師\t實際負磅\t排位體重\t檔位\t頭馬距離\t沿途走位\t完成時間\t獨贏賠率'"
   ]
  },
  {
   "cell_type": "code",
   "execution_count": 44,
   "metadata": {},
   "outputs": [
    {
     "data": {
      "text/plain": [
       "'Plc.\\tHorse No.\\tHorse\\tJockey\\tTrainer\\tActual Wt.\\tDeclar.Horse Wt.\\tDraw\\tLBW\\tRunning Position\\tFinish Time\\tWin Odds'"
      ]
     },
     "execution_count": 44,
     "metadata": {},
     "output_type": "execute_result"
    }
   ],
   "source": [
    "'Plc.\tHorse No.\tHorse\tJockey\tTrainer\tActual Wt.\tDeclar.Horse Wt.\tDraw\tLBW\tRunning Position\tFinish Time\tWin Odds'"
   ]
  },
  {
   "cell_type": "code",
   "execution_count": 45,
   "metadata": {},
   "outputs": [
    {
     "data": {
      "text/plain": [
       "'1\\t7\\tSUPER FRESH(N194)\\tA Suborics\\tP F Yiu\\t123\\t1121\\t1\\t-\\t2\\t2\\t1\\t0.57.37\\t4.5'"
      ]
     },
     "execution_count": 45,
     "metadata": {},
     "output_type": "execute_result"
    }
   ],
   "source": [
    "'1\t7\tSUPER FRESH(N194)\tA Suborics\tP F Yiu\t123\t1121\t1\t-\t2\t2\t1\t0.57.37\t4.5'"
   ]
  },
  {
   "cell_type": "code",
   "execution_count": null,
   "metadata": {
    "collapsed": true
   },
   "outputs": [],
   "source": []
  },
  {
   "cell_type": "code",
   "execution_count": null,
   "metadata": {
    "collapsed": true
   },
   "outputs": [],
   "source": [
    "result_df = pd.DataFrame(columns=columns)"
   ]
  },
  {
   "cell_type": "code",
   "execution_count": 34,
   "metadata": {
    "collapsed": true
   },
   "outputs": [],
   "source": [
    "jackey_url = 'http://racing.hkjc.com/racing/Info/meeting/Results/english/Local/20130206/HV/5'"
   ]
  },
  {
   "cell_type": "code",
   "execution_count": null,
   "metadata": {
    "collapsed": true
   },
   "outputs": [],
   "source": []
  }
 ],
 "metadata": {
  "celltoolbar": "Raw Cell Format",
  "kernelspec": {
   "display_name": "Python [conda env:py36]",
   "language": "python",
   "name": "conda-env-py36-py"
  },
  "language_info": {
   "codemirror_mode": {
    "name": "ipython",
    "version": 3
   },
   "file_extension": ".py",
   "mimetype": "text/x-python",
   "name": "python",
   "nbconvert_exporter": "python",
   "pygments_lexer": "ipython3",
   "version": "3.6.1"
  }
 },
 "nbformat": 4,
 "nbformat_minor": 2
}
