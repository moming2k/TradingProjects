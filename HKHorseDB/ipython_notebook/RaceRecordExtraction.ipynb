{
 "cells": [
  {
   "cell_type": "markdown",
   "metadata": {},
   "source": [
    "### Import require library first"
   ]
  },
  {
   "cell_type": "code",
   "execution_count": 49,
   "metadata": {
    "collapsed": true
   },
   "outputs": [],
   "source": [
    "from bs4 import BeautifulSoup\n",
    "from html.parser import HTMLParser\n",
    "import pandas as pd\n",
    "\n",
    "import urllib.request, urllib.parse, urllib.error"
   ]
  },
  {
   "cell_type": "code",
   "execution_count": 111,
   "metadata": {
    "collapsed": false
   },
   "outputs": [],
   "source": [
    "tmp_dict = {'HorseNo': None,\n",
    "'HorseName': None,\n",
    "'Age': None,\n",
    "'JockeyName': None,\n",
    "'ActualWt': None,\n",
    "'Draw': None,\n",
    "'Rate': None,\n",
    "'Owner': None,\n",
    "'DeclarHorseWt': None,\n",
    "'WinOddBeforeNight': None,\n",
    "'WinOddBeforeGate': None,             \n",
    "'WinOdd': None,\n",
    "'WinInTenThousand': None,\n",
    "'PInTenThousand': None,\n",
    "'P_Odd': None,\n",
    "'PlaceInMiddle': None,\n",
    "'Place': None,\n",
    "'TimeInMiddle': None,\n",
    "'FinishTime': None,\n",
    "'LBW': None\n",
    "}"
   ]
  },
  {
   "cell_type": "code",
   "execution_count": 50,
   "metadata": {
    "collapsed": true
   },
   "outputs": [],
   "source": [
    "def convert_str_to_int(int_str):\n",
    "    try:\n",
    "        return int(int_str)\n",
    "    except Exception as err:\n",
    "        return int_str\n",
    "\n",
    "\n",
    "def convert_str_to_float(int_str):\n",
    "    try:\n",
    "        return float(int_str)\n",
    "    except Exception as err:\n",
    "        return int_str"
   ]
  },
  {
   "cell_type": "code",
   "execution_count": 51,
   "metadata": {
    "collapsed": true
   },
   "outputs": [],
   "source": [
    "def get(url, data_list=None, max_try=3):\n",
    "    if data_list:\n",
    "        url = \"{}?{}\".format(url, urllib.parse.urlencode(data_list))\n",
    "    query = urllib.request.Request(url)\n",
    "    current_try = 0\n",
    "    while current_try < max_try:\n",
    "        try:\n",
    "            response = urllib.request.urlopen(query)\n",
    "            html = response.read()\n",
    "            response.close()\n",
    "            return html\n",
    "        except Exception as e:\n",
    "            return None\n",
    "    raise Exception(\"Cannot open page {}\".format(url))"
   ]
  },
  {
   "cell_type": "code",
   "execution_count": 52,
   "metadata": {
    "collapsed": true
   },
   "outputs": [],
   "source": [
    "url = 'http://www.hkhorsedb.com/cseh/passodds.php'\n",
    "html = get(url)\n",
    "soup = BeautifulSoup(str(html, 'big5'), \"html.parser\")"
   ]
  },
  {
   "cell_type": "code",
   "execution_count": 53,
   "metadata": {
    "collapsed": true
   },
   "outputs": [],
   "source": [
    "tr_list = soup.findAll('table')[15].findAll('tr')[1:]"
   ]
  },
  {
   "cell_type": "code",
   "execution_count": 54,
   "metadata": {
    "collapsed": false
   },
   "outputs": [
    {
     "name": "stdout",
     "output_type": "stream",
     "text": [
      "<tr height=\"22\"><td bgcolor=\"#FFE7CE\" style=\"TEXT-ALIGN: center\"><a href=\"javascript:;\" onclick=\"MM_openBrWindow('poddsleftxml.php?pcode=2&amp;rdate=04062017&amp;vrecno=1','passodds','scrollbars=yes,resizable=yes,width=1024,height=768')\">04-06-2017</a></td><td bgcolor=\"#FFE7CE\" style=\"TEXT-ALIGN: center\"><a href=\"javascript:;\" onclick=\"MM_openBrWindow('poddsleftxml.php?pcode=2&amp;rdate=31052017&amp;vrecno=1','passodds','scrollbars=yes,resizable=yes,width=1024,height=768')\">31-05-2017</a></td><td bgcolor=\"#FFE7CE\" style=\"TEXT-ALIGN: center\"><a href=\"javascript:;\" onclick=\"MM_openBrWindow('poddsleftxml.php?pcode=2&amp;rdate=28052017&amp;vrecno=1','passodds','scrollbars=yes,resizable=yes,width=1024,height=768')\">28-05-2017</a></td><td bgcolor=\"#FFE7CE\" style=\"TEXT-ALIGN: center\"><a href=\"javascript:;\" onclick=\"MM_openBrWindow('poddsleftxml.php?pcode=2&amp;rdate=24052017&amp;vrecno=1','passodds','scrollbars=yes,resizable=yes,width=1024,height=768')\">24-05-2017</a></td></tr>\n"
     ]
    }
   ],
   "source": [
    "print(tr_list[1])"
   ]
  },
  {
   "cell_type": "code",
   "execution_count": 55,
   "metadata": {
    "collapsed": true
   },
   "outputs": [],
   "source": [
    "tr = tr_list[0]\n",
    "tds = tr.findAll('td')"
   ]
  },
  {
   "cell_type": "code",
   "execution_count": 56,
   "metadata": {
    "collapsed": false
   },
   "outputs": [
    {
     "data": {
      "text/plain": [
       "[<td bgcolor=\"#FFE7CE\" style=\"TEXT-ALIGN: center\"><a href=\"javascript:;\" onclick=\"MM_openBrWindow('poddsleftxml.php?pcode=2&amp;rdate=18062017&amp;vrecno=1','passodds','scrollbars=yes,resizable=yes,width=1024,height=768')\">18-06-2017</a></td>,\n",
       " <td bgcolor=\"#FFE7CE\" style=\"TEXT-ALIGN: center\"><a href=\"javascript:;\" onclick=\"MM_openBrWindow('poddsleftxml.php?pcode=2&amp;rdate=14062017&amp;vrecno=1','passodds','scrollbars=yes,resizable=yes,width=1024,height=768')\">14-06-2017</a></td>,\n",
       " <td bgcolor=\"#FFE7CE\" style=\"TEXT-ALIGN: center\"><a href=\"javascript:;\" onclick=\"MM_openBrWindow('poddsleftxml.php?pcode=2&amp;rdate=11062017&amp;vrecno=1','passodds','scrollbars=yes,resizable=yes,width=1024,height=768')\">11-06-2017</a></td>,\n",
       " <td bgcolor=\"#FFE7CE\" style=\"TEXT-ALIGN: center\"><a href=\"javascript:;\" onclick=\"MM_openBrWindow('poddsleftxml.php?pcode=2&amp;rdate=07062017&amp;vrecno=1','passodds','scrollbars=yes,resizable=yes,width=1024,height=768')\">07-06-2017</a></td>]"
      ]
     },
     "execution_count": 56,
     "metadata": {},
     "output_type": "execute_result"
    }
   ],
   "source": [
    "tds"
   ]
  },
  {
   "cell_type": "code",
   "execution_count": 57,
   "metadata": {
    "collapsed": false
   },
   "outputs": [
    {
     "data": {
      "text/plain": [
       "'18-06-2017'"
      ]
     },
     "execution_count": 57,
     "metadata": {},
     "output_type": "execute_result"
    }
   ],
   "source": [
    "detail_date = tds[0].text\n",
    "detail_date"
   ]
  },
  {
   "cell_type": "code",
   "execution_count": 58,
   "metadata": {
    "collapsed": false
   },
   "outputs": [
    {
     "data": {
      "text/plain": [
       "'20170618'"
      ]
     },
     "execution_count": 58,
     "metadata": {},
     "output_type": "execute_result"
    }
   ],
   "source": [
    "date_info = ''.join(detail_date.split('-'))\n",
    "normal_data = ''.join(reversed(detail_date.split('-')))\n",
    "normal_data"
   ]
  },
  {
   "cell_type": "code",
   "execution_count": 59,
   "metadata": {
    "collapsed": false
   },
   "outputs": [
    {
     "data": {
      "text/plain": [
       "'http://racing.hkjc.com/racing/Info/meeting/Results/english/Local/20130206/HV/5'"
      ]
     },
     "execution_count": 59,
     "metadata": {},
     "output_type": "execute_result"
    }
   ],
   "source": [
    "'http://racing.hkjc.com/racing/Info/meeting/Results/english/Local/20130206/HV/5'"
   ]
  },
  {
   "cell_type": "code",
   "execution_count": 60,
   "metadata": {
    "collapsed": false
   },
   "outputs": [
    {
     "data": {
      "text/plain": [
       "[<td bgcolor=\"#FFE7CE\" style=\"TEXT-ALIGN: center\"><a href=\"javascript:;\" onclick=\"MM_openBrWindow('poddsleftxml.php?pcode=2&amp;rdate=&amp;vrecno=1','passodds','scrollbars=yes,resizable=yes,width=1024,height=768')\">--</a></td>,\n",
       " <td bgcolor=\"#FFE7CE\" style=\"TEXT-ALIGN: center\"><a href=\"javascript:;\" onclick=\"MM_openBrWindow('poddsleftxml.php?pcode=2&amp;rdate=&amp;vrecno=1','passodds','scrollbars=yes,resizable=yes,width=1024,height=768')\">--</a></td>,\n",
       " <td bgcolor=\"#FFE7CE\" style=\"TEXT-ALIGN: center\"><a href=\"javascript:;\" onclick=\"MM_openBrWindow('poddsleftxml.php?pcode=2&amp;rdate=&amp;vrecno=1','passodds','scrollbars=yes,resizable=yes,width=1024,height=768')\">--</a></td>,\n",
       " <td bgcolor=\"#FFE7CE\" style=\"TEXT-ALIGN: center\"><a href=\"javascript:;\" onclick=\"MM_openBrWindow('poddsleftxml.php?pcode=2&amp;rdate=&amp;vrecno=1','passodds','scrollbars=yes,resizable=yes,width=1024,height=768')\">--</a></td>]"
      ]
     },
     "execution_count": 60,
     "metadata": {},
     "output_type": "execute_result"
    }
   ],
   "source": [
    "tr_last = tr_list[-5]\n",
    "tds_last = tr_last.findAll('td')\n",
    "tds_last"
   ]
  },
  {
   "cell_type": "code",
   "execution_count": 61,
   "metadata": {
    "collapsed": true
   },
   "outputs": [],
   "source": [
    "next_result = 'http://hk.racing.nextmedia.com/fullresult.php?date=20130206&page=05'"
   ]
  },
  {
   "cell_type": "code",
   "execution_count": 62,
   "metadata": {
    "collapsed": true
   },
   "outputs": [],
   "source": [
    "html_next = get(next_result)\n"
   ]
  },
  {
   "cell_type": "code",
   "execution_count": 63,
   "metadata": {
    "collapsed": true
   },
   "outputs": [],
   "source": [
    "soup_next = BeautifulSoup(str(html_next, 'utf-8'), \"html.parser\")"
   ]
  },
  {
   "cell_type": "code",
   "execution_count": 64,
   "metadata": {
    "collapsed": false
   },
   "outputs": [
    {
     "data": {
      "text/plain": [
       "<tr><td align=\"center\" bgcolor=\"#FEFDE2\" height=\"23\">7</td><td align=\"center\" bgcolor=\"#FEFDE2\" height=\"23\"><a class=\"arttext_blue\" href=\"horse1.php?temp_horid=9348\" target=\"_blank\">超新鮮</a></td><td align=\"center\" bgcolor=\"#FEFDE2\" height=\"23\">4</td><td align=\"center\" bgcolor=\"#FEFDE2\" height=\"23\"><a class=\"arttext_blue\" href=\"jw.php?date=2012&amp;sorj_id=275\" target=\"_blank\">薛寶力</a></td><td align=\"center\" bgcolor=\"#FEFDE2\" height=\"23\">123</td><td align=\"center\" bgcolor=\"#FEFDE2\" height=\"23\">1</td><td align=\"center\" bgcolor=\"#FEFDE2\" height=\"23\">67</td><td align=\"center\" bgcolor=\"#FEFDE2\" height=\"23\"><a class=\"arttext_blue\" href=\"sw.php?date=2012&amp;sorj_id=83\" target=\"_blank\">姚</a></td><td align=\"center\" bgcolor=\"#FEFDE2\" height=\"23\">1121</td><td align=\"center\" bgcolor=\"#FEFDE2\" height=\"23\"><font color=\"000000\">4.8</font></td><td align=\"center\" bgcolor=\"#FEFDE2\" height=\"23\"><font color=\"800080\">3.7</font></td><td align=\"center\" bgcolor=\"#FEFDE2\" height=\"23\"><font color=\"red\">4.5</font></td><td align=\"center\" bgcolor=\"#FEFDE2\" height=\"23\">455</td><td align=\"center\" bgcolor=\"#FEFDE2\" height=\"23\">346</td><td align=\"center\" bgcolor=\"#FEFDE2\" height=\"23\">1.5</td><td align=\"center\" bgcolor=\"#FEFDE2\" height=\"23\">2 2</td><td align=\"center\" bgcolor=\"#FEFDE2\" height=\"23\"><b>1</b></td><td align=\"center\" bgcolor=\"#FEFDE2\" height=\"23\">12.75 21.61 23.01</td><td align=\"center\" bgcolor=\"#FEFDE2\" height=\"23\">(0.57.37)</td><td align=\"center\" bgcolor=\"#FEFDE2\" height=\"23\">頭馬</td></tr>"
      ]
     },
     "execution_count": 64,
     "metadata": {},
     "output_type": "execute_result"
    }
   ],
   "source": [
    "next_tr_list = soup_next.findAll('table')[2].findAll('tr')[2:-1]\n",
    "next_tr_list[0]                                                     "
   ]
  },
  {
   "cell_type": "code",
   "execution_count": 65,
   "metadata": {
    "collapsed": false
   },
   "outputs": [
    {
     "data": {
      "text/plain": [
       "<tr><td align=\"center\" bgcolor=\"#008000\" colspan=\"21\"><p align=\"left\"><font color=\"#FFFF00\">獨贏票：24,953,536位置票：19,726,216連贏票：36,431,108連贏Q票：30,928,587單T票：3,752,725三重彩票：6,499,396</font></p></td></tr>"
      ]
     },
     "execution_count": 65,
     "metadata": {},
     "output_type": "execute_result"
    }
   ],
   "source": [
    "next_tr_list[-1]"
   ]
  },
  {
   "cell_type": "code",
   "execution_count": 66,
   "metadata": {
    "collapsed": true
   },
   "outputs": [],
   "source": [
    "next_td_list = next_tr_list[0].findAll('td')"
   ]
  },
  {
   "cell_type": "code",
   "execution_count": 67,
   "metadata": {
    "collapsed": false
   },
   "outputs": [
    {
     "data": {
      "text/plain": [
       "[<td align=\"center\" bgcolor=\"#FEFDE2\" height=\"23\">7</td>,\n",
       " <td align=\"center\" bgcolor=\"#FEFDE2\" height=\"23\"><a class=\"arttext_blue\" href=\"horse1.php?temp_horid=9348\" target=\"_blank\">超新鮮</a></td>,\n",
       " <td align=\"center\" bgcolor=\"#FEFDE2\" height=\"23\">4</td>,\n",
       " <td align=\"center\" bgcolor=\"#FEFDE2\" height=\"23\"><a class=\"arttext_blue\" href=\"jw.php?date=2012&amp;sorj_id=275\" target=\"_blank\">薛寶力</a></td>,\n",
       " <td align=\"center\" bgcolor=\"#FEFDE2\" height=\"23\">123</td>,\n",
       " <td align=\"center\" bgcolor=\"#FEFDE2\" height=\"23\">1</td>,\n",
       " <td align=\"center\" bgcolor=\"#FEFDE2\" height=\"23\">67</td>,\n",
       " <td align=\"center\" bgcolor=\"#FEFDE2\" height=\"23\"><a class=\"arttext_blue\" href=\"sw.php?date=2012&amp;sorj_id=83\" target=\"_blank\">姚</a></td>,\n",
       " <td align=\"center\" bgcolor=\"#FEFDE2\" height=\"23\">1121</td>,\n",
       " <td align=\"center\" bgcolor=\"#FEFDE2\" height=\"23\"><font color=\"000000\">4.8</font></td>,\n",
       " <td align=\"center\" bgcolor=\"#FEFDE2\" height=\"23\"><font color=\"800080\">3.7</font></td>,\n",
       " <td align=\"center\" bgcolor=\"#FEFDE2\" height=\"23\"><font color=\"red\">4.5</font></td>,\n",
       " <td align=\"center\" bgcolor=\"#FEFDE2\" height=\"23\">455</td>,\n",
       " <td align=\"center\" bgcolor=\"#FEFDE2\" height=\"23\">346</td>,\n",
       " <td align=\"center\" bgcolor=\"#FEFDE2\" height=\"23\">1.5</td>,\n",
       " <td align=\"center\" bgcolor=\"#FEFDE2\" height=\"23\">2 2</td>,\n",
       " <td align=\"center\" bgcolor=\"#FEFDE2\" height=\"23\"><b>1</b></td>,\n",
       " <td align=\"center\" bgcolor=\"#FEFDE2\" height=\"23\">12.75 21.61 23.01</td>,\n",
       " <td align=\"center\" bgcolor=\"#FEFDE2\" height=\"23\">(0.57.37)</td>,\n",
       " <td align=\"center\" bgcolor=\"#FEFDE2\" height=\"23\">頭馬</td>]"
      ]
     },
     "execution_count": 67,
     "metadata": {},
     "output_type": "execute_result"
    }
   ],
   "source": [
    "next_td_list"
   ]
  },
  {
   "cell_type": "code",
   "execution_count": 68,
   "metadata": {
    "collapsed": false
   },
   "outputs": [
    {
     "data": {
      "text/plain": [
       "'馬號\\t馬名\\t歲\\t騎師\\t負磅\\t檔\\t評分\\t廄\\t馬匹體重\\t賠率\\t獨贏票(萬)\\t位置票(萬)\\t位置賠率\\t走位\\t名次\\t分段時間\\t總時間\\t勝負距離'"
      ]
     },
     "execution_count": 68,
     "metadata": {},
     "output_type": "execute_result"
    }
   ],
   "source": [
    "'馬號\t馬名\t歲\t騎師\t負磅\t檔\t評分\t廄\t馬匹體重\t賠率\t獨贏票(萬)\t位置票(萬)\t位置賠率\t走位\t名次\t分段時間\t總時間\t勝負距離'\n"
   ]
  },
  {
   "cell_type": "code",
   "execution_count": 69,
   "metadata": {
    "collapsed": false
   },
   "outputs": [
    {
     "data": {
      "text/plain": [
       "'7\\t超新鮮\\t4\\t薛寶力\\t123\\t1\\t67\\t姚\\t1121\\t4.8\\t3.7\\t4.5\\t455\\t346\\t1.5\\t2 2\\t1\\t12.75 21.61 23.01\\t(0.57.37)\\t頭馬'"
      ]
     },
     "execution_count": 69,
     "metadata": {},
     "output_type": "execute_result"
    }
   ],
   "source": [
    "'7\t超新鮮\t4\t薛寶力\t123\t1\t67\t姚\t1121\t4.8\t3.7\t4.5\t455\t346\t1.5\t2 2\t1\t12.75 21.61 23.01\t(0.57.37)\t頭馬'"
   ]
  },
  {
   "cell_type": "code",
   "execution_count": 106,
   "metadata": {
    "collapsed": true
   },
   "outputs": [],
   "source": [
    "appledaily_web_columns = ['HorseNo','HorseName','Age','JockeyName','ActualWt', 'Draw', 'Rate','Owner','DeclarHorseWt','WinOddBeforeNight','WinOddBeforeGate','WinOdd','WinInTenThousand','PInTenThousand','P_Odd','PlaceInMiddle','Place', 'TimeInMiddle','FinishTime','LBW']\n",
    "\n"
   ]
  },
  {
   "cell_type": "code",
   "execution_count": 112,
   "metadata": {
    "collapsed": true
   },
   "outputs": [],
   "source": [
    "tmp_result = tmp_dict.copy()"
   ]
  },
  {
   "cell_type": "code",
   "execution_count": 113,
   "metadata": {
    "collapsed": true
   },
   "outputs": [],
   "source": [
    "result_df = pd.DataFrame(columns=appledaily_web_columns)"
   ]
  },
  {
   "cell_type": "code",
   "execution_count": 114,
   "metadata": {
    "collapsed": false
   },
   "outputs": [
    {
     "data": {
      "text/plain": [
       "{'ActualWt': 123,\n",
       " 'Age': 4,\n",
       " 'DeclarHorseWt': 1121,\n",
       " 'Draw': 1,\n",
       " 'FinishTime': '(0.57.37)',\n",
       " 'HorseName': '超新鮮',\n",
       " 'HorseNo': 7,\n",
       " 'JockeyName': '薛寶力',\n",
       " 'LBW': '頭馬',\n",
       " 'Owner': '姚',\n",
       " 'PInTenThousand': 346.0,\n",
       " 'P_Odd': 1.5,\n",
       " 'Place': 1,\n",
       " 'PlaceInMiddle': '2\\xa02',\n",
       " 'Rate': 67,\n",
       " 'TimeInMiddle': '12.75\\xa021.61\\xa023.01',\n",
       " 'WinInTenThousand': 455.0,\n",
       " 'WinOdd': 4.5,\n",
       " 'WinOddBeforeGate': 3.7,\n",
       " 'WinOddBeforeNight': 4.8}"
      ]
     },
     "execution_count": 114,
     "metadata": {},
     "output_type": "execute_result"
    }
   ],
   "source": [
    "try:\n",
    "    tmp_result['HorseNo'] = convert_str_to_int(next_td_list[0].text)\n",
    "except IndexError:\n",
    "    print('Can not find HorseNo')\n",
    "    \n",
    "try:\n",
    "    tmp_result['HorseName'] = next_td_list[1].text\n",
    "except IndexError:\n",
    "    print('Can not find HorseName')\n",
    "    \n",
    "try:\n",
    "    tmp_result['Age'] = convert_str_to_int(next_td_list[2].text)\n",
    "except IndexError:\n",
    "    print('Can not find Age')\n",
    "    \n",
    "try:\n",
    "    tmp_result['JockeyName'] = next_td_list[3].text\n",
    "except IndexError:\n",
    "    print('Can not find JockeyName')\n",
    "    \n",
    "try:\n",
    "    tmp_result['ActualWt'] = convert_str_to_int(next_td_list[4].text)\n",
    "except IndexError:\n",
    "    print('Can not find ActualWt')\n",
    "    \n",
    "try:\n",
    "    tmp_result['Draw'] = convert_str_to_int(next_td_list[5].text)\n",
    "except IndexError:\n",
    "    print('Can not find Draw')\n",
    "    \n",
    "try:\n",
    "    tmp_result['Rate'] = convert_str_to_int(next_td_list[6].text)\n",
    "except IndexError:\n",
    "    print('Can not find Rate')\n",
    "    \n",
    "try:\n",
    "    tmp_result['Owner'] = next_td_list[7].text\n",
    "except IndexError:\n",
    "    print('Can not find Owner')\n",
    "    \n",
    "try:\n",
    "    tmp_result['DeclarHorseWt'] = convert_str_to_int(next_td_list[8].text)\n",
    "except IndexError:\n",
    "    print('Can not find DeclarHorseWt')\n",
    "    \n",
    "try:\n",
    "    tmp_result['WinOddBeforeNight'] = convert_str_to_float(next_td_list[9].text)\n",
    "except IndexError:\n",
    "    print('Can not find WinOddBeforeNight')\n",
    "    \n",
    "try:\n",
    "    tmp_result['WinOddBeforeGate'] = convert_str_to_float(next_td_list[10].text)\n",
    "except IndexError:\n",
    "    print('Can not find WinOddBeforeGate')\n",
    "    \n",
    "try:\n",
    "    tmp_result['WinOdd'] = convert_str_to_float(next_td_list[11].text)\n",
    "except IndexError:\n",
    "    print('Can not find WinOdd')\n",
    "    \n",
    "try:\n",
    "    tmp_result['WinInTenThousand'] = convert_str_to_float(next_td_list[12].text)\n",
    "except IndexError:\n",
    "    print('Can not find WinInTenThousand')\n",
    "    \n",
    "try:\n",
    "    tmp_result['PInTenThousand'] = convert_str_to_float(next_td_list[13].text)\n",
    "except IndexError:\n",
    "    print('Can not find PInTenThousand')\n",
    "    \n",
    "try:\n",
    "    tmp_result['P_Odd'] = convert_str_to_float(next_td_list[14].text)\n",
    "except IndexError:\n",
    "    print('Can not find P_Odd')\n",
    "    \n",
    "try:\n",
    "    tmp_result['PlaceInMiddle'] = next_td_list[15].text\n",
    "except IndexError:\n",
    "    print('Can not find PlaceInMiddle')\n",
    "\n",
    "try:\n",
    "    tmp_result['Place'] = convert_str_to_int(next_td_list[16].text)\n",
    "except IndexError:\n",
    "    print('Can not find Place')\n",
    "    \n",
    "try:\n",
    "    tmp_result['TimeInMiddle'] = next_td_list[17].text\n",
    "except IndexError:\n",
    "    print('Can not find TimeInMiddle')\n",
    "    \n",
    "try:\n",
    "    tmp_result['FinishTime'] = next_td_list[18].text\n",
    "except IndexError:\n",
    "    print('Can not find FinishTime')\n",
    "\n",
    "try:\n",
    "    tmp_result['LBW'] = next_td_list[19].text\n",
    "except IndexError:\n",
    "    print('Can not find LBW')\n",
    "\n",
    "\n",
    "tmp_result"
   ]
  },
  {
   "cell_type": "code",
   "execution_count": null,
   "metadata": {
    "collapsed": true
   },
   "outputs": [],
   "source": []
  },
  {
   "cell_type": "code",
   "execution_count": null,
   "metadata": {
    "collapsed": true
   },
   "outputs": [],
   "source": []
  },
  {
   "cell_type": "code",
   "execution_count": null,
   "metadata": {
    "collapsed": true
   },
   "outputs": [],
   "source": []
  },
  {
   "cell_type": "code",
   "execution_count": null,
   "metadata": {
    "collapsed": true
   },
   "outputs": [],
   "source": []
  },
  {
   "cell_type": "code",
   "execution_count": null,
   "metadata": {
    "collapsed": true
   },
   "outputs": [],
   "source": []
  },
  {
   "cell_type": "code",
   "execution_count": null,
   "metadata": {
    "collapsed": true
   },
   "outputs": [],
   "source": []
  },
  {
   "cell_type": "code",
   "execution_count": null,
   "metadata": {
    "collapsed": true
   },
   "outputs": [],
   "source": []
  },
  {
   "cell_type": "code",
   "execution_count": null,
   "metadata": {
    "collapsed": true
   },
   "outputs": [],
   "source": []
  },
  {
   "cell_type": "code",
   "execution_count": null,
   "metadata": {
    "collapsed": true
   },
   "outputs": [],
   "source": []
  },
  {
   "cell_type": "code",
   "execution_count": null,
   "metadata": {
    "collapsed": true
   },
   "outputs": [],
   "source": []
  },
  {
   "cell_type": "code",
   "execution_count": null,
   "metadata": {
    "collapsed": true
   },
   "outputs": [],
   "source": []
  },
  {
   "cell_type": "code",
   "execution_count": null,
   "metadata": {
    "collapsed": true
   },
   "outputs": [],
   "source": []
  },
  {
   "cell_type": "code",
   "execution_count": null,
   "metadata": {
    "collapsed": true
   },
   "outputs": [],
   "source": []
  },
  {
   "cell_type": "code",
   "execution_count": null,
   "metadata": {
    "collapsed": true
   },
   "outputs": [],
   "source": []
  },
  {
   "cell_type": "code",
   "execution_count": 71,
   "metadata": {
    "collapsed": true
   },
   "outputs": [],
   "source": [
    "hockey_web_columns = ['Place', 'HorseNo', 'HorseName', 'HorseCode', 'JockeyName', 'JockeyCode', 'TrainerName', 'TrianerCode',\n",
    "           'ActualWt', 'DeclarHorseWt', 'Draw', 'LBW', 'FinishTime', 'WinOdd', 'SecTime1', 'SecTime2', 'SecTime3',\n",
    "           'SecTime4', 'SecTime5', 'SecTime6']"
   ]
  },
  {
   "cell_type": "code",
   "execution_count": 72,
   "metadata": {
    "collapsed": false
   },
   "outputs": [
    {
     "data": {
      "text/plain": [
       "'名次\\t馬號\\t馬名\\t騎師\\t練馬師\\t實際負磅\\t排位體重\\t檔位\\t頭馬距離\\t沿途走位\\t完成時間\\t獨贏賠率'"
      ]
     },
     "execution_count": 72,
     "metadata": {},
     "output_type": "execute_result"
    }
   ],
   "source": [
    "'名次\t馬號\t馬名\t騎師\t練馬師\t實際負磅\t排位體重\t檔位\t頭馬距離\t沿途走位\t完成時間\t獨贏賠率'"
   ]
  },
  {
   "cell_type": "code",
   "execution_count": 73,
   "metadata": {
    "collapsed": false
   },
   "outputs": [
    {
     "data": {
      "text/plain": [
       "'Plc.\\tHorse No.\\tHorse\\tJockey\\tTrainer\\tActual Wt.\\tDeclar.Horse Wt.\\tDraw\\tLBW\\tRunning Position\\tFinish Time\\tWin Odds'"
      ]
     },
     "execution_count": 73,
     "metadata": {},
     "output_type": "execute_result"
    }
   ],
   "source": [
    "'Plc.\tHorse No.\tHorse\tJockey\tTrainer\tActual Wt.\tDeclar.Horse Wt.\tDraw\tLBW\tRunning Position\tFinish Time\tWin Odds'"
   ]
  },
  {
   "cell_type": "code",
   "execution_count": 74,
   "metadata": {
    "collapsed": false
   },
   "outputs": [
    {
     "data": {
      "text/plain": [
       "'1\\t7\\tSUPER FRESH(N194)\\tA Suborics\\tP F Yiu\\t123\\t1121\\t1\\t-\\t2\\t2\\t1\\t0.57.37\\t4.5'"
      ]
     },
     "execution_count": 74,
     "metadata": {},
     "output_type": "execute_result"
    }
   ],
   "source": [
    "'1\t7\tSUPER FRESH(N194)\tA Suborics\tP F Yiu\t123\t1121\t1\t-\t2\t2\t1\t0.57.37\t4.5'"
   ]
  },
  {
   "cell_type": "code",
   "execution_count": null,
   "metadata": {
    "collapsed": true
   },
   "outputs": [],
   "source": []
  },
  {
   "cell_type": "code",
   "execution_count": 75,
   "metadata": {
    "collapsed": false
   },
   "outputs": [
    {
     "ename": "NameError",
     "evalue": "name 'columns' is not defined",
     "output_type": "error",
     "traceback": [
      "\u001b[0;31m---------------------------------------------------------------------------\u001b[0m",
      "\u001b[0;31mNameError\u001b[0m                                 Traceback (most recent call last)",
      "\u001b[0;32m<ipython-input-75-9f9f87caca54>\u001b[0m in \u001b[0;36m<module>\u001b[0;34m()\u001b[0m\n\u001b[0;32m----> 1\u001b[0;31m \u001b[0mresult_df\u001b[0m \u001b[0;34m=\u001b[0m \u001b[0mpd\u001b[0m\u001b[0;34m.\u001b[0m\u001b[0mDataFrame\u001b[0m\u001b[0;34m(\u001b[0m\u001b[0mcolumns\u001b[0m\u001b[0;34m=\u001b[0m\u001b[0mcolumns\u001b[0m\u001b[0;34m)\u001b[0m\u001b[0;34m\u001b[0m\u001b[0m\n\u001b[0m",
      "\u001b[0;31mNameError\u001b[0m: name 'columns' is not defined"
     ]
    }
   ],
   "source": []
  },
  {
   "cell_type": "code",
   "execution_count": null,
   "metadata": {
    "collapsed": true
   },
   "outputs": [],
   "source": [
    "jackey_url = 'http://racing.hkjc.com/racing/Info/meeting/Results/english/Local/20130206/HV/5'"
   ]
  },
  {
   "cell_type": "code",
   "execution_count": 76,
   "metadata": {
    "collapsed": false
   },
   "outputs": [
    {
     "data": {
      "text/plain": [
       "'http://bet.hkjc.com/racing/getXML.aspx?type=win&date=19-10-2016&venue=HV&raceno=1'"
      ]
     },
     "execution_count": 76,
     "metadata": {},
     "output_type": "execute_result"
    }
   ],
   "source": [
    "'http://bet.hkjc.com/racing/getXML.aspx?type=win&date=19-10-2016&venue=HV&raceno=1'\n"
   ]
  },
  {
   "cell_type": "code",
   "execution_count": null,
   "metadata": {
    "collapsed": true
   },
   "outputs": [],
   "source": []
  }
 ],
 "metadata": {
  "celltoolbar": "Raw Cell Format",
  "kernelspec": {
   "display_name": "Python [conda env:py36]",
   "language": "python",
   "name": "conda-env-py36-py"
  },
  "language_info": {
   "codemirror_mode": {
    "name": "ipython",
    "version": 3
   },
   "file_extension": ".py",
   "mimetype": "text/x-python",
   "name": "python",
   "nbconvert_exporter": "python",
   "pygments_lexer": "ipython3",
   "version": "3.6.1"
  }
 },
 "nbformat": 4,
 "nbformat_minor": 2
}
