{
 "cells": [
  {
   "cell_type": "markdown",
   "metadata": {},
   "source": [
    "### Import require library first"
   ]
  },
  {
   "cell_type": "code",
   "execution_count": 192,
   "metadata": {
    "collapsed": true
   },
   "outputs": [],
   "source": [
    "from bs4 import BeautifulSoup\n",
    "from html.parser import HTMLParser\n",
    "import pandas as pd\n",
    "from datetime import datetime\n",
    "\n",
    "import urllib.request, urllib.parse, urllib.error\n",
    "\n",
    "proxies = {\"http\": \"http://127.0.0.1:8090\",\n",
    "           \"https\": \"http://127.0.0.1:8090\"}\n",
    "\n",
    "# http://squidman.net/squidman/\n",
    "    \n",
    "#create the object, assign it to a variable\n",
    "proxy = urllib.request.ProxyHandler({'http': 'http://127.0.0.1:8090/','https': 'http://127.0.0.1:8090/'})\n",
    "# construct a new opener using your proxy settings\n",
    "opener = urllib.request.build_opener(proxy)\n",
    "# install the openen on the module-level\n",
    "urllib.request.install_opener(opener)"
   ]
  },
  {
   "cell_type": "code",
   "execution_count": 193,
   "metadata": {
    "collapsed": true
   },
   "outputs": [],
   "source": [
    "tmp_dict = {'HorseNo': None,\n",
    "'HorseName': None,\n",
    "'Age': None,\n",
    "'JockeyName': None,\n",
    "'ActualWt': None,\n",
    "'Draw': None,\n",
    "'Rate': None,\n",
    "'Owner': None,\n",
    "'DeclarHorseWt': None,\n",
    "'WinOddBeforeNight': None,\n",
    "'WinOddBeforeGate': None,             \n",
    "'WinOdd': None,\n",
    "'WinInTenThousand': None,\n",
    "'PInTenThousand': None,\n",
    "'P_Odd': None,\n",
    "'PlaceInMiddle': None,\n",
    "'Place': None,\n",
    "'TimeInMiddle': None,\n",
    "'FinishTime': None,\n",
    "'LBW': None\n",
    "}"
   ]
  },
  {
   "cell_type": "code",
   "execution_count": 194,
   "metadata": {
    "collapsed": true
   },
   "outputs": [],
   "source": [
    "def convert_str_to_int(int_str):\n",
    "    try:\n",
    "        return int(int_str)\n",
    "    except Exception as err:\n",
    "        return int_str\n",
    "\n",
    "def convert_str_to_float(int_str):\n",
    "    try:\n",
    "        return float(int_str)\n",
    "    except Exception as err:\n",
    "        return int_str"
   ]
  },
  {
   "cell_type": "code",
   "execution_count": 195,
   "metadata": {
    "collapsed": true
   },
   "outputs": [],
   "source": [
    "def get(url, data_list=None, max_try=3):\n",
    "    if data_list:\n",
    "        url = \"{}?{}\".format(url, urllib.parse.urlencode(data_list))\n",
    "    query = urllib.request.Request(url)\n",
    "    current_try = 0\n",
    "    while current_try < max_try:\n",
    "        try:\n",
    "            response = urllib.request.urlopen(query)\n",
    "            html = response.read()\n",
    "            response.close()\n",
    "            return html\n",
    "        except Exception as e:\n",
    "            return None\n",
    "    raise Exception(\"Cannot open page {}\".format(url))"
   ]
  },
  {
   "cell_type": "code",
   "execution_count": 196,
   "metadata": {
    "collapsed": true
   },
   "outputs": [],
   "source": [
    "# url = 'http://www.hkhorsedb.com/cseh/passodds.php'\n",
    "# html = get(url)\n",
    "# soup = BeautifulSoup(str(html, 'big5'), \"html.parser\")"
   ]
  },
  {
   "cell_type": "code",
   "execution_count": 197,
   "metadata": {},
   "outputs": [
    {
     "name": "stdout",
     "output_type": "stream",
     "text": [
      "['20170618', '20170614', '20170611', '20170604', '20170531', '20170528', '20170521', '20170517', '20170513', '20170507']\n",
      "['20051130', '20051123', '20051120', '20051116', '20051109', '20051105', '20051101', '20051026', '20051022', '20051019']\n"
     ]
    }
   ],
   "source": [
    "def get_race_date_array():\n",
    "    url = 'http://www.hkhorsedb.com/cseh/passodds.php'\n",
    "    html = get(url)\n",
    "    soup = BeautifulSoup(str(html, 'big5'), \"html.parser\")\n",
    "    tr_list = soup.findAll('table')[15].findAll('tr')[1:]\n",
    "    \n",
    "    race_date_array = []\n",
    "    \n",
    "    for i in range(0, len(tr_list)-1):\n",
    "        tr = tr_list[i]\n",
    "        tds = tr.findAll('td')\n",
    "        \n",
    "        for j in range(0, len(tds)-1):\n",
    "            detail_date = tds[j].text\n",
    "            \n",
    "            if (detail_date != \"-\"):\n",
    "                normal_data = ''.join(reversed(detail_date.split('-')))\n",
    "                \n",
    "                if(normal_data != \"\"):\n",
    "                    race_date_array.append(normal_data)\n",
    "    \n",
    "    return race_date_array\n",
    "    \n",
    "race_date_array = get_race_date_array()\n",
    "print(race_date_array[0:10])\n",
    "print(race_date_array[-10:])"
   ]
  },
  {
   "cell_type": "code",
   "execution_count": 198,
   "metadata": {
    "collapsed": true
   },
   "outputs": [],
   "source": [
    "# url = 'http://www.hkhorsedb.com/cseh/passodds.php'\n",
    "# html = get(url)\n",
    "# soup = BeautifulSoup(str(html, 'big5'), \"html.parser\")"
   ]
  },
  {
   "cell_type": "code",
   "execution_count": 199,
   "metadata": {
    "collapsed": true
   },
   "outputs": [],
   "source": [
    "# tr_list = soup.findAll('table')[15].findAll('tr')[1:]"
   ]
  },
  {
   "cell_type": "code",
   "execution_count": 200,
   "metadata": {
    "collapsed": true
   },
   "outputs": [],
   "source": [
    "# print(tr_list[1])"
   ]
  },
  {
   "cell_type": "code",
   "execution_count": 201,
   "metadata": {
    "collapsed": true
   },
   "outputs": [],
   "source": [
    "# tr = tr_list[0]\n",
    "# tds = tr.findAll('td')"
   ]
  },
  {
   "cell_type": "code",
   "execution_count": 202,
   "metadata": {
    "collapsed": true
   },
   "outputs": [],
   "source": [
    "# tds"
   ]
  },
  {
   "cell_type": "code",
   "execution_count": 203,
   "metadata": {
    "collapsed": true
   },
   "outputs": [],
   "source": [
    "# detail_date = tds[0].text\n",
    "# detail_date"
   ]
  },
  {
   "cell_type": "code",
   "execution_count": 204,
   "metadata": {
    "collapsed": true
   },
   "outputs": [],
   "source": [
    "# date_info = ''.join(detail_date.split('-'))\n",
    "# normal_data = ''.join(reversed(detail_date.split('-')))\n",
    "# normal_data"
   ]
  },
  {
   "cell_type": "code",
   "execution_count": 205,
   "metadata": {
    "collapsed": true
   },
   "outputs": [],
   "source": [
    "# 'http://racing.hkjc.com/racing/Info/meeting/Results/english/Local/20130206/HV/5'"
   ]
  },
  {
   "cell_type": "code",
   "execution_count": 206,
   "metadata": {
    "collapsed": true
   },
   "outputs": [],
   "source": [
    "# tr_last = tr_list[-5]\n",
    "# tds_last = tr_last.findAll('td')\n",
    "# tds_last"
   ]
  },
  {
   "cell_type": "code",
   "execution_count": 207,
   "metadata": {
    "collapsed": true
   },
   "outputs": [],
   "source": [
    "def acquire_appledaily_race_record(date_str, race_id):\n",
    "    url = 'http://hk.racing.nextmedia.com/fullresult.php?date={}&page={}'.format(date_str,race_id)\n",
    "    html = get(url)\n",
    "    soup = BeautifulSoup(str(html, 'utf-8'), \"html.parser\")\n",
    "    record_trs = soup.findAll('table')[2].findAll('tr')[2:-1]\n",
    "    return record_trs"
   ]
  },
  {
   "cell_type": "code",
   "execution_count": 208,
   "metadata": {
    "collapsed": true
   },
   "outputs": [],
   "source": [
    "# trs = acquire_appledaily_race_record(\"20130206\",\"05\")"
   ]
  },
  {
   "cell_type": "code",
   "execution_count": 209,
   "metadata": {
    "collapsed": true
   },
   "outputs": [],
   "source": [
    "# next_result = 'http://hk.racing.nextmedia.com/fullresult.php?date=20130206&page=05'"
   ]
  },
  {
   "cell_type": "code",
   "execution_count": 210,
   "metadata": {
    "collapsed": true
   },
   "outputs": [],
   "source": [
    "# html_next = get(next_result)"
   ]
  },
  {
   "cell_type": "code",
   "execution_count": 211,
   "metadata": {
    "collapsed": true
   },
   "outputs": [],
   "source": [
    "# soup_next = BeautifulSoup(str(html_next, 'utf-8'), \"html.parser\")"
   ]
  },
  {
   "cell_type": "code",
   "execution_count": 212,
   "metadata": {
    "collapsed": true
   },
   "outputs": [],
   "source": [
    "# next_tr_list = soup_next.findAll('table')[2].findAll('tr')[2:-1]\n",
    "# next_tr_list[0]"
   ]
  },
  {
   "cell_type": "code",
   "execution_count": 213,
   "metadata": {
    "collapsed": true
   },
   "outputs": [],
   "source": [
    "# next_tr_list[-1]"
   ]
  },
  {
   "cell_type": "code",
   "execution_count": 214,
   "metadata": {
    "collapsed": true
   },
   "outputs": [],
   "source": [
    "# next_td_list = next_tr_list[0].findAll('td')"
   ]
  },
  {
   "cell_type": "code",
   "execution_count": 215,
   "metadata": {
    "collapsed": true
   },
   "outputs": [],
   "source": [
    "# next_td_list"
   ]
  },
  {
   "cell_type": "code",
   "execution_count": 216,
   "metadata": {
    "collapsed": true
   },
   "outputs": [],
   "source": [
    "# '馬號\t馬名\t歲\t騎師\t負磅\t檔\t評分\t廄\t馬匹體重\t賠率\t獨贏票(萬)\t位置票(萬)\t位置賠率\t走位\t名次\t分段時間\t總時間\t勝負距離'"
   ]
  },
  {
   "cell_type": "code",
   "execution_count": 217,
   "metadata": {
    "collapsed": true
   },
   "outputs": [],
   "source": [
    "# '7\t超新鮮\t4\t薛寶力\t123\t1\t67\t姚\t1121\t4.8\t3.7\t4.5\t455\t346\t1.5\t2 2\t1\t12.75 21.61 23.01\t(0.57.37)\t頭馬'"
   ]
  },
  {
   "cell_type": "code",
   "execution_count": 218,
   "metadata": {
    "collapsed": true
   },
   "outputs": [],
   "source": [
    "appledaily_web_columns = ['Date','RaceNumber','HorseNo','HorseName','Age','JockeyName','ActualWt', 'Draw', 'Rate','Owner','DeclarHorseWt','WinOddBeforeNight','WinOddBeforeGate','WinOdd','WinInTenThousand','PInTenThousand','P_Odd','PlaceInMiddle','Place', 'TimeInMiddle','FinishTime','LBW']"
   ]
  },
  {
   "cell_type": "code",
   "execution_count": 219,
   "metadata": {
    "collapsed": true
   },
   "outputs": [],
   "source": [
    "tmp_result = tmp_dict.copy()"
   ]
  },
  {
   "cell_type": "code",
   "execution_count": null,
   "metadata": {
    "collapsed": true
   },
   "outputs": [],
   "source": []
  },
  {
   "cell_type": "code",
   "execution_count": 220,
   "metadata": {
    "collapsed": true
   },
   "outputs": [],
   "source": [
    "# setup the data array for later use\n",
    "result_df = pd.DataFrame(columns=appledaily_web_columns)\n",
    "\n",
    "def process_get_race_date_id(date_str, race_id): #, driver, race_course='ST'):\n",
    "    failed_info = ''\n",
    "    \n",
    "    next_tr_list = acquire_appledaily_race_record(date_str,race_id)\n",
    "    try:\n",
    "        for index in range(0, len(next_tr_list)-1):\n",
    "            tmp_result = tmp_dict.copy()\n",
    "\n",
    "#             print(index)\n",
    "\n",
    "            next_td_list = next_tr_list[index].findAll('td')\n",
    "            next_td_list\n",
    "\n",
    "            try:\n",
    "                tmp_result['Date'] = date_str\n",
    "            except: \n",
    "                print('Can not find Date')\n",
    "            \n",
    "            try:\n",
    "                tmp_result['RaceNumber'] = race_id\n",
    "            except: \n",
    "                print('Can not find Race Number')\n",
    "            \n",
    "            \n",
    "            try:\n",
    "                tmp_result['HorseNo'] = convert_str_to_int(next_td_list[0].text)\n",
    "            except IndexError:\n",
    "                print('Can not find HorseNo')\n",
    "\n",
    "            try:\n",
    "                tmp_result['HorseName'] = next_td_list[1].text\n",
    "            except IndexError:\n",
    "                print('Can not find HorseName')\n",
    "                continue\n",
    "\n",
    "            try:\n",
    "                tmp_result['Age'] = convert_str_to_int(next_td_list[2].text)\n",
    "            except IndexError:\n",
    "                print('Can not find Age')\n",
    "\n",
    "            try:\n",
    "                tmp_result['JockeyName'] = next_td_list[3].text\n",
    "            except IndexError:\n",
    "                print('Can not find JockeyName')\n",
    "\n",
    "            try:\n",
    "                tmp_result['ActualWt'] = convert_str_to_int(next_td_list[4].text)\n",
    "            except IndexError:\n",
    "                print('Can not find ActualWt')\n",
    "\n",
    "            try:\n",
    "                tmp_result['Draw'] = convert_str_to_int(next_td_list[5].text)\n",
    "            except IndexError:\n",
    "                print('Can not find Draw')\n",
    "\n",
    "            try:\n",
    "                tmp_result['Rate'] = convert_str_to_int(next_td_list[6].text)\n",
    "            except IndexError:\n",
    "                print('Can not find Rate')\n",
    "\n",
    "            try:\n",
    "                tmp_result['Owner'] = next_td_list[7].text\n",
    "            except IndexError:\n",
    "                print('Can not find Owner')\n",
    "\n",
    "            try:\n",
    "                tmp_result['DeclarHorseWt'] = convert_str_to_int(next_td_list[8].text)\n",
    "            except IndexError:\n",
    "                print('Can not find DeclarHorseWt')\n",
    "\n",
    "            try:\n",
    "                tmp_result['WinOddBeforeNight'] = convert_str_to_float(next_td_list[9].text)\n",
    "            except IndexError:\n",
    "                print('Can not find WinOddBeforeNight')\n",
    "\n",
    "            try:\n",
    "                tmp_result['WinOddBeforeGate'] = convert_str_to_float(next_td_list[10].text)\n",
    "            except IndexError:\n",
    "                print('Can not find WinOddBeforeGate')\n",
    "\n",
    "            try:\n",
    "                tmp_result['WinOdd'] = convert_str_to_float(next_td_list[11].text)\n",
    "            except IndexError:\n",
    "                print('Can not find WinOdd')\n",
    "\n",
    "            try:\n",
    "                tmp_result['WinInTenThousand'] = convert_str_to_float(next_td_list[12].text)\n",
    "            except IndexError:\n",
    "                print('Can not find WinInTenThousand')\n",
    "\n",
    "            try:\n",
    "                tmp_result['PInTenThousand'] = convert_str_to_float(next_td_list[13].text)\n",
    "            except IndexError:\n",
    "                print('Can not find PInTenThousand')\n",
    "\n",
    "            try:\n",
    "                tmp_result['P_Odd'] = convert_str_to_float(next_td_list[14].text)\n",
    "            except IndexError:\n",
    "                print('Can not find P_Odd')\n",
    "\n",
    "            try:\n",
    "                tmp_result['PlaceInMiddle'] = next_td_list[15].text\n",
    "            except IndexError:\n",
    "                print('Can not find PlaceInMiddle')\n",
    "\n",
    "            try:\n",
    "                tmp_result['Place'] = convert_str_to_int(next_td_list[16].text)\n",
    "            except IndexError:\n",
    "                print('Can not find Place')\n",
    "\n",
    "            try:\n",
    "                tmp_result['TimeInMiddle'] = next_td_list[17].text\n",
    "            except IndexError:\n",
    "                print('Can not find TimeInMiddle')\n",
    "\n",
    "            try:\n",
    "                tmp_result['FinishTime'] = next_td_list[18].text\n",
    "            except IndexError:\n",
    "                print('Can not find FinishTime')\n",
    "\n",
    "            try:\n",
    "                tmp_result['LBW'] = next_td_list[19].text\n",
    "            except IndexError:\n",
    "                print('Can not find LBW')\n",
    "\n",
    "            result_df.loc[index] = tmp_result\n",
    "\n",
    "    except Exception as err:\n",
    "        failed_info = '{} {}: test_failed as {}'.format(failed_info, datetime.today().strftime('%Y-%m-%d'), err)\n",
    "        print(failed_info)"
   ]
  },
  {
   "cell_type": "code",
   "execution_count": 221,
   "metadata": {},
   "outputs": [],
   "source": [
    "process_get_race_date_id(\"20130206\",\"05\")"
   ]
  },
  {
   "cell_type": "code",
   "execution_count": 222,
   "metadata": {},
   "outputs": [],
   "source": [
    "# result_df"
   ]
  },
  {
   "cell_type": "code",
   "execution_count": 223,
   "metadata": {},
   "outputs": [],
   "source": [
    "# Add Leading Zero\n",
    "# str(1).zfill(2) "
   ]
  },
  {
   "cell_type": "code",
   "execution_count": null,
   "metadata": {
    "collapsed": true
   },
   "outputs": [],
   "source": []
  },
  {
   "cell_type": "code",
   "execution_count": null,
   "metadata": {
    "collapsed": true
   },
   "outputs": [],
   "source": []
  },
  {
   "cell_type": "code",
   "execution_count": null,
   "metadata": {
    "collapsed": true
   },
   "outputs": [],
   "source": []
  },
  {
   "cell_type": "code",
   "execution_count": null,
   "metadata": {
    "collapsed": true
   },
   "outputs": [],
   "source": []
  },
  {
   "cell_type": "code",
   "execution_count": null,
   "metadata": {
    "collapsed": true
   },
   "outputs": [],
   "source": []
  },
  {
   "cell_type": "code",
   "execution_count": null,
   "metadata": {
    "collapsed": true
   },
   "outputs": [],
   "source": []
  },
  {
   "cell_type": "code",
   "execution_count": null,
   "metadata": {
    "collapsed": true
   },
   "outputs": [],
   "source": []
  },
  {
   "cell_type": "code",
   "execution_count": null,
   "metadata": {
    "collapsed": true
   },
   "outputs": [],
   "source": []
  },
  {
   "cell_type": "code",
   "execution_count": null,
   "metadata": {
    "collapsed": true
   },
   "outputs": [],
   "source": []
  },
  {
   "cell_type": "code",
   "execution_count": null,
   "metadata": {
    "collapsed": true
   },
   "outputs": [],
   "source": []
  },
  {
   "cell_type": "code",
   "execution_count": null,
   "metadata": {
    "collapsed": true
   },
   "outputs": [],
   "source": []
  },
  {
   "cell_type": "code",
   "execution_count": null,
   "metadata": {
    "collapsed": true
   },
   "outputs": [],
   "source": []
  },
  {
   "cell_type": "code",
   "execution_count": 224,
   "metadata": {
    "collapsed": true
   },
   "outputs": [],
   "source": [
    "# hockey_web_columns = ['Place', 'HorseNo', 'HorseName', 'HorseCode', 'JockeyName', 'JockeyCode', 'TrainerName', 'TrianerCode',\n",
    "#            'ActualWt', 'DeclarHorseWt', 'Draw', 'LBW', 'FinishTime', 'WinOdd', 'SecTime1', 'SecTime2', 'SecTime3',\n",
    "#            'SecTime4', 'SecTime5', 'SecTime6']"
   ]
  },
  {
   "cell_type": "code",
   "execution_count": 225,
   "metadata": {
    "collapsed": true
   },
   "outputs": [],
   "source": [
    "# '名次\t馬號\t馬名\t騎師\t練馬師\t實際負磅\t排位體重\t檔位\t頭馬距離\t沿途走位\t完成時間\t獨贏賠率'"
   ]
  },
  {
   "cell_type": "code",
   "execution_count": 226,
   "metadata": {
    "collapsed": true
   },
   "outputs": [],
   "source": [
    "# 'Plc.\tHorse No.\tHorse\tJockey\tTrainer\tActual Wt.\tDeclar.Horse Wt.\tDraw\tLBW\tRunning Position\tFinish Time\tWin Odds'"
   ]
  },
  {
   "cell_type": "code",
   "execution_count": 227,
   "metadata": {
    "collapsed": true
   },
   "outputs": [],
   "source": [
    "# '1\t7\tSUPER FRESH(N194)\tA Suborics\tP F Yiu\t123\t1121\t1\t-\t2\t2\t1\t0.57.37\t4.5'"
   ]
  },
  {
   "cell_type": "code",
   "execution_count": 228,
   "metadata": {
    "collapsed": true
   },
   "outputs": [],
   "source": [
    "# jackey_url = 'http://racing.hkjc.com/racing/Info/meeting/Results/english/Local/20130206/HV/5'"
   ]
  },
  {
   "cell_type": "code",
   "execution_count": 229,
   "metadata": {
    "collapsed": true
   },
   "outputs": [],
   "source": [
    "# 'http://bet.hkjc.com/racing/getXML.aspx?type=win&date=19-10-2016&venue=HV&raceno=1'"
   ]
  },
  {
   "cell_type": "code",
   "execution_count": null,
   "metadata": {
    "collapsed": true
   },
   "outputs": [],
   "source": []
  }
 ],
 "metadata": {
  "celltoolbar": "Raw Cell Format",
  "kernelspec": {
   "display_name": "Python 3",
   "language": "python",
   "name": "python3"
  },
  "language_info": {
   "codemirror_mode": {
    "name": "ipython",
    "version": 3
   },
   "file_extension": ".py",
   "mimetype": "text/x-python",
   "name": "python",
   "nbconvert_exporter": "python",
   "pygments_lexer": "ipython3",
   "version": "3.6.1"
  }
 },
 "nbformat": 4,
 "nbformat_minor": 1
}
