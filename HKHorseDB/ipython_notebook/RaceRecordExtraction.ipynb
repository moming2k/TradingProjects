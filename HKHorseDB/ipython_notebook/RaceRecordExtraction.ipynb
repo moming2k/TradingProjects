{
 "cells": [
  {
   "cell_type": "markdown",
   "metadata": {},
   "source": [
    "### Import require library first"
   ]
  },
  {
   "cell_type": "code",
   "execution_count": 7,
   "metadata": {
    "collapsed": true
   },
   "outputs": [],
   "source": [
    "from bs4 import BeautifulSoup\n",
    "from html.parser import HTMLParser\n",
    "import pandas as pd\n",
    "\n",
    "import urllib.request, urllib.parse, urllib.error"
   ]
  },
  {
   "cell_type": "code",
   "execution_count": 4,
   "metadata": {
    "collapsed": true
   },
   "outputs": [],
   "source": [
    "def get(url, data_list=None, max_try=3):\n",
    "    if data_list:\n",
    "        url = \"{}?{}\".format(url, urllib.parse.urlencode(data_list))\n",
    "    query = urllib.request.Request(url)\n",
    "    current_try = 0\n",
    "    while current_try < max_try:\n",
    "        try:\n",
    "            response = urllib.request.urlopen(query)\n",
    "            html = response.read()\n",
    "            response.close()\n",
    "            return html\n",
    "        except Exception as e:\n",
    "            return None\n",
    "    raise Exception(\"Cannot open page {}\".format(url))"
   ]
  },
  {
   "cell_type": "code",
   "execution_count": 8,
   "metadata": {
    "collapsed": false
   },
   "outputs": [],
   "source": [
    "url = 'http://www.hkhorsedb.com/cseh/passodds.php'\n",
    "html = get(url)\n",
    "soup = BeautifulSoup(str(html, 'big5'), \"html.parser\")"
   ]
  },
  {
   "cell_type": "code",
   "execution_count": 9,
   "metadata": {
    "collapsed": true
   },
   "outputs": [],
   "source": [
    "tr_list = soup.findAll('table')[15].findAll('tr')[1:]"
   ]
  },
  {
   "cell_type": "code",
   "execution_count": 11,
   "metadata": {
    "collapsed": false
   },
   "outputs": [
    {
     "name": "stdout",
     "output_type": "stream",
     "text": [
      "<tr height=\"22\"><td bgcolor=\"#FFE7CE\" style=\"TEXT-ALIGN: center\"><a href=\"javascript:;\" onclick=\"MM_openBrWindow('poddsleftxml.php?pcode=2&amp;rdate=04062017&amp;vrecno=1','passodds','scrollbars=yes,resizable=yes,width=1024,height=768')\">04-06-2017</a></td><td bgcolor=\"#FFE7CE\" style=\"TEXT-ALIGN: center\"><a href=\"javascript:;\" onclick=\"MM_openBrWindow('poddsleftxml.php?pcode=2&amp;rdate=31052017&amp;vrecno=1','passodds','scrollbars=yes,resizable=yes,width=1024,height=768')\">31-05-2017</a></td><td bgcolor=\"#FFE7CE\" style=\"TEXT-ALIGN: center\"><a href=\"javascript:;\" onclick=\"MM_openBrWindow('poddsleftxml.php?pcode=2&amp;rdate=28052017&amp;vrecno=1','passodds','scrollbars=yes,resizable=yes,width=1024,height=768')\">28-05-2017</a></td><td bgcolor=\"#FFE7CE\" style=\"TEXT-ALIGN: center\"><a href=\"javascript:;\" onclick=\"MM_openBrWindow('poddsleftxml.php?pcode=2&amp;rdate=24052017&amp;vrecno=1','passodds','scrollbars=yes,resizable=yes,width=1024,height=768')\">24-05-2017</a></td></tr>\n"
     ]
    }
   ],
   "source": [
    "print(tr_list[1])"
   ]
  },
  {
   "cell_type": "code",
   "execution_count": 18,
   "metadata": {
    "collapsed": false
   },
   "outputs": [],
   "source": [
    "tr = tr_list[0]\n",
    "tds = tr.findAll('td')"
   ]
  },
  {
   "cell_type": "code",
   "execution_count": 19,
   "metadata": {
    "collapsed": false
   },
   "outputs": [
    {
     "data": {
      "text/plain": [
       "[<td bgcolor=\"#FFE7CE\" style=\"TEXT-ALIGN: center\"><a href=\"javascript:;\" onclick=\"MM_openBrWindow('poddsleftxml.php?pcode=2&amp;rdate=18062017&amp;vrecno=1','passodds','scrollbars=yes,resizable=yes,width=1024,height=768')\">18-06-2017</a></td>,\n",
       " <td bgcolor=\"#FFE7CE\" style=\"TEXT-ALIGN: center\"><a href=\"javascript:;\" onclick=\"MM_openBrWindow('poddsleftxml.php?pcode=2&amp;rdate=14062017&amp;vrecno=1','passodds','scrollbars=yes,resizable=yes,width=1024,height=768')\">14-06-2017</a></td>,\n",
       " <td bgcolor=\"#FFE7CE\" style=\"TEXT-ALIGN: center\"><a href=\"javascript:;\" onclick=\"MM_openBrWindow('poddsleftxml.php?pcode=2&amp;rdate=11062017&amp;vrecno=1','passodds','scrollbars=yes,resizable=yes,width=1024,height=768')\">11-06-2017</a></td>,\n",
       " <td bgcolor=\"#FFE7CE\" style=\"TEXT-ALIGN: center\"><a href=\"javascript:;\" onclick=\"MM_openBrWindow('poddsleftxml.php?pcode=2&amp;rdate=07062017&amp;vrecno=1','passodds','scrollbars=yes,resizable=yes,width=1024,height=768')\">07-06-2017</a></td>]"
      ]
     },
     "execution_count": 19,
     "metadata": {},
     "output_type": "execute_result"
    }
   ],
   "source": [
    "tds"
   ]
  },
  {
   "cell_type": "code",
   "execution_count": 21,
   "metadata": {
    "collapsed": false
   },
   "outputs": [
    {
     "data": {
      "text/plain": [
       "'18-06-2017'"
      ]
     },
     "execution_count": 21,
     "metadata": {},
     "output_type": "execute_result"
    }
   ],
   "source": [
    "detail_date = tds[0].text\n",
    "detail_date"
   ]
  },
  {
   "cell_type": "code",
   "execution_count": 22,
   "metadata": {
    "collapsed": false
   },
   "outputs": [
    {
     "data": {
      "text/plain": [
       "'20170618'"
      ]
     },
     "execution_count": 22,
     "metadata": {},
     "output_type": "execute_result"
    }
   ],
   "source": [
    "date_info = ''.join(detail_date.split('-'))\n",
    "normal_data = ''.join(reversed(detail_date.split('-')))\n",
    "normal_data"
   ]
  },
  {
   "cell_type": "code",
   "execution_count": 23,
   "metadata": {
    "collapsed": false
   },
   "outputs": [
    {
     "data": {
      "text/plain": [
       "'http://racing.hkjc.com/racing/Info/meeting/Results/english/Local/20130206/HV/5'"
      ]
     },
     "execution_count": 23,
     "metadata": {},
     "output_type": "execute_result"
    }
   ],
   "source": [
    "'http://racing.hkjc.com/racing/Info/meeting/Results/english/Local/20130206/HV/5'"
   ]
  },
  {
   "cell_type": "code",
   "execution_count": 33,
   "metadata": {
    "collapsed": false
   },
   "outputs": [
    {
     "data": {
      "text/plain": [
       "[<td bgcolor=\"#FFE7CE\" style=\"TEXT-ALIGN: center\"><a href=\"javascript:;\" onclick=\"MM_openBrWindow('poddsleftxml.php?pcode=2&amp;rdate=&amp;vrecno=1','passodds','scrollbars=yes,resizable=yes,width=1024,height=768')\">--</a></td>,\n",
       " <td bgcolor=\"#FFE7CE\" style=\"TEXT-ALIGN: center\"><a href=\"javascript:;\" onclick=\"MM_openBrWindow('poddsleftxml.php?pcode=2&amp;rdate=&amp;vrecno=1','passodds','scrollbars=yes,resizable=yes,width=1024,height=768')\">--</a></td>,\n",
       " <td bgcolor=\"#FFE7CE\" style=\"TEXT-ALIGN: center\"><a href=\"javascript:;\" onclick=\"MM_openBrWindow('poddsleftxml.php?pcode=2&amp;rdate=&amp;vrecno=1','passodds','scrollbars=yes,resizable=yes,width=1024,height=768')\">--</a></td>,\n",
       " <td bgcolor=\"#FFE7CE\" style=\"TEXT-ALIGN: center\"><a href=\"javascript:;\" onclick=\"MM_openBrWindow('poddsleftxml.php?pcode=2&amp;rdate=&amp;vrecno=1','passodds','scrollbars=yes,resizable=yes,width=1024,height=768')\">--</a></td>]"
      ]
     },
     "execution_count": 33,
     "metadata": {},
     "output_type": "execute_result"
    }
   ],
   "source": [
    "tr_last = tr_list[-5]\n",
    "tds_last = tr_last.findAll('td')\n",
    "tds_last"
   ]
  },
  {
   "cell_type": "code",
   "execution_count": 48,
   "metadata": {
    "collapsed": true
   },
   "outputs": [],
   "source": [
    "jackey_url = 'http://racing.hkjc.com/racing/Info/meeting/Results/english/Local/20130206/HV/5'\n"
   ]
  },
  {
   "cell_type": "code",
   "execution_count": 35,
   "metadata": {
    "collapsed": false
   },
   "outputs": [],
   "source": [
    "next_result = 'http://hk.racing.nextmedia.com/fullresult.php?date=20051019&page=02'"
   ]
  },
  {
   "cell_type": "code",
   "execution_count": 36,
   "metadata": {
    "collapsed": true
   },
   "outputs": [],
   "source": [
    "html_next = get(next_result)\n"
   ]
  },
  {
   "cell_type": "code",
   "execution_count": 37,
   "metadata": {
    "collapsed": true
   },
   "outputs": [],
   "source": [
    "soup_next = BeautifulSoup(str(html_next, 'utf-8'), \"html.parser\")"
   ]
  },
  {
   "cell_type": "code",
   "execution_count": 44,
   "metadata": {
    "collapsed": false
   },
   "outputs": [
    {
     "data": {
      "text/plain": [
       "<tr><td align=\"center\" bgcolor=\"#FEFDE2\" height=\"20\"><span class=\"small\">7</span></td><td align=\"center\" bgcolor=\"#FEFDE2\" height=\"20\"><span class=\"small\"><a href=\"horse1.php?temp_horid=6156\" target=\"_blank\">歡樂精英</a></span></td><td align=\"center\" bgcolor=\"#FEFDE2\" height=\"20\"><span class=\"small\">4</span></td><td align=\"center\" bgcolor=\"#FEFDE2\" height=\"20\"><span class=\"small\"><a href=\"jw.php?date=2005&amp;sorj_id=281\" target=\"_blank\">柏寶    </a></span></td><td align=\"center\" bgcolor=\"#FEFDE2\" height=\"20\"><span class=\"small\">119</span></td><td align=\"center\" bgcolor=\"#FEFDE2\" height=\"20\"><span class=\"small\">3</span></td><td align=\"center\" bgcolor=\"#FEFDE2\" height=\"20\"><span class=\"small\">46</span></td><td align=\"center\" bgcolor=\"#FEFDE2\" height=\"20\"><span class=\"small\"><a href=\"sw.php?date=2005&amp;sorj_id=159\" target=\"_blank\">苗</a></span></td><td align=\"center\" bgcolor=\"#FEFDE2\" height=\"20\"><span class=\"small\">1161</span></td><td align=\"center\" bgcolor=\"#FEFDE2\" height=\"20\"><span class=\"small\"><font color=\"000000\">7.2</font></span></td><td align=\"center\" bgcolor=\"#FEFDE2\" height=\"20\"><span class=\"small\"><font color=\"blue\">5.1</font></span></td><td align=\"center\" bgcolor=\"#FEFDE2\" height=\"20\"><span class=\"small\"><font color=\"red\">4.4</font></span></td><td align=\"center\" bgcolor=\"#FEFDE2\" height=\"20\"><span class=\"small\">245</span></td><td align=\"center\" bgcolor=\"#FEFDE2\" height=\"20\"><span class=\"small\">186</span></td><td align=\"center\" bgcolor=\"#FEFDE2\" height=\"20\"><span class=\"small\">1.4-2.1</span></td><td align=\"center\" bgcolor=\"#FEFDE2\" height=\"20\"><span class=\"small\">5 5 5</span></td><td align=\"center\" bgcolor=\"#FEFDE2\" height=\"20\"><span class=\"small\"><b>1</b></span></td><td align=\"center\" bgcolor=\"#FEFDE2\" height=\"20\"><span class=\"small\">(1.10.4)</span></td><td align=\"center\" bgcolor=\"#FEFDE2\" height=\"20\"><span class=\"small\">頭馬</span></td></tr>"
      ]
     },
     "execution_count": 44,
     "metadata": {},
     "output_type": "execute_result"
    }
   ],
   "source": [
    "next_tr_list = soup_next.findAll('table')[2].findAll('tr')[2:-1]\n",
    "next_tr_list[0]                                                     "
   ]
  },
  {
   "cell_type": "code",
   "execution_count": 45,
   "metadata": {
    "collapsed": false
   },
   "outputs": [
    {
     "data": {
      "text/plain": [
       "<tr><td align=\"center\" bgcolor=\"#CCE4DE\" height=\"20\"><span class=\"small\">10</span></td><td align=\"center\" bgcolor=\"#CCE4DE\" height=\"20\"><span class=\"small\"><a href=\"horse1.php?temp_horid=5991\" target=\"_blank\">乖巧</a></span></td><td align=\"center\" bgcolor=\"#CCE4DE\" height=\"20\"><span class=\"small\">4</span></td><td align=\"center\" bgcolor=\"#CCE4DE\" height=\"20\"><span class=\"small\"><a href=\"jw.php?date=2005&amp;sorj_id=283\" target=\"_blank\">梁明偉  </a></span></td><td align=\"center\" bgcolor=\"#CCE4DE\" height=\"20\"><span class=\"small\">114</span></td><td align=\"center\" bgcolor=\"#CCE4DE\" height=\"20\"><span class=\"small\">5</span></td><td align=\"center\" bgcolor=\"#CCE4DE\" height=\"20\"><span class=\"small\">41</span></td><td align=\"center\" bgcolor=\"#CCE4DE\" height=\"20\"><span class=\"small\"><a href=\"sw.php?date=2005&amp;sorj_id=264\" target=\"_blank\">賀</a></span></td><td align=\"center\" bgcolor=\"#CCE4DE\" height=\"20\"><span class=\"small\">1053</span></td><td align=\"center\" bgcolor=\"#CCE4DE\" height=\"20\"><span class=\"small\"><font color=\"000000\">30</font></span></td><td align=\"center\" bgcolor=\"#CCE4DE\" height=\"20\"><span class=\"small\"><font color=\"blue\">35</font></span></td><td align=\"center\" bgcolor=\"#CCE4DE\" height=\"20\"><span class=\"small\"><font color=\"red\">41</font></span></td><td align=\"center\" bgcolor=\"#CCE4DE\" height=\"20\"><span class=\"small\">26</span></td><td align=\"center\" bgcolor=\"#CCE4DE\" height=\"20\"><span class=\"small\">19</span></td><td align=\"center\" bgcolor=\"#CCE4DE\" height=\"20\"><span class=\"small\">7.9-14</span></td><td align=\"center\" bgcolor=\"#CCE4DE\" height=\"20\"><span class=\"small\">9 10 10</span></td><td align=\"center\" bgcolor=\"#CCE4DE\" height=\"20\"><span class=\"small\"><b>12</b></span></td><td align=\"center\" bgcolor=\"#CCE4DE\" height=\"20\"><span class=\"small\">(1.11.7)</span></td><td align=\"center\" bgcolor=\"#CCE4DE\" height=\"20\"><span class=\"small\">7-3/4</span></td></tr>"
      ]
     },
     "execution_count": 45,
     "metadata": {},
     "output_type": "execute_result"
    }
   ],
   "source": [
    "next_tr_list[-1]"
   ]
  },
  {
   "cell_type": "code",
   "execution_count": 46,
   "metadata": {
    "collapsed": true
   },
   "outputs": [],
   "source": [
    "next_td_list = next_tr_list[0].findAll('td')"
   ]
  },
  {
   "cell_type": "code",
   "execution_count": 47,
   "metadata": {
    "collapsed": false
   },
   "outputs": [
    {
     "data": {
      "text/plain": [
       "[<td align=\"center\" bgcolor=\"#FEFDE2\" height=\"20\"><span class=\"small\">7</span></td>,\n",
       " <td align=\"center\" bgcolor=\"#FEFDE2\" height=\"20\"><span class=\"small\"><a href=\"horse1.php?temp_horid=6156\" target=\"_blank\">歡樂精英</a></span></td>,\n",
       " <td align=\"center\" bgcolor=\"#FEFDE2\" height=\"20\"><span class=\"small\">4</span></td>,\n",
       " <td align=\"center\" bgcolor=\"#FEFDE2\" height=\"20\"><span class=\"small\"><a href=\"jw.php?date=2005&amp;sorj_id=281\" target=\"_blank\">柏寶    </a></span></td>,\n",
       " <td align=\"center\" bgcolor=\"#FEFDE2\" height=\"20\"><span class=\"small\">119</span></td>,\n",
       " <td align=\"center\" bgcolor=\"#FEFDE2\" height=\"20\"><span class=\"small\">3</span></td>,\n",
       " <td align=\"center\" bgcolor=\"#FEFDE2\" height=\"20\"><span class=\"small\">46</span></td>,\n",
       " <td align=\"center\" bgcolor=\"#FEFDE2\" height=\"20\"><span class=\"small\"><a href=\"sw.php?date=2005&amp;sorj_id=159\" target=\"_blank\">苗</a></span></td>,\n",
       " <td align=\"center\" bgcolor=\"#FEFDE2\" height=\"20\"><span class=\"small\">1161</span></td>,\n",
       " <td align=\"center\" bgcolor=\"#FEFDE2\" height=\"20\"><span class=\"small\"><font color=\"000000\">7.2</font></span></td>,\n",
       " <td align=\"center\" bgcolor=\"#FEFDE2\" height=\"20\"><span class=\"small\"><font color=\"blue\">5.1</font></span></td>,\n",
       " <td align=\"center\" bgcolor=\"#FEFDE2\" height=\"20\"><span class=\"small\"><font color=\"red\">4.4</font></span></td>,\n",
       " <td align=\"center\" bgcolor=\"#FEFDE2\" height=\"20\"><span class=\"small\">245</span></td>,\n",
       " <td align=\"center\" bgcolor=\"#FEFDE2\" height=\"20\"><span class=\"small\">186</span></td>,\n",
       " <td align=\"center\" bgcolor=\"#FEFDE2\" height=\"20\"><span class=\"small\">1.4-2.1</span></td>,\n",
       " <td align=\"center\" bgcolor=\"#FEFDE2\" height=\"20\"><span class=\"small\">5 5 5</span></td>,\n",
       " <td align=\"center\" bgcolor=\"#FEFDE2\" height=\"20\"><span class=\"small\"><b>1</b></span></td>,\n",
       " <td align=\"center\" bgcolor=\"#FEFDE2\" height=\"20\"><span class=\"small\">(1.10.4)</span></td>,\n",
       " <td align=\"center\" bgcolor=\"#FEFDE2\" height=\"20\"><span class=\"small\">頭馬</span></td>]"
      ]
     },
     "execution_count": 47,
     "metadata": {},
     "output_type": "execute_result"
    }
   ],
   "source": [
    "next_td_list"
   ]
  },
  {
   "cell_type": "code",
   "execution_count": null,
   "metadata": {
    "collapsed": true
   },
   "outputs": [],
   "source": []
  }
 ],
 "metadata": {
  "celltoolbar": "Raw Cell Format",
  "kernelspec": {
   "display_name": "Python [conda env:py36]",
   "language": "python",
   "name": "conda-env-py36-py"
  },
  "language_info": {
   "codemirror_mode": {
    "name": "ipython",
    "version": 3
   },
   "file_extension": ".py",
   "mimetype": "text/x-python",
   "name": "python",
   "nbconvert_exporter": "python",
   "pygments_lexer": "ipython3",
   "version": "3.6.1"
  }
 },
 "nbformat": 4,
 "nbformat_minor": 2
}
